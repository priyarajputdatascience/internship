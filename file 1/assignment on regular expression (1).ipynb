{
 "cells": [
  {
   "cell_type": "code",
   "execution_count": null,
   "id": "7ecb80d1",
   "metadata": {},
   "outputs": [],
   "source": [
    "# Assignment on regular expression"
   ]
  },
  {
   "cell_type": "code",
   "execution_count": null,
   "id": "12c49953",
   "metadata": {},
   "outputs": [],
   "source": []
  },
  {
   "cell_type": "code",
   "execution_count": null,
   "id": "dac6d5af",
   "metadata": {},
   "outputs": [],
   "source": [
    "#Question no 1: Write a Python program to replace all occurrences of a space, comma, or dot with a colon."
   ]
  },
  {
   "cell_type": "code",
   "execution_count": 5,
   "id": "99bcdbfe",
   "metadata": {},
   "outputs": [],
   "source": [
    "import pandas as pd\n",
    "import regex as re"
   ]
  },
  {
   "cell_type": "code",
   "execution_count": 7,
   "id": "f08b7705",
   "metadata": {},
   "outputs": [],
   "source": [
    "text= 'My favourite sports are football, swimming, boxing and golf.'"
   ]
  },
  {
   "cell_type": "code",
   "execution_count": 9,
   "id": "b0358ac1",
   "metadata": {},
   "outputs": [
    {
     "name": "stdout",
     "output_type": "stream",
     "text": [
      "My:favourite:sports:are:football::swimming::boxing:and:golf:\n"
     ]
    }
   ],
   "source": [
    "print(re.sub(\"[ ,.]\" , \":\", text))"
   ]
  },
  {
   "cell_type": "code",
   "execution_count": null,
   "id": "051da4e7",
   "metadata": {},
   "outputs": [],
   "source": []
  },
  {
   "cell_type": "code",
   "execution_count": null,
   "id": "509e54d2",
   "metadata": {},
   "outputs": [],
   "source": [
    "#Question no 2:  Create a dataframe using the dictionary below and remove everything (commas (,), !, XXXX, ;, etc.) from the columns except words"
   ]
  },
  {
   "cell_type": "code",
   "execution_count": 11,
   "id": "62dfe209",
   "metadata": {},
   "outputs": [],
   "source": [
    "import pandas as pd\n",
    "import regex as re"
   ]
  },
  {
   "cell_type": "code",
   "execution_count": 12,
   "id": "0f8c09c0",
   "metadata": {},
   "outputs": [],
   "source": [
    "Data= {'SUMMARY':['hello, world!', 'test','123four, five :;six...']}"
   ]
  },
  {
   "cell_type": "code",
   "execution_count": 13,
   "id": "de0cd18f",
   "metadata": {},
   "outputs": [],
   "source": [
    "pattern=r'[^a-zA-Z\\s]'"
   ]
  },
  {
   "cell_type": "code",
   "execution_count": 14,
   "id": "9561cefb",
   "metadata": {},
   "outputs": [],
   "source": [
    "df=pd.DataFrame(Data)"
   ]
  },
  {
   "cell_type": "code",
   "execution_count": 15,
   "id": "856fa91c",
   "metadata": {},
   "outputs": [
    {
     "data": {
      "text/plain": [
       "0      hello world\n",
       "1             test\n",
       "2    four five six\n",
       "Name: SUMMARY, dtype: object"
      ]
     },
     "execution_count": 15,
     "metadata": {},
     "output_type": "execute_result"
    }
   ],
   "source": [
    "df['SUMMARY'].apply(lambda x : re.sub(pattern,'',x))"
   ]
  },
  {
   "cell_type": "code",
   "execution_count": null,
   "id": "93b223ef",
   "metadata": {},
   "outputs": [],
   "source": []
  },
  {
   "cell_type": "code",
   "execution_count": null,
   "id": "ad018895",
   "metadata": {},
   "outputs": [],
   "source": [
    "#Question no 3: Create a function in python to find all words that are at least 4 characters long in a string. The use of the re.compile() method is mandatory."
   ]
  },
  {
   "cell_type": "code",
   "execution_count": 10,
   "id": "c6831c12",
   "metadata": {},
   "outputs": [],
   "source": [
    "import pandas as pd\n",
    "import regex as re\n",
    " "
   ]
  },
  {
   "cell_type": "code",
   "execution_count": 43,
   "id": "df2bfbbf",
   "metadata": {},
   "outputs": [],
   "source": [
    "str1= \"use extra time in the next few days.\""
   ]
  },
  {
   "cell_type": "code",
   "execution_count": 44,
   "id": "5d3fcea9",
   "metadata": {},
   "outputs": [],
   "source": [
    "pattern= re.compile(r'\\b\\w{4,}\\b')"
   ]
  },
  {
   "cell_type": "code",
   "execution_count": 45,
   "id": "3cdb41d0",
   "metadata": {},
   "outputs": [],
   "source": [
    "match= pattern.findall(str1)"
   ]
  },
  {
   "cell_type": "code",
   "execution_count": 46,
   "id": "723c66ca",
   "metadata": {},
   "outputs": [
    {
     "name": "stdout",
     "output_type": "stream",
     "text": [
      "['extra', 'time', 'next', 'days']\n"
     ]
    }
   ],
   "source": [
    "print (match)"
   ]
  },
  {
   "cell_type": "code",
   "execution_count": null,
   "id": "92b4c5b9",
   "metadata": {},
   "outputs": [],
   "source": []
  },
  {
   "cell_type": "code",
   "execution_count": null,
   "id": "821919b6",
   "metadata": {},
   "outputs": [],
   "source": [
    "#Question no 4: Create a function in python to find all three, four, and five character words in a string. The use of the re.compile() method is mandatory."
   ]
  },
  {
   "cell_type": "code",
   "execution_count": 1,
   "id": "ff3797af",
   "metadata": {},
   "outputs": [],
   "source": [
    "import pandas as pd\n",
    "import regex as re"
   ]
  },
  {
   "cell_type": "code",
   "execution_count": 12,
   "id": "688db72c",
   "metadata": {},
   "outputs": [],
   "source": [
    "str2= \"I am not excited any more than you are priya.\""
   ]
  },
  {
   "cell_type": "code",
   "execution_count": 13,
   "id": "7eb9e398",
   "metadata": {},
   "outputs": [],
   "source": [
    "pattern= re.compile(r'\\b\\w{3,5}\\b')"
   ]
  },
  {
   "cell_type": "code",
   "execution_count": 14,
   "id": "d03c41fc",
   "metadata": {},
   "outputs": [],
   "source": [
    "match= pattern.findall(str2)"
   ]
  },
  {
   "cell_type": "code",
   "execution_count": 15,
   "id": "4a4ca705",
   "metadata": {},
   "outputs": [
    {
     "name": "stdout",
     "output_type": "stream",
     "text": [
      "['not', 'any', 'more', 'than', 'you', 'are', 'priya']\n"
     ]
    }
   ],
   "source": [
    "print(match)"
   ]
  },
  {
   "cell_type": "code",
   "execution_count": null,
   "id": "a3ff7511",
   "metadata": {},
   "outputs": [],
   "source": []
  },
  {
   "cell_type": "code",
   "execution_count": null,
   "id": "a71b9596",
   "metadata": {},
   "outputs": [],
   "source": [
    "#Question no 5: Create a function in Python to remove the parenthesis in a list of strings. The use of the re.compile() method is mandatory."
   ]
  },
  {
   "cell_type": "code",
   "execution_count": 1,
   "id": "4833a8aa",
   "metadata": {},
   "outputs": [],
   "source": [
    "import pandas as pd\n",
    "import regex as re"
   ]
  },
  {
   "cell_type": "code",
   "execution_count": 17,
   "id": "c586019a",
   "metadata": {},
   "outputs": [],
   "source": [
    "def remove_parentheses(my_list):\n",
    "    pattern = re.compile(r'\\(|\\)')\n",
    "    return [pattern.sub('',s) for s in my_list]"
   ]
  },
  {
   "cell_type": "code",
   "execution_count": 18,
   "id": "88c46dbf",
   "metadata": {},
   "outputs": [
    {
     "name": "stdout",
     "output_type": "stream",
     "text": [
      "['example.com', 'github.com', 'HelloData Science World', 'foo bar', 'baz qux', 'Data Scientist']\n"
     ]
    }
   ],
   "source": [
    "my_list = ['example(.com)','github(.com)','Hello(Data Science World)','foo (bar)', 'baz (qux)','Data (Scientist)']\n",
    "new_list = remove_parentheses(my_list)\n",
    "print(new_list)"
   ]
  },
  {
   "cell_type": "code",
   "execution_count": null,
   "id": "0e618700",
   "metadata": {},
   "outputs": [],
   "source": []
  },
  {
   "cell_type": "code",
   "execution_count": null,
   "id": "34265bb5",
   "metadata": {},
   "outputs": [],
   "source": [
    "#Question no 6: Write a python program to remove the parenthesis area from the text stored in the text file using Regular Expression."
   ]
  },
  {
   "cell_type": "code",
   "execution_count": 25,
   "id": "0f082aa4",
   "metadata": {},
   "outputs": [],
   "source": [
    "import pandas as pd\n",
    "import regex as re"
   ]
  },
  {
   "cell_type": "code",
   "execution_count": 26,
   "id": "b30076a8",
   "metadata": {},
   "outputs": [],
   "source": [
    "sample_text= [\"example(.com)\",\"hr@fliprobo(.com)\",\"github(.com)\",\"Hello(Data Science World)\",\"Data(Scientist)\"] "
   ]
  },
  {
   "cell_type": "code",
   "execution_count": 27,
   "id": "5521a067",
   "metadata": {},
   "outputs": [],
   "source": [
    "with open('sample_text.txt','r')as file:\n",
    "    text=file.read()"
   ]
  },
  {
   "cell_type": "code",
   "execution_count": 28,
   "id": "ceb38bbb",
   "metadata": {},
   "outputs": [
    {
     "name": "stdout",
     "output_type": "stream",
     "text": [
      "example hr@fliprobo github Hello Data \n"
     ]
    }
   ],
   "source": [
    "text=re.sub(r'\\(.*?\\)', ' ' , text)\n",
    "print(text)"
   ]
  },
  {
   "cell_type": "code",
   "execution_count": null,
   "id": "e4081f30",
   "metadata": {},
   "outputs": [],
   "source": []
  },
  {
   "cell_type": "code",
   "execution_count": null,
   "id": "ebf848e4",
   "metadata": {},
   "outputs": [],
   "source": [
    "#Question no 7:  Write a regular expression in Python to split a string into uppercase letters."
   ]
  },
  {
   "cell_type": "code",
   "execution_count": 36,
   "id": "cde9e74c",
   "metadata": {},
   "outputs": [],
   "source": [
    "import pandas as pd\n",
    "import regex as re"
   ]
  },
  {
   "cell_type": "code",
   "execution_count": 37,
   "id": "27e5b4c6",
   "metadata": {},
   "outputs": [],
   "source": [
    "text= \"ThisIsStringWithUppercaseLetters\""
   ]
  },
  {
   "cell_type": "code",
   "execution_count": 38,
   "id": "41e43657",
   "metadata": {},
   "outputs": [
    {
     "name": "stdout",
     "output_type": "stream",
     "text": [
      "['This', 'Is', 'String', 'With', 'Uppercase', 'Letters']\n"
     ]
    }
   ],
   "source": [
    "print(re.findall('[A-Z][^A-Z]*', text))"
   ]
  },
  {
   "cell_type": "code",
   "execution_count": null,
   "id": "c0d65ad9",
   "metadata": {},
   "outputs": [],
   "source": []
  },
  {
   "cell_type": "code",
   "execution_count": null,
   "id": "859c1466",
   "metadata": {},
   "outputs": [],
   "source": [
    "#Question no 8: Create a function in python to insert spaces between words starting with numbers."
   ]
  },
  {
   "cell_type": "code",
   "execution_count": 39,
   "id": "575223f5",
   "metadata": {},
   "outputs": [],
   "source": [
    "import pandas as pd\n",
    "import regex as re"
   ]
  },
  {
   "cell_type": "code",
   "execution_count": 40,
   "id": "e529c9a6",
   "metadata": {},
   "outputs": [],
   "source": [
    "def insert_spaces(string):\n",
    "    pattern=r'([a-zA-Z])(\\d)'\n",
    "    repl= r'\\1 \\2'\n",
    "    modified_string= re.sub(pattern, repl, string)\n",
    "    return modified_string"
   ]
  },
  {
   "cell_type": "code",
   "execution_count": 41,
   "id": "9e5fb011",
   "metadata": {},
   "outputs": [
    {
     "name": "stdout",
     "output_type": "stream",
     "text": [
      "RegularExpression 1IsAn 2ImportantTopic 3InPython\n"
     ]
    }
   ],
   "source": [
    "string1= \"RegularExpression1IsAn2ImportantTopic3InPython\"\n",
    "output= insert_spaces(string1)\n",
    "print(output)"
   ]
  },
  {
   "cell_type": "code",
   "execution_count": null,
   "id": "cec177a0",
   "metadata": {},
   "outputs": [],
   "source": []
  },
  {
   "cell_type": "code",
   "execution_count": null,
   "id": "c6f0c7d1",
   "metadata": {},
   "outputs": [],
   "source": [
    "#Question no 9: Create a function in python to insert spaces between words starting with capital letters or with numbers."
   ]
  },
  {
   "cell_type": "code",
   "execution_count": 81,
   "id": "f78f943a",
   "metadata": {},
   "outputs": [],
   "source": [
    "import pandas as pd\n",
    "import regex as re"
   ]
  },
  {
   "cell_type": "code",
   "execution_count": 82,
   "id": "bbb1ac91",
   "metadata": {},
   "outputs": [],
   "source": [
    "test_str= \"RegularExpression1IsAn2ImportantTopic3InPython\""
   ]
  },
  {
   "cell_type": "code",
   "execution_count": 83,
   "id": "46023465",
   "metadata": {},
   "outputs": [],
   "source": [
    "num=\"0123456789\"\n",
    "for i in num:\n",
    "    if i in num:\n",
    "        test_str=test_str.replace(i, \" \"+i+\" \")       "
   ]
  },
  {
   "cell_type": "code",
   "execution_count": 84,
   "id": "e7437c3b",
   "metadata": {},
   "outputs": [
    {
     "name": "stdout",
     "output_type": "stream",
     "text": [
      "The space added string:RegularExpression 1 IsAn 2 ImportantTopic 3 InPython\n"
     ]
    }
   ],
   "source": [
    "res=test_str\n",
    "print(\"The space added string:\" + str(res))"
   ]
  },
  {
   "cell_type": "code",
   "execution_count": null,
   "id": "ad3089c8",
   "metadata": {},
   "outputs": [],
   "source": []
  },
  {
   "cell_type": "code",
   "execution_count": null,
   "id": "cb2bb53c",
   "metadata": {},
   "outputs": [],
   "source": [
    "#Question no 10: Use the github link below to read the data and create a dataframe. After creating the dataframe extract the first 6 letters of each country and store in the dataframe under a new column called first_five_letters."
   ]
  },
  {
   "cell_type": "code",
   "execution_count": 22,
   "id": "d857c77b",
   "metadata": {},
   "outputs": [],
   "source": [
    "import pandas as pd"
   ]
  },
  {
   "cell_type": "code",
   "execution_count": 23,
   "id": "0567ae5b",
   "metadata": {},
   "outputs": [],
   "source": [
    "url= \"https://raw.githubusercontent.com/dsrscientist/DSData/master/happiness_score_dataset.csv\""
   ]
  },
  {
   "cell_type": "code",
   "execution_count": 24,
   "id": "1d9d995b",
   "metadata": {},
   "outputs": [],
   "source": [
    "df= pd.read_csv(url)"
   ]
  },
  {
   "cell_type": "code",
   "execution_count": 25,
   "id": "d686e8ce",
   "metadata": {},
   "outputs": [],
   "source": [
    "df= df['Country'].str[:6]\n"
   ]
  },
  {
   "cell_type": "code",
   "execution_count": 26,
   "id": "4f65fbec",
   "metadata": {},
   "outputs": [
    {
     "name": "stdout",
     "output_type": "stream",
     "text": [
      "0      Switze\n",
      "1      Icelan\n",
      "2      Denmar\n",
      "3      Norway\n",
      "4      Canada\n",
      "        ...  \n",
      "153    Rwanda\n",
      "154     Benin\n",
      "155     Syria\n",
      "156    Burund\n",
      "157      Togo\n",
      "Name: Country, Length: 158, dtype: object\n"
     ]
    }
   ],
   "source": [
    "print(df)"
   ]
  },
  {
   "cell_type": "code",
   "execution_count": null,
   "id": "cce1eaa3",
   "metadata": {},
   "outputs": [],
   "source": []
  },
  {
   "cell_type": "code",
   "execution_count": null,
   "id": "b88776c4",
   "metadata": {},
   "outputs": [],
   "source": [
    "#Question no 11: Write a Python program to match a string that contains only upper and lowercase letters, numbers, and underscores."
   ]
  },
  {
   "cell_type": "code",
   "execution_count": 1,
   "id": "b2edea9c",
   "metadata": {},
   "outputs": [],
   "source": [
    "import pandas as pd\n",
    "import regex as re"
   ]
  },
  {
   "cell_type": "code",
   "execution_count": 2,
   "id": "1395d3b4",
   "metadata": {},
   "outputs": [],
   "source": [
    "def match_string(text):\n",
    "    pattern= r'^[a-zA-Z0-9_]*$'\n",
    "    if re.search(pattern, text):\n",
    "        return 'match found!'\n",
    "    else:\n",
    "        return 'no match found.'\n",
    "    "
   ]
  },
  {
   "cell_type": "code",
   "execution_count": 3,
   "id": "215b90be",
   "metadata": {},
   "outputs": [
    {
     "name": "stdout",
     "output_type": "stream",
     "text": [
      "no match found.\n",
      "match found!\n"
     ]
    }
   ],
   "source": [
    "print(match_string(\"The quick brown fox jumps over the lazy dog.\"))\n",
    "print(match_string(\"Python_Exercises_1\"))"
   ]
  },
  {
   "cell_type": "code",
   "execution_count": null,
   "id": "ff52aec2",
   "metadata": {},
   "outputs": [],
   "source": []
  },
  {
   "cell_type": "code",
   "execution_count": null,
   "id": "2034c651",
   "metadata": {},
   "outputs": [],
   "source": [
    "#Question no 12: Write a Python program where a string will start with a specific number. "
   ]
  },
  {
   "cell_type": "code",
   "execution_count": 10,
   "id": "85f559f4",
   "metadata": {},
   "outputs": [],
   "source": [
    "import pandas as pd\n",
    "import regex as re"
   ]
  },
  {
   "cell_type": "code",
   "execution_count": 11,
   "id": "ba288bad",
   "metadata": {},
   "outputs": [],
   "source": [
    "def match_num(string):\n",
    "    text= re.compile(r\"^7\")\n",
    "    if text.match(string):\n",
    "        return True\n",
    "    else:\n",
    "        return False\n"
   ]
  },
  {
   "cell_type": "code",
   "execution_count": 12,
   "id": "20de837a",
   "metadata": {},
   "outputs": [
    {
     "name": "stdout",
     "output_type": "stream",
     "text": [
      "True\n",
      "False\n",
      "True\n"
     ]
    }
   ],
   "source": [
    "print(match_num('7-abcd'))\n",
    "print(match_num('4-8769'))\n",
    "print(match_num('7-6548'))\n"
   ]
  },
  {
   "cell_type": "code",
   "execution_count": null,
   "id": "ad63f547",
   "metadata": {},
   "outputs": [],
   "source": []
  },
  {
   "cell_type": "code",
   "execution_count": null,
   "id": "47ec4951",
   "metadata": {},
   "outputs": [],
   "source": [
    "#Question no 13: Write a Python program to remove leading zeros from an IP address."
   ]
  },
  {
   "cell_type": "code",
   "execution_count": 97,
   "id": "97174fb2",
   "metadata": {},
   "outputs": [],
   "source": [
    "import pandas as pd\n",
    "import regex as re"
   ]
  },
  {
   "cell_type": "code",
   "execution_count": 98,
   "id": "4edcb5d0",
   "metadata": {},
   "outputs": [],
   "source": [
    "ip_address= \"192.168.001.031\""
   ]
  },
  {
   "cell_type": "code",
   "execution_count": 99,
   "id": "4eb14ae4",
   "metadata": {},
   "outputs": [
    {
     "name": "stdout",
     "output_type": "stream",
     "text": [
      "192.168.1.31\n"
     ]
    }
   ],
   "source": [
    "string= re.sub('\\.[0]*', '.', ip_address)\n",
    "print(string)"
   ]
  },
  {
   "cell_type": "code",
   "execution_count": null,
   "id": "f6602df6",
   "metadata": {},
   "outputs": [],
   "source": []
  },
  {
   "cell_type": "code",
   "execution_count": null,
   "id": "a3669d9c",
   "metadata": {},
   "outputs": [],
   "source": [
    "#Question no 14: Write a regular expression in python to match a date string in the form of Month name followed by day number and year stored in a text file."
   ]
  },
  {
   "cell_type": "code",
   "execution_count": 32,
   "id": "f3221463",
   "metadata": {},
   "outputs": [],
   "source": [
    "import pandas as pd\n",
    "import regex as re"
   ]
  },
  {
   "cell_type": "code",
   "execution_count": 33,
   "id": "d4ed9b3f",
   "metadata": {},
   "outputs": [],
   "source": [
    "pattern= r\"\\b ([A-Z][a-z]+ \\d{1,2} \\d{4})\\b\""
   ]
  },
  {
   "cell_type": "code",
   "execution_count": 34,
   "id": "eec0a2e7",
   "metadata": {},
   "outputs": [],
   "source": [
    "sample_text=\"On August 15 1947 that india was declared independent.\""
   ]
  },
  {
   "cell_type": "code",
   "execution_count": 35,
   "id": "f0a684e2",
   "metadata": {},
   "outputs": [],
   "source": [
    "with open('sample_text.txt', 'r')as file:\n",
    "    Sample_text=file.read()"
   ]
  },
  {
   "cell_type": "code",
   "execution_count": 36,
   "id": "df9a04b8",
   "metadata": {},
   "outputs": [
    {
     "name": "stdout",
     "output_type": "stream",
     "text": [
      "['August 15 1947']\n"
     ]
    }
   ],
   "source": [
    "matches= re.findall(pattern, sample_text)\n",
    "print(matches)"
   ]
  },
  {
   "cell_type": "code",
   "execution_count": null,
   "id": "d7885a4d",
   "metadata": {},
   "outputs": [],
   "source": []
  },
  {
   "cell_type": "code",
   "execution_count": null,
   "id": "c7b2f2e8",
   "metadata": {},
   "outputs": [],
   "source": [
    "#Question no 15: Write a Python program to search some literals strings in a string."
   ]
  },
  {
   "cell_type": "code",
   "execution_count": 26,
   "id": "904df283",
   "metadata": {},
   "outputs": [],
   "source": [
    "import pandas as pd\n",
    "import regex as re"
   ]
  },
  {
   "cell_type": "code",
   "execution_count": 27,
   "id": "7ab9b101",
   "metadata": {},
   "outputs": [],
   "source": [
    "patterns=['fox', 'dog', 'horse']"
   ]
  },
  {
   "cell_type": "code",
   "execution_count": 28,
   "id": "ce43778c",
   "metadata": {},
   "outputs": [],
   "source": [
    "text='The quick brown fox jumps over the lazy dog.'"
   ]
  },
  {
   "cell_type": "code",
   "execution_count": 29,
   "id": "a766891e",
   "metadata": {},
   "outputs": [
    {
     "name": "stdout",
     "output_type": "stream",
     "text": [
      "searching for \"fox\" in \"The quick brown fox jumps over the lazy dog.\" ->matched!\n",
      "searching for \"dog\" in \"The quick brown fox jumps over the lazy dog.\" ->matched!\n",
      "searching for \"horse\" in \"The quick brown fox jumps over the lazy dog.\" ->not matched!\n"
     ]
    }
   ],
   "source": [
    "for pattern in patterns:\n",
    "    print('searching for \\\"%s\\\" in \\\"%s\\\" ->' % (pattern,text), end='')\n",
    "    if re.search(pattern,text):\n",
    "        print('matched!')\n",
    "    else:\n",
    "        print('not matched!')\n",
    "          "
   ]
  },
  {
   "cell_type": "code",
   "execution_count": null,
   "id": "35ee1187",
   "metadata": {},
   "outputs": [],
   "source": []
  },
  {
   "cell_type": "code",
   "execution_count": null,
   "id": "6214ab0c",
   "metadata": {},
   "outputs": [],
   "source": [
    "#Question no 16: Write a Python program to search a literals string in a string and also find the location within the original string where the pattern occurs."
   ]
  },
  {
   "cell_type": "code",
   "execution_count": 1,
   "id": "47d7288e",
   "metadata": {},
   "outputs": [],
   "source": [
    "import regex as re"
   ]
  },
  {
   "cell_type": "code",
   "execution_count": 2,
   "id": "13101b4f",
   "metadata": {},
   "outputs": [],
   "source": [
    "pattern= 'fox'"
   ]
  },
  {
   "cell_type": "code",
   "execution_count": 3,
   "id": "ba6a8103",
   "metadata": {},
   "outputs": [],
   "source": [
    "text= 'The quick brown fox jumps over the lazy dog.'"
   ]
  },
  {
   "cell_type": "code",
   "execution_count": 4,
   "id": "5098fc49",
   "metadata": {},
   "outputs": [],
   "source": [
    "match= re.search(pattern,text)\n",
    "s=match.start()\n",
    "e=match.end()"
   ]
  },
  {
   "cell_type": "code",
   "execution_count": 5,
   "id": "d0bf7572",
   "metadata": {},
   "outputs": [
    {
     "name": "stdout",
     "output_type": "stream",
     "text": [
      "Found \"fox\" in \"The quick brown fox jumps over the lazy dog.\" from 16 to 19\n"
     ]
    }
   ],
   "source": [
    "print('Found \\\"%s\\\" in \\\"%s\\\" from %d to %d' %(match.re.pattern, match.string,s,e))"
   ]
  },
  {
   "cell_type": "code",
   "execution_count": null,
   "id": "4e8b8a37",
   "metadata": {},
   "outputs": [],
   "source": [
    "\n"
   ]
  },
  {
   "cell_type": "code",
   "execution_count": null,
   "id": "212890b1",
   "metadata": {},
   "outputs": [],
   "source": [
    "#Question no 17: Write a Python program to find the substrings within a string."
   ]
  },
  {
   "cell_type": "code",
   "execution_count": 1,
   "id": "47d4557a",
   "metadata": {},
   "outputs": [],
   "source": [
    "import regex as re"
   ]
  },
  {
   "cell_type": "code",
   "execution_count": 2,
   "id": "3307c4fe",
   "metadata": {},
   "outputs": [],
   "source": [
    "text= 'Python exercises, PHP exercises, C# exercises'"
   ]
  },
  {
   "cell_type": "code",
   "execution_count": 3,
   "id": "e55e269c",
   "metadata": {},
   "outputs": [],
   "source": [
    "pattern= 'exercises'"
   ]
  },
  {
   "cell_type": "code",
   "execution_count": 4,
   "id": "fcaf9f60",
   "metadata": {},
   "outputs": [
    {
     "name": "stdout",
     "output_type": "stream",
     "text": [
      "Found \"exercises\"\n",
      "Found \"exercises\"\n",
      "Found \"exercises\"\n"
     ]
    }
   ],
   "source": [
    "for match in re.findall(pattern,text):\n",
    "    print('Found \"%s\"' %match)"
   ]
  },
  {
   "cell_type": "code",
   "execution_count": null,
   "id": "6ec16eff",
   "metadata": {},
   "outputs": [],
   "source": []
  },
  {
   "cell_type": "code",
   "execution_count": null,
   "id": "fb5e3dc3",
   "metadata": {},
   "outputs": [],
   "source": [
    "#Question no 18: Write a Python program to find the occurrence and position of the substrings within a string."
   ]
  },
  {
   "cell_type": "code",
   "execution_count": 1,
   "id": "848e1f2e",
   "metadata": {},
   "outputs": [],
   "source": [
    "import regex as re"
   ]
  },
  {
   "cell_type": "code",
   "execution_count": 2,
   "id": "adc3d4d3",
   "metadata": {},
   "outputs": [],
   "source": [
    "text= 'Python exercises, PHP exercises, C# exercises'"
   ]
  },
  {
   "cell_type": "code",
   "execution_count": 3,
   "id": "e07cef76",
   "metadata": {},
   "outputs": [],
   "source": [
    "pattern= 'exercises'"
   ]
  },
  {
   "cell_type": "code",
   "execution_count": 4,
   "id": "feb26064",
   "metadata": {},
   "outputs": [
    {
     "name": "stdout",
     "output_type": "stream",
     "text": [
      "Found \"exercises\" at 7:16\n",
      "Found \"exercises\" at 22:31\n",
      "Found \"exercises\" at 36:45\n"
     ]
    }
   ],
   "source": [
    "for match in re.finditer(pattern, text):\n",
    "    s= match.start()\n",
    "    e= match.end()\n",
    "    print('Found \"%s\" at %d:%d' %(text[s:e],s,e))"
   ]
  },
  {
   "cell_type": "code",
   "execution_count": null,
   "id": "67e5034e",
   "metadata": {},
   "outputs": [],
   "source": []
  },
  {
   "cell_type": "code",
   "execution_count": null,
   "id": "56958258",
   "metadata": {},
   "outputs": [],
   "source": [
    "#Question no 19: Write a Python program to convert a date of yyyy-mm-dd format to dd-mm-yyyy format."
   ]
  },
  {
   "cell_type": "code",
   "execution_count": 10,
   "id": "2b901bdf",
   "metadata": {},
   "outputs": [],
   "source": [
    "from datetime import datetime"
   ]
  },
  {
   "cell_type": "code",
   "execution_count": 11,
   "id": "4e2a6502",
   "metadata": {},
   "outputs": [],
   "source": [
    "def convert_date(date_str):\n",
    "    date_obj= datetime.strptime(date_str, '%Y-%m-%d')\n",
    "    return date_obj.strftime('%d-%m-%Y')"
   ]
  },
  {
   "cell_type": "code",
   "execution_count": 12,
   "id": "5d05b8ba",
   "metadata": {},
   "outputs": [
    {
     "name": "stdout",
     "output_type": "stream",
     "text": [
      "31-12-2023\n"
     ]
    }
   ],
   "source": [
    "date_str= '2023-12-31'\n",
    "new_date_str= convert_date(date_str)\n",
    "print(new_date_str)"
   ]
  },
  {
   "cell_type": "code",
   "execution_count": null,
   "id": "892a62a0",
   "metadata": {},
   "outputs": [],
   "source": []
  },
  {
   "cell_type": "code",
   "execution_count": null,
   "id": "b1835487",
   "metadata": {},
   "outputs": [],
   "source": [
    "#Question no 20: Create a function in python to find all decimal numbers with a precision of 1 or 2 in a string. The use of the re.compile() method is mandatory."
   ]
  },
  {
   "cell_type": "code",
   "execution_count": 4,
   "id": "0dd0c98d",
   "metadata": {},
   "outputs": [],
   "source": [
    "import regex as re"
   ]
  },
  {
   "cell_type": "code",
   "execution_count": 5,
   "id": "08e30bdb",
   "metadata": {},
   "outputs": [],
   "source": [
    "def find_decimal_numbers(string):\n",
    "    pattern= re.compile(r'\\d+\\.\\d{1,2}')\n",
    "    decimal_numbers=re.findall(pattern, string)\n",
    "    return decimal_numbers"
   ]
  },
  {
   "cell_type": "code",
   "execution_count": 6,
   "id": "306041a7",
   "metadata": {},
   "outputs": [
    {
     "name": "stdout",
     "output_type": "stream",
     "text": [
      "['01.12', '0132.12', '2.31', '145.08', '3.01', '27.25', '0.25']\n"
     ]
    }
   ],
   "source": [
    "sample_text= '01.12 0132.123 2.31678 145.08 3.01 27.25 0.25'\n",
    "output= find_decimal_numbers(sample_text)\n",
    "print(output)"
   ]
  },
  {
   "cell_type": "code",
   "execution_count": null,
   "id": "f6d581f4",
   "metadata": {},
   "outputs": [],
   "source": []
  },
  {
   "cell_type": "code",
   "execution_count": null,
   "id": "9182bbcb",
   "metadata": {},
   "outputs": [],
   "source": [
    "#Question no 21: Write a Python program to separate and print the numbers and their position of a given string."
   ]
  },
  {
   "cell_type": "code",
   "execution_count": 7,
   "id": "a9d0a6a5",
   "metadata": {},
   "outputs": [],
   "source": [
    "import regex as re"
   ]
  },
  {
   "cell_type": "code",
   "execution_count": 8,
   "id": "e907fbcb",
   "metadata": {},
   "outputs": [],
   "source": [
    "text= \"The following example creates an ArrayList with a capacity of 50 elements.\""
   ]
  },
  {
   "cell_type": "code",
   "execution_count": 9,
   "id": "8e624cb3",
   "metadata": {},
   "outputs": [
    {
     "name": "stdout",
     "output_type": "stream",
     "text": [
      "Number: 50\n",
      "Index position: 62\n"
     ]
    }
   ],
   "source": [
    "for match in re.finditer(r\"\\d+\", text):\n",
    "    print(\"Number:\", match.group(0))\n",
    "    print(\"Index position:\", match.start())"
   ]
  },
  {
   "cell_type": "code",
   "execution_count": null,
   "id": "ff976d27",
   "metadata": {},
   "outputs": [],
   "source": []
  },
  {
   "cell_type": "code",
   "execution_count": null,
   "id": "523ba532",
   "metadata": {},
   "outputs": [],
   "source": [
    "#Question no 22: Write a regular expression in python program to extract maximum/largest numeric value from a string."
   ]
  },
  {
   "cell_type": "code",
   "execution_count": 1,
   "id": "47c5978a",
   "metadata": {},
   "outputs": [],
   "source": [
    "import regex as re"
   ]
  },
  {
   "cell_type": "code",
   "execution_count": 2,
   "id": "f49b60e5",
   "metadata": {},
   "outputs": [],
   "source": [
    "string= \"My marks in each semester are: 947, 896, 926, 524, 734,950,642\""
   ]
  },
  {
   "cell_type": "code",
   "execution_count": 3,
   "id": "8bf9ed32",
   "metadata": {},
   "outputs": [],
   "source": [
    "numbers= re.findall(r'\\d+', string)\n",
    "numbers= [int(value) for value in numbers]"
   ]
  },
  {
   "cell_type": "code",
   "execution_count": 4,
   "id": "cb57baf6",
   "metadata": {},
   "outputs": [
    {
     "name": "stdout",
     "output_type": "stream",
     "text": [
      "950\n"
     ]
    }
   ],
   "source": [
    "max_value= max(numbers)\n",
    "print(max_value) "
   ]
  },
  {
   "cell_type": "code",
   "execution_count": null,
   "id": "e671a944",
   "metadata": {},
   "outputs": [],
   "source": []
  },
  {
   "cell_type": "code",
   "execution_count": null,
   "id": "95fd8df8",
   "metadata": {},
   "outputs": [],
   "source": [
    "#Question no 23: Create a function in python to insert spaces between words starting with capital letters."
   ]
  },
  {
   "cell_type": "code",
   "execution_count": 1,
   "id": "8897b031",
   "metadata": {},
   "outputs": [],
   "source": [
    "import regex as re"
   ]
  },
  {
   "cell_type": "code",
   "execution_count": 2,
   "id": "81123427",
   "metadata": {},
   "outputs": [],
   "source": [
    "def insert_spaces(str1):\n",
    "    return re.sub(r\"(?<!^)(?=[A-Z])\", \" \", str1)"
   ]
  },
  {
   "cell_type": "code",
   "execution_count": 3,
   "id": "4685953d",
   "metadata": {},
   "outputs": [
    {
     "name": "stdout",
     "output_type": "stream",
     "text": [
      "Regular Expression Is An Important Topic In Python\n"
     ]
    }
   ],
   "source": [
    "print(insert_spaces(\"RegularExpressionIsAnImportantTopicInPython\"))\n"
   ]
  },
  {
   "cell_type": "code",
   "execution_count": null,
   "id": "94905d6c",
   "metadata": {},
   "outputs": [],
   "source": []
  },
  {
   "cell_type": "code",
   "execution_count": null,
   "id": "fef8bbcf",
   "metadata": {},
   "outputs": [],
   "source": [
    "#Question no 24: Python regex to find sequences of one upper case letter followed by lower case letters."
   ]
  },
  {
   "cell_type": "code",
   "execution_count": 1,
   "id": "1658fa14",
   "metadata": {},
   "outputs": [],
   "source": [
    "import re"
   ]
  },
  {
   "cell_type": "code",
   "execution_count": 2,
   "id": "600af9a9",
   "metadata": {},
   "outputs": [],
   "source": [
    "pattern= r'[A-Z][a-z]+'"
   ]
  },
  {
   "cell_type": "code",
   "execution_count": 3,
   "id": "9fc82c73",
   "metadata": {},
   "outputs": [],
   "source": [
    "text= \"This is a Sample Text with One Uppercase Letter and Some Lowercase Letters.\""
   ]
  },
  {
   "cell_type": "code",
   "execution_count": 4,
   "id": "675e9e65",
   "metadata": {},
   "outputs": [
    {
     "name": "stdout",
     "output_type": "stream",
     "text": [
      "['This', 'Sample', 'Text', 'One', 'Uppercase', 'Letter', 'Some', 'Lowercase', 'Letters']\n"
     ]
    }
   ],
   "source": [
    "matches= re.findall(pattern,text)\n",
    "print(matches)"
   ]
  },
  {
   "cell_type": "code",
   "execution_count": null,
   "id": "5bc7aec3",
   "metadata": {},
   "outputs": [],
   "source": []
  },
  {
   "cell_type": "code",
   "execution_count": null,
   "id": "27a3a098",
   "metadata": {},
   "outputs": [],
   "source": [
    "#Question no 25: Write a Python program to remove continuous duplicate words from Sentence using Regular Expression."
   ]
  },
  {
   "cell_type": "code",
   "execution_count": 1,
   "id": "bc23a12e",
   "metadata": {},
   "outputs": [],
   "source": [
    "import re"
   ]
  },
  {
   "cell_type": "code",
   "execution_count": 2,
   "id": "be6528c2",
   "metadata": {},
   "outputs": [],
   "source": [
    "def remove_duplicates (sample_text):\n",
    "    pattern= r'\\b(\\w+)(\\s+\\1\\b)+'\n",
    "    result= re.sub(pattern, r'\\1', sample_text)\n",
    "    return result"
   ]
  },
  {
   "cell_type": "code",
   "execution_count": 3,
   "id": "0e922db9",
   "metadata": {},
   "outputs": [
    {
     "name": "stdout",
     "output_type": "stream",
     "text": [
      "Hello hello world\n"
     ]
    }
   ],
   "source": [
    "sample_text= \"Hello hello world world\"\n",
    "output= remove_duplicates(sample_text)\n",
    "print(output)"
   ]
  },
  {
   "cell_type": "code",
   "execution_count": null,
   "id": "687d97c5",
   "metadata": {},
   "outputs": [],
   "source": []
  },
  {
   "cell_type": "code",
   "execution_count": null,
   "id": "0768c24f",
   "metadata": {},
   "outputs": [],
   "source": [
    "#Question no 26: Write a python program using RegEx to accept string ending with alphanumeric character."
   ]
  },
  {
   "cell_type": "code",
   "execution_count": 1,
   "id": "be37b2fe",
   "metadata": {},
   "outputs": [],
   "source": [
    "import regex as re"
   ]
  },
  {
   "cell_type": "code",
   "execution_count": 2,
   "id": "25dda031",
   "metadata": {},
   "outputs": [],
   "source": [
    "def check_string(my_string):\n",
    "    regex_expression= '[a-zA-Z0-9]$'\n",
    "    if(re.search(regex_expression, my_string)):\n",
    "        print(\"The string ends with an alphanumeric character\")\n",
    "    else:\n",
    "        print(\"The string does not ends with an alphanumeric character\")"
   ]
  },
  {
   "cell_type": "code",
   "execution_count": 3,
   "id": "22fc1e7b",
   "metadata": {},
   "outputs": [
    {
     "name": "stdout",
     "output_type": "stream",
     "text": [
      "The string ends with an alphanumeric character\n"
     ]
    }
   ],
   "source": [
    "my_string= \"Hello World 123\"\n",
    "check_string(my_string)\n"
   ]
  },
  {
   "cell_type": "code",
   "execution_count": 5,
   "id": "8034b5cd",
   "metadata": {},
   "outputs": [
    {
     "name": "stdout",
     "output_type": "stream",
     "text": [
      "The string does not ends with an alphanumeric character\n"
     ]
    }
   ],
   "source": [
    "my_string= \"ankirai@\"\n",
    "check_string(my_string)"
   ]
  },
  {
   "cell_type": "code",
   "execution_count": null,
   "id": "14bf4564",
   "metadata": {},
   "outputs": [],
   "source": []
  },
  {
   "cell_type": "code",
   "execution_count": null,
   "id": "d1892a64",
   "metadata": {},
   "outputs": [],
   "source": [
    "#Question no 27: Write a python program using RegEx to extract the hashtags."
   ]
  },
  {
   "cell_type": "code",
   "execution_count": 1,
   "id": "f55ded48",
   "metadata": {},
   "outputs": [],
   "source": [
    "import regex as re"
   ]
  },
  {
   "cell_type": "code",
   "execution_count": 2,
   "id": "e7f9d659",
   "metadata": {},
   "outputs": [],
   "source": [
    "def extract_hashtags(text):\n",
    "    hashtags= re.findall(r'#\\w+', text)\n",
    "    return hashtags"
   ]
  },
  {
   "cell_type": "code",
   "execution_count": 3,
   "id": "d048ec9a",
   "metadata": {},
   "outputs": [
    {
     "name": "stdout",
     "output_type": "stream",
     "text": [
      "['#test', '#hashtags', '#morehashtags']\n"
     ]
    }
   ],
   "source": [
    "text= \"This is a #test string with #hashtags and #morehashtags.\"\n",
    "hashtags= extract_hashtags(text)\n",
    "print(hashtags)"
   ]
  },
  {
   "cell_type": "code",
   "execution_count": null,
   "id": "4870ef65",
   "metadata": {},
   "outputs": [],
   "source": []
  },
  {
   "cell_type": "code",
   "execution_count": null,
   "id": "dd8af606",
   "metadata": {},
   "outputs": [],
   "source": [
    "#Question no 28: Write a python program using RegEx to remove <U+..> like symbols.\n"
   ]
  },
  {
   "cell_type": "code",
   "execution_count": 9,
   "id": "6a93c705",
   "metadata": {},
   "outputs": [],
   "source": [
    "import regex as re"
   ]
  },
  {
   "cell_type": "code",
   "execution_count": 10,
   "id": "238c68fb",
   "metadata": {},
   "outputs": [],
   "source": [
    "input_text= \"Hello<U+980D>World<U+UY65><U+HFS4><ed> From<U+2GST><U+OOBD>Priya\""
   ]
  },
  {
   "cell_type": "code",
   "execution_count": 11,
   "id": "89afc9cc",
   "metadata": {},
   "outputs": [],
   "source": [
    "pattern= r\"<U\\+\\w{4}>\""
   ]
  },
  {
   "cell_type": "code",
   "execution_count": 12,
   "id": "e8b95508",
   "metadata": {},
   "outputs": [
    {
     "name": "stdout",
     "output_type": "stream",
     "text": [
      "Hello World  <ed> From  Priya\n"
     ]
    }
   ],
   "source": [
    "output_text= re.sub(pattern, \" \", input_text )\n",
    "print(output_text)"
   ]
  },
  {
   "cell_type": "code",
   "execution_count": null,
   "id": "380885ef",
   "metadata": {},
   "outputs": [],
   "source": []
  },
  {
   "cell_type": "code",
   "execution_count": null,
   "id": "b63ac2eb",
   "metadata": {},
   "outputs": [],
   "source": [
    "#Question no 29: Write a python program to extract dates from the text stored in the text file."
   ]
  },
  {
   "cell_type": "code",
   "execution_count": 1,
   "id": "7125920d",
   "metadata": {},
   "outputs": [],
   "source": [
    "import regex as re"
   ]
  },
  {
   "cell_type": "code",
   "execution_count": 2,
   "id": "d95e927a",
   "metadata": {},
   "outputs": [],
   "source": [
    "sample_text= \"Ron was born on 12-09-1992 and he was admitted to school 15-12-1999.\""
   ]
  },
  {
   "cell_type": "code",
   "execution_count": 3,
   "id": "24dee084",
   "metadata": {},
   "outputs": [],
   "source": [
    "with open('sample_text.txt', 'r')as file:\n",
    "    Sample_text= file.read()"
   ]
  },
  {
   "cell_type": "code",
   "execution_count": 4,
   "id": "26905670",
   "metadata": {},
   "outputs": [],
   "source": [
    "pattern= r'\\d{2}-\\d{2}-\\d{4}'"
   ]
  },
  {
   "cell_type": "code",
   "execution_count": 5,
   "id": "1c4d3bdb",
   "metadata": {},
   "outputs": [
    {
     "name": "stdout",
     "output_type": "stream",
     "text": [
      "['12-09-1992', '15-12-1999']\n"
     ]
    }
   ],
   "source": [
    "dates= re.findall(pattern, sample_text)\n",
    "print(dates)"
   ]
  },
  {
   "cell_type": "code",
   "execution_count": null,
   "id": "cf61ee00",
   "metadata": {},
   "outputs": [],
   "source": []
  },
  {
   "cell_type": "code",
   "execution_count": null,
   "id": "a15106e7",
   "metadata": {},
   "outputs": [],
   "source": [
    "#Question no 30: Create a function in python to remove all words from a string of length between 2 and 4.\n",
    "The use of the re.compile() method is mandatory.\n"
   ]
  },
  {
   "cell_type": "code",
   "execution_count": 1,
   "id": "b0c61b99",
   "metadata": {},
   "outputs": [],
   "source": [
    "import regex as re"
   ]
  },
  {
   "cell_type": "code",
   "execution_count": 2,
   "id": "e010e360",
   "metadata": {},
   "outputs": [],
   "source": [
    "def remove_words(string):\n",
    "    pattern= re.compile(r'\\b\\w{2,4}\\b')\n",
    "    modified_string= re.sub(pattern, '', string)\n",
    "    return modified_string"
   ]
  },
  {
   "cell_type": "code",
   "execution_count": 3,
   "id": "f7af0a5b",
   "metadata": {},
   "outputs": [],
   "source": [
    "sample_text= \"The following example creates an Arraylist with a capacity of 50 elements. 4 elements are then added to the arraylist.\""
   ]
  },
  {
   "cell_type": "code",
   "execution_count": 4,
   "id": "f8146077",
   "metadata": {},
   "outputs": [
    {
     "name": "stdout",
     "output_type": "stream",
     "text": [
      " following example creates  Arraylist  a capacity   elements. 4 elements   added   arraylist.\n"
     ]
    }
   ],
   "source": [
    "result= remove_words(sample_text)\n",
    "print(result)"
   ]
  },
  {
   "cell_type": "code",
   "execution_count": null,
   "id": "756f4fac",
   "metadata": {},
   "outputs": [],
   "source": []
  }
 ],
 "metadata": {
  "kernelspec": {
   "display_name": "Python 3 (ipykernel)",
   "language": "python",
   "name": "python3"
  },
  "language_info": {
   "codemirror_mode": {
    "name": "ipython",
    "version": 3
   },
   "file_extension": ".py",
   "mimetype": "text/x-python",
   "name": "python",
   "nbconvert_exporter": "python",
   "pygments_lexer": "ipython3",
   "version": "3.10.9"
  }
 },
 "nbformat": 4,
 "nbformat_minor": 5
}
