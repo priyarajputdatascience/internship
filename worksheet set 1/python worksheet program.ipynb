{
 "cells": [
  {
   "cell_type": "code",
   "execution_count": null,
   "id": "ba679766",
   "metadata": {},
   "outputs": [],
   "source": [
    "# Q.11:- Write a python program to find the factorial of a number\n",
    "    "
   ]
  },
  {
   "cell_type": "code",
   "execution_count": 5,
   "id": "ab2cdf9e",
   "metadata": {},
   "outputs": [
    {
     "name": "stdout",
     "output_type": "stream",
     "text": [
      "Factorial of 6 is 720\n"
     ]
    }
   ],
   "source": [
    "def factorial (n):\n",
    "    return 1 if (n==1 or n==0) else n * factorial(n-1)\n",
    "num = 6\n",
    "print(\"Factorial of\", num, \"is\", factorial(num) )"
   ]
  },
  {
   "cell_type": "code",
   "execution_count": null,
   "id": "04b3891e",
   "metadata": {},
   "outputs": [],
   "source": []
  },
  {
   "cell_type": "code",
   "execution_count": null,
   "id": "fe4d6b19",
   "metadata": {},
   "outputs": [],
   "source": [
    "# Q.12:- Write a python program to find whether a number is prime or composite\n"
   ]
  },
  {
   "cell_type": "code",
   "execution_count": 1,
   "id": "e2333399",
   "metadata": {},
   "outputs": [],
   "source": [
    "def check_prime_composite(n):\n",
    "    if n<2:\n",
    "        return \"Neither prime nor composite\"\n",
    "    for i in range(2, int(n ** 0.5) + 1):\n",
    "        if n % i == 0:\n",
    "            return \"Composite\"\n",
    "    return \"Prime\"\n",
    "    \n",
    "        "
   ]
  },
  {
   "cell_type": "code",
   "execution_count": 5,
   "id": "bfba05aa",
   "metadata": {},
   "outputs": [
    {
     "name": "stdout",
     "output_type": "stream",
     "text": [
      "Enter a number: 3\n",
      "3 is Prime.\n"
     ]
    }
   ],
   "source": [
    "n= int(input(\"Enter a number: \"))\n",
    "result= check_prime_composite(n)\n",
    "print(f\"{n} is {result}.\")"
   ]
  },
  {
   "cell_type": "code",
   "execution_count": null,
   "id": "86763aac",
   "metadata": {},
   "outputs": [],
   "source": []
  },
  {
   "cell_type": "code",
   "execution_count": 3,
   "id": "1e2b4803",
   "metadata": {},
   "outputs": [],
   "source": [
    "#Q.13:-Write a python program to check whether a given string is palindrome or not \n"
   ]
  },
  {
   "cell_type": "code",
   "execution_count": 11,
   "id": "f847ce8e",
   "metadata": {},
   "outputs": [],
   "source": [
    "def is_palindrome(string):\n",
    "    string= string.lower()\n",
    "    reversed_string= string[::-1]\n",
    "    if string== reversed_string:\n",
    "        return True\n",
    "    else:\n",
    "        return False"
   ]
  },
  {
   "cell_type": "code",
   "execution_count": 12,
   "id": "6f09b150",
   "metadata": {},
   "outputs": [
    {
     "name": "stdout",
     "output_type": "stream",
     "text": [
      "Enter a string: mom\n",
      "mom is a palindrome.\n"
     ]
    }
   ],
   "source": [
    "string= input(\"Enter a string: \")\n",
    "result= is_palindrome(string)\n",
    "if result:\n",
    "    print(f\"{string} is a palindrome.\")\n",
    "else:\n",
    "    print(f\"{string} is not a palindrome.\")"
   ]
  },
  {
   "cell_type": "code",
   "execution_count": null,
   "id": "10787716",
   "metadata": {},
   "outputs": [],
   "source": []
  },
  {
   "cell_type": "code",
   "execution_count": 1,
   "id": "0bb85917",
   "metadata": {},
   "outputs": [],
   "source": [
    "#Q.14:-Write a Python program to get the third side of right-angled triangle from two given sides\n"
   ]
  },
  {
   "cell_type": "code",
   "execution_count": 1,
   "id": "5f2f9746",
   "metadata": {},
   "outputs": [],
   "source": [
    "import math\n"
   ]
  },
  {
   "cell_type": "code",
   "execution_count": 3,
   "id": "154c9542",
   "metadata": {},
   "outputs": [
    {
     "name": "stdout",
     "output_type": "stream",
     "text": [
      "Enter base: 12.5\n",
      "Enter height: 6.8\n",
      "Enter angle: 80\n",
      "Hypotenuse=  14.229898102235307\n"
     ]
    }
   ],
   "source": [
    "a= float (input(\"Enter base: \"))\n",
    "b= float (input(\"Enter height: \"))\n",
    "x= float (input(\"Enter angle: \"))\n",
    "c= math.sqrt(a ** 2 + b ** 2)\n",
    "print(\"Hypotenuse= \", c)"
   ]
  },
  {
   "cell_type": "code",
   "execution_count": null,
   "id": "170e45e5",
   "metadata": {},
   "outputs": [],
   "source": []
  },
  {
   "cell_type": "code",
   "execution_count": 1,
   "id": "ca8a7990",
   "metadata": {},
   "outputs": [],
   "source": [
    "#Q.15:- Write a python program to print the frequency of each of the characters present in a given string\n"
   ]
  },
  {
   "cell_type": "code",
   "execution_count": 5,
   "id": "9964a09e",
   "metadata": {},
   "outputs": [],
   "source": [
    "s= \"Hello, Priya rajput!\""
   ]
  },
  {
   "cell_type": "code",
   "execution_count": 6,
   "id": "4252b7df",
   "metadata": {},
   "outputs": [],
   "source": [
    "freq = {}"
   ]
  },
  {
   "cell_type": "code",
   "execution_count": 7,
   "id": "40df9407",
   "metadata": {},
   "outputs": [],
   "source": [
    "for c in s:\n",
    "    if c in freq:\n",
    "        freq[c] += 1\n",
    "    else:\n",
    "        freq[c] = 1\n"
   ]
  },
  {
   "cell_type": "code",
   "execution_count": 8,
   "id": "4eb33b84",
   "metadata": {},
   "outputs": [
    {
     "name": "stdout",
     "output_type": "stream",
     "text": [
      "{'H': 1, 'e': 1, 'l': 2, 'o': 1, ',': 1, ' ': 2, 'P': 1, 'r': 2, 'i': 1, 'y': 1, 'a': 2, 'j': 1, 'p': 1, 'u': 1, 't': 1, '!': 1}\n"
     ]
    }
   ],
   "source": [
    "print(freq)"
   ]
  },
  {
   "cell_type": "code",
   "execution_count": null,
   "id": "20911d32",
   "metadata": {},
   "outputs": [],
   "source": []
  }
 ],
 "metadata": {
  "kernelspec": {
   "display_name": "Python 3 (ipykernel)",
   "language": "python",
   "name": "python3"
  },
  "language_info": {
   "codemirror_mode": {
    "name": "ipython",
    "version": 3
   },
   "file_extension": ".py",
   "mimetype": "text/x-python",
   "name": "python",
   "nbconvert_exporter": "python",
   "pygments_lexer": "ipython3",
   "version": "3.10.9"
  }
 },
 "nbformat": 4,
 "nbformat_minor": 5
}
