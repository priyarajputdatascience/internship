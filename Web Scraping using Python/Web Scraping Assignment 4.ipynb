{
 "cells": [
  {
   "cell_type": "markdown",
   "id": "293d910c",
   "metadata": {},
   "source": [
    "#Question no. 1:-Scrape the details of most viewed videos on YouTube from Wikipedia. Url \n",
    "= https://en.wikipedia.org/wiki/List_of_most-viewed_YouTube_videos You need to find following details: A)\n",
    "Rank \n",
    "B) Name \n",
    "C) Artist \n",
    "D) Upload date \n",
    "E) Views "
   ]
  },
  {
   "cell_type": "code",
   "execution_count": 1,
   "id": "84744c39",
   "metadata": {},
   "outputs": [
    {
     "name": "stdout",
     "output_type": "stream",
     "text": [
      "Requirement already satisfied: selenium in c:\\users\\91935\\anaconda3\\lib\\site-packages (4.16.0)\n",
      "Requirement already satisfied: trio~=0.17 in c:\\users\\91935\\anaconda3\\lib\\site-packages (from selenium) (0.24.0)\n",
      "Requirement already satisfied: urllib3[socks]<3,>=1.26 in c:\\users\\91935\\anaconda3\\lib\\site-packages (from selenium) (1.26.14)\n",
      "Requirement already satisfied: trio-websocket~=0.9 in c:\\users\\91935\\anaconda3\\lib\\site-packages (from selenium) (0.11.1)\n",
      "Requirement already satisfied: certifi>=2021.10.8 in c:\\users\\91935\\anaconda3\\lib\\site-packages (from selenium) (2022.12.7)\n",
      "Requirement already satisfied: sniffio>=1.3.0 in c:\\users\\91935\\anaconda3\\lib\\site-packages (from trio~=0.17->selenium) (1.3.0)\n",
      "Requirement already satisfied: attrs>=20.1.0 in c:\\users\\91935\\anaconda3\\lib\\site-packages (from trio~=0.17->selenium) (22.1.0)\n",
      "Requirement already satisfied: outcome in c:\\users\\91935\\anaconda3\\lib\\site-packages (from trio~=0.17->selenium) (1.3.0.post0)\n",
      "Requirement already satisfied: idna in c:\\users\\91935\\anaconda3\\lib\\site-packages (from trio~=0.17->selenium) (3.4)\n",
      "Requirement already satisfied: sortedcontainers in c:\\users\\91935\\anaconda3\\lib\\site-packages (from trio~=0.17->selenium) (2.4.0)\n",
      "Requirement already satisfied: cffi>=1.14 in c:\\users\\91935\\anaconda3\\lib\\site-packages (from trio~=0.17->selenium) (1.15.1)\n",
      "Requirement already satisfied: exceptiongroup in c:\\users\\91935\\anaconda3\\lib\\site-packages (from trio~=0.17->selenium) (1.2.0)\n",
      "Requirement already satisfied: wsproto>=0.14 in c:\\users\\91935\\anaconda3\\lib\\site-packages (from trio-websocket~=0.9->selenium) (1.2.0)\n",
      "Requirement already satisfied: PySocks!=1.5.7,<2.0,>=1.5.6 in c:\\users\\91935\\anaconda3\\lib\\site-packages (from urllib3[socks]<3,>=1.26->selenium) (1.7.1)\n",
      "Requirement already satisfied: pycparser in c:\\users\\91935\\anaconda3\\lib\\site-packages (from cffi>=1.14->trio~=0.17->selenium) (2.21)\n",
      "Requirement already satisfied: h11<1,>=0.9.0 in c:\\users\\91935\\anaconda3\\lib\\site-packages (from wsproto>=0.14->trio-websocket~=0.9->selenium) (0.14.0)\n"
     ]
    }
   ],
   "source": [
    "!pip install selenium"
   ]
  },
  {
   "cell_type": "code",
   "execution_count": 10,
   "id": "038316e2",
   "metadata": {},
   "outputs": [],
   "source": [
    "#import required libraries:-\n",
    "\n",
    "import selenium\n",
    "import pandas as pd\n",
    "from selenium import webdriver\n",
    "import warnings\n",
    "warnings.filterwarnings('ignore')\n",
    "from selenium.webdriver.common.by import By\n",
    "import time"
   ]
  },
  {
   "cell_type": "code",
   "execution_count": 11,
   "id": "69048893",
   "metadata": {},
   "outputs": [],
   "source": [
    "##Create a webdriver object:-\n",
    "\n",
    "driver=webdriver.Chrome()"
   ]
  },
  {
   "cell_type": "code",
   "execution_count": 12,
   "id": "98c36059",
   "metadata": {},
   "outputs": [],
   "source": [
    "#Go to the website:-\n",
    "\n",
    "driver.get(\"https://en.wikipedia.org/wiki/List_of_most-viewed_YouTube_videos\")"
   ]
  },
  {
   "cell_type": "code",
   "execution_count": 13,
   "id": "e52669e2",
   "metadata": {},
   "outputs": [],
   "source": [
    "#Create Empty Lists:-\n",
    "\n",
    "rank=[]\n",
    "name=[]\n",
    "artist=[]\n",
    "upload_date=[]\n",
    "views=[]"
   ]
  },
  {
   "cell_type": "code",
   "execution_count": 15,
   "id": "b107d35f",
   "metadata": {},
   "outputs": [],
   "source": [
    "#Scraping Name of videos:-\n",
    "\n",
    "name_tag=driver.find_elements(By.XPATH,'//table[@class=\"sortable wikitable sticky-header static-row-numbers col3center col4right jquery-tablesorter\"]//td[1]')\n",
    "for i in name_tag:\n",
    "    name.append(i.text)"
   ]
  },
  {
   "cell_type": "code",
   "execution_count": 19,
   "id": "1c638555",
   "metadata": {},
   "outputs": [],
   "source": [
    "#Scraping Artist of videos:-\n",
    "\n",
    "artist_tag=driver.find_elements(By.XPATH,'//table[@class=\"sortable wikitable sticky-header static-row-numbers col3center col4right jquery-tablesorter\"]//td[2]')\n",
    "for i in artist_tag:\n",
    "    artist.append(i.text)"
   ]
  },
  {
   "cell_type": "code",
   "execution_count": 20,
   "id": "30d347eb",
   "metadata": {},
   "outputs": [],
   "source": [
    "#Scraping upload date of videos:-\n",
    "\n",
    "date_tag=driver.find_elements(By.XPATH,'//table[@class=\"sortable wikitable sticky-header static-row-numbers col3center col4right jquery-tablesorter\"]//td[4]')\n",
    "for i in date_tag:\n",
    "    upload_date.append(i.text)"
   ]
  },
  {
   "cell_type": "code",
   "execution_count": 21,
   "id": "323b81a9",
   "metadata": {},
   "outputs": [],
   "source": [
    "#Scraping Views of videos:-\n",
    "\n",
    "views_tag=driver.find_elements(By.XPATH,'//table[@class=\"sortable wikitable sticky-header static-row-numbers col3center col4right jquery-tablesorter\"]//td[3]')\n",
    "for i in views_tag:\n",
    "    views.append(i.text)"
   ]
  },
  {
   "cell_type": "code",
   "execution_count": 22,
   "id": "8f0cd385",
   "metadata": {},
   "outputs": [
    {
     "data": {
      "text/html": [
       "<div>\n",
       "<style scoped>\n",
       "    .dataframe tbody tr th:only-of-type {\n",
       "        vertical-align: middle;\n",
       "    }\n",
       "\n",
       "    .dataframe tbody tr th {\n",
       "        vertical-align: top;\n",
       "    }\n",
       "\n",
       "    .dataframe thead th {\n",
       "        text-align: right;\n",
       "    }\n",
       "</style>\n",
       "<table border=\"1\" class=\"dataframe\">\n",
       "  <thead>\n",
       "    <tr style=\"text-align: right;\">\n",
       "      <th></th>\n",
       "      <th>Name</th>\n",
       "      <th>Artist</th>\n",
       "      <th>Upload Date</th>\n",
       "      <th>Views</th>\n",
       "    </tr>\n",
       "  </thead>\n",
       "  <tbody>\n",
       "    <tr>\n",
       "      <th>0</th>\n",
       "      <td>\"Baby Shark Dance\"[6]</td>\n",
       "      <td>Pinkfong Baby Shark - Kids' Songs &amp; Stories</td>\n",
       "      <td>June 17, 2016</td>\n",
       "      <td>14.09</td>\n",
       "    </tr>\n",
       "    <tr>\n",
       "      <th>1</th>\n",
       "      <td>\"Despacito\"[9]</td>\n",
       "      <td>Luis Fonsi</td>\n",
       "      <td>January 12, 2017</td>\n",
       "      <td>8.38</td>\n",
       "    </tr>\n",
       "    <tr>\n",
       "      <th>2</th>\n",
       "      <td>\"Johny Johny Yes Papa\"[17]</td>\n",
       "      <td>LooLoo Kids - Nursery Rhymes and Children's Songs</td>\n",
       "      <td>October 8, 2016</td>\n",
       "      <td>6.87</td>\n",
       "    </tr>\n",
       "    <tr>\n",
       "      <th>3</th>\n",
       "      <td>\"Bath Song\"[18]</td>\n",
       "      <td>Cocomelon - Nursery Rhymes</td>\n",
       "      <td>May 2, 2018</td>\n",
       "      <td>6.62</td>\n",
       "    </tr>\n",
       "    <tr>\n",
       "      <th>4</th>\n",
       "      <td>\"Shape of You\"[19]</td>\n",
       "      <td>Ed Sheeran</td>\n",
       "      <td>January 30, 2017</td>\n",
       "      <td>6.20</td>\n",
       "    </tr>\n",
       "    <tr>\n",
       "      <th>5</th>\n",
       "      <td>\"See You Again\"[22]</td>\n",
       "      <td>Wiz Khalifa</td>\n",
       "      <td>April 6, 2015</td>\n",
       "      <td>6.17</td>\n",
       "    </tr>\n",
       "    <tr>\n",
       "      <th>6</th>\n",
       "      <td>\"Wheels on the Bus\"[27]</td>\n",
       "      <td>Cocomelon - Nursery Rhymes</td>\n",
       "      <td>May 24, 2018</td>\n",
       "      <td>5.88</td>\n",
       "    </tr>\n",
       "    <tr>\n",
       "      <th>7</th>\n",
       "      <td>\"Phonics Song with Two Words\"[28]</td>\n",
       "      <td>ChuChu TV Nursery Rhymes &amp; Kids Songs</td>\n",
       "      <td>March 6, 2014</td>\n",
       "      <td>5.70</td>\n",
       "    </tr>\n",
       "    <tr>\n",
       "      <th>8</th>\n",
       "      <td>\"Uptown Funk\"[29]</td>\n",
       "      <td>Mark Ronson</td>\n",
       "      <td>November 19, 2014</td>\n",
       "      <td>5.15</td>\n",
       "    </tr>\n",
       "    <tr>\n",
       "      <th>9</th>\n",
       "      <td>\"Learning Colors – Colorful Eggs on a Farm\"[30]</td>\n",
       "      <td>Miroshka TV</td>\n",
       "      <td>February 27, 2018</td>\n",
       "      <td>5.07</td>\n",
       "    </tr>\n",
       "    <tr>\n",
       "      <th>10</th>\n",
       "      <td>\"Gangnam Style\"[31]</td>\n",
       "      <td>Psy</td>\n",
       "      <td>July 15, 2012</td>\n",
       "      <td>5.05</td>\n",
       "    </tr>\n",
       "    <tr>\n",
       "      <th>11</th>\n",
       "      <td>\"Masha and the Bear – Recipe for Disaster\"[36]</td>\n",
       "      <td>Get Movies</td>\n",
       "      <td>January 31, 2012</td>\n",
       "      <td>4.58</td>\n",
       "    </tr>\n",
       "    <tr>\n",
       "      <th>12</th>\n",
       "      <td>\"Dame Tu Cosita\"[37]</td>\n",
       "      <td>Ultra Records</td>\n",
       "      <td>April 5, 2018</td>\n",
       "      <td>4.55</td>\n",
       "    </tr>\n",
       "    <tr>\n",
       "      <th>13</th>\n",
       "      <td>\"Axel F\"[38]</td>\n",
       "      <td>Crazy Frog</td>\n",
       "      <td>June 16, 2009</td>\n",
       "      <td>4.34</td>\n",
       "    </tr>\n",
       "    <tr>\n",
       "      <th>14</th>\n",
       "      <td>\"Sugar\"[39]</td>\n",
       "      <td>Maroon 5</td>\n",
       "      <td>January 14, 2015</td>\n",
       "      <td>4.00</td>\n",
       "    </tr>\n",
       "    <tr>\n",
       "      <th>15</th>\n",
       "      <td>\"Counting Stars\"[40]</td>\n",
       "      <td>OneRepublic</td>\n",
       "      <td>May 31, 2013</td>\n",
       "      <td>3.97</td>\n",
       "    </tr>\n",
       "    <tr>\n",
       "      <th>16</th>\n",
       "      <td>\"Baa Baa Black Sheep\"[41]</td>\n",
       "      <td>Cocomelon - Nursery Rhymes</td>\n",
       "      <td>June 25, 2018</td>\n",
       "      <td>3.96</td>\n",
       "    </tr>\n",
       "    <tr>\n",
       "      <th>17</th>\n",
       "      <td>\"Roar\"[42]</td>\n",
       "      <td>Katy Perry</td>\n",
       "      <td>September 5, 2013</td>\n",
       "      <td>3.96</td>\n",
       "    </tr>\n",
       "    <tr>\n",
       "      <th>18</th>\n",
       "      <td>\"Lakdi Ki Kathi\"[43]</td>\n",
       "      <td>Jingle Toons</td>\n",
       "      <td>June 14, 2018</td>\n",
       "      <td>3.91</td>\n",
       "    </tr>\n",
       "    <tr>\n",
       "      <th>19</th>\n",
       "      <td>\"Waka Waka (This Time for Africa)\"[44]</td>\n",
       "      <td>Shakira</td>\n",
       "      <td>June 4, 2010</td>\n",
       "      <td>3.85</td>\n",
       "    </tr>\n",
       "    <tr>\n",
       "      <th>20</th>\n",
       "      <td>\"Sorry\"[45]</td>\n",
       "      <td>Justin Bieber</td>\n",
       "      <td>October 22, 2015</td>\n",
       "      <td>3.77</td>\n",
       "    </tr>\n",
       "    <tr>\n",
       "      <th>21</th>\n",
       "      <td>\"Thinking Out Loud\"[46]</td>\n",
       "      <td>Ed Sheeran</td>\n",
       "      <td>October 7, 2014</td>\n",
       "      <td>3.73</td>\n",
       "    </tr>\n",
       "    <tr>\n",
       "      <th>22</th>\n",
       "      <td>\"Humpty the train on a fruits ride\"[47]</td>\n",
       "      <td>Kiddiestv Hindi - Nursery Rhymes &amp; Kids Songs</td>\n",
       "      <td>January 26, 2018</td>\n",
       "      <td>3.73</td>\n",
       "    </tr>\n",
       "    <tr>\n",
       "      <th>23</th>\n",
       "      <td>\"Shree Hanuman Chalisa\"[48]</td>\n",
       "      <td>T-Series Bhakti Sagar</td>\n",
       "      <td>May 10, 2011</td>\n",
       "      <td>3.69</td>\n",
       "    </tr>\n",
       "    <tr>\n",
       "      <th>24</th>\n",
       "      <td>\"Dark Horse\"[49]</td>\n",
       "      <td>Katy Perry</td>\n",
       "      <td>February 20, 2014</td>\n",
       "      <td>3.67</td>\n",
       "    </tr>\n",
       "    <tr>\n",
       "      <th>25</th>\n",
       "      <td>\"Perfect\"[50]</td>\n",
       "      <td>Ed Sheeran</td>\n",
       "      <td>November 9, 2017</td>\n",
       "      <td>3.67</td>\n",
       "    </tr>\n",
       "    <tr>\n",
       "      <th>26</th>\n",
       "      <td>\"Let Her Go\"[51]</td>\n",
       "      <td>Passenger</td>\n",
       "      <td>July 25, 2012</td>\n",
       "      <td>3.61</td>\n",
       "    </tr>\n",
       "    <tr>\n",
       "      <th>27</th>\n",
       "      <td>\"Faded\"[52]</td>\n",
       "      <td>Alan Walker</td>\n",
       "      <td>December 3, 2015</td>\n",
       "      <td>3.59</td>\n",
       "    </tr>\n",
       "    <tr>\n",
       "      <th>28</th>\n",
       "      <td>\"Girls Like You\"[53]</td>\n",
       "      <td>Maroon 5</td>\n",
       "      <td>May 31, 2018</td>\n",
       "      <td>3.56</td>\n",
       "    </tr>\n",
       "    <tr>\n",
       "      <th>29</th>\n",
       "      <td>\"Lean On\"[54]</td>\n",
       "      <td>Major Lazer Official</td>\n",
       "      <td>March 22, 2015</td>\n",
       "      <td>3.55</td>\n",
       "    </tr>\n",
       "  </tbody>\n",
       "</table>\n",
       "</div>"
      ],
      "text/plain": [
       "                                               Name  \\\n",
       "0                             \"Baby Shark Dance\"[6]   \n",
       "1                                    \"Despacito\"[9]   \n",
       "2                        \"Johny Johny Yes Papa\"[17]   \n",
       "3                                   \"Bath Song\"[18]   \n",
       "4                                \"Shape of You\"[19]   \n",
       "5                               \"See You Again\"[22]   \n",
       "6                           \"Wheels on the Bus\"[27]   \n",
       "7                 \"Phonics Song with Two Words\"[28]   \n",
       "8                                 \"Uptown Funk\"[29]   \n",
       "9   \"Learning Colors – Colorful Eggs on a Farm\"[30]   \n",
       "10                              \"Gangnam Style\"[31]   \n",
       "11   \"Masha and the Bear – Recipe for Disaster\"[36]   \n",
       "12                             \"Dame Tu Cosita\"[37]   \n",
       "13                                     \"Axel F\"[38]   \n",
       "14                                      \"Sugar\"[39]   \n",
       "15                             \"Counting Stars\"[40]   \n",
       "16                        \"Baa Baa Black Sheep\"[41]   \n",
       "17                                       \"Roar\"[42]   \n",
       "18                             \"Lakdi Ki Kathi\"[43]   \n",
       "19           \"Waka Waka (This Time for Africa)\"[44]   \n",
       "20                                      \"Sorry\"[45]   \n",
       "21                          \"Thinking Out Loud\"[46]   \n",
       "22          \"Humpty the train on a fruits ride\"[47]   \n",
       "23                      \"Shree Hanuman Chalisa\"[48]   \n",
       "24                                 \"Dark Horse\"[49]   \n",
       "25                                    \"Perfect\"[50]   \n",
       "26                                 \"Let Her Go\"[51]   \n",
       "27                                      \"Faded\"[52]   \n",
       "28                             \"Girls Like You\"[53]   \n",
       "29                                    \"Lean On\"[54]   \n",
       "\n",
       "                                               Artist        Upload Date  \\\n",
       "0         Pinkfong Baby Shark - Kids' Songs & Stories      June 17, 2016   \n",
       "1                                          Luis Fonsi   January 12, 2017   \n",
       "2   LooLoo Kids - Nursery Rhymes and Children's Songs    October 8, 2016   \n",
       "3                          Cocomelon - Nursery Rhymes        May 2, 2018   \n",
       "4                                          Ed Sheeran   January 30, 2017   \n",
       "5                                         Wiz Khalifa      April 6, 2015   \n",
       "6                          Cocomelon - Nursery Rhymes       May 24, 2018   \n",
       "7               ChuChu TV Nursery Rhymes & Kids Songs      March 6, 2014   \n",
       "8                                         Mark Ronson  November 19, 2014   \n",
       "9                                         Miroshka TV  February 27, 2018   \n",
       "10                                                Psy      July 15, 2012   \n",
       "11                                         Get Movies   January 31, 2012   \n",
       "12                                      Ultra Records      April 5, 2018   \n",
       "13                                         Crazy Frog      June 16, 2009   \n",
       "14                                           Maroon 5   January 14, 2015   \n",
       "15                                        OneRepublic       May 31, 2013   \n",
       "16                         Cocomelon - Nursery Rhymes      June 25, 2018   \n",
       "17                                         Katy Perry  September 5, 2013   \n",
       "18                                       Jingle Toons      June 14, 2018   \n",
       "19                                            Shakira       June 4, 2010   \n",
       "20                                      Justin Bieber   October 22, 2015   \n",
       "21                                         Ed Sheeran    October 7, 2014   \n",
       "22      Kiddiestv Hindi - Nursery Rhymes & Kids Songs   January 26, 2018   \n",
       "23                              T-Series Bhakti Sagar       May 10, 2011   \n",
       "24                                         Katy Perry  February 20, 2014   \n",
       "25                                         Ed Sheeran   November 9, 2017   \n",
       "26                                          Passenger      July 25, 2012   \n",
       "27                                        Alan Walker   December 3, 2015   \n",
       "28                                           Maroon 5       May 31, 2018   \n",
       "29                               Major Lazer Official     March 22, 2015   \n",
       "\n",
       "    Views  \n",
       "0   14.09  \n",
       "1    8.38  \n",
       "2    6.87  \n",
       "3    6.62  \n",
       "4    6.20  \n",
       "5    6.17  \n",
       "6    5.88  \n",
       "7    5.70  \n",
       "8    5.15  \n",
       "9    5.07  \n",
       "10   5.05  \n",
       "11   4.58  \n",
       "12   4.55  \n",
       "13   4.34  \n",
       "14   4.00  \n",
       "15   3.97  \n",
       "16   3.96  \n",
       "17   3.96  \n",
       "18   3.91  \n",
       "19   3.85  \n",
       "20   3.77  \n",
       "21   3.73  \n",
       "22   3.73  \n",
       "23   3.69  \n",
       "24   3.67  \n",
       "25   3.67  \n",
       "26   3.61  \n",
       "27   3.59  \n",
       "28   3.56  \n",
       "29   3.55  "
      ]
     },
     "execution_count": 22,
     "metadata": {},
     "output_type": "execute_result"
    }
   ],
   "source": [
    "#Create dataframe and print:-\n",
    "\n",
    "df=pd.DataFrame({'Name':name,'Artist':artist,'Upload Date':upload_date,'Views':views})\n",
    "\n",
    "df"
   ]
  },
  {
   "cell_type": "code",
   "execution_count": null,
   "id": "70b515c8",
   "metadata": {},
   "outputs": [],
   "source": []
  },
  {
   "cell_type": "code",
   "execution_count": null,
   "id": "f9c8ba9e",
   "metadata": {},
   "outputs": [],
   "source": []
  },
  {
   "cell_type": "markdown",
   "id": "51f7be75",
   "metadata": {},
   "source": [
    "#Question no. 2:-Scrape the details team India’s international fixtures from bcci.tv. \n",
    "Url = https://www.bcci.tv/. \n",
    "You need to find following details: \n",
    "A) Series \n",
    "B) Place \n",
    "C) Date \n",
    "D) Time "
   ]
  },
  {
   "cell_type": "code",
   "execution_count": 10,
   "id": "5a72e158",
   "metadata": {},
   "outputs": [],
   "source": [
    "#import required libraries:-\n",
    "\n",
    "import selenium\n",
    "import pandas as pd\n",
    "from selenium import webdriver\n",
    "import warnings\n",
    "warnings.filterwarnings('ignore')\n",
    "from selenium.webdriver.common.by import By\n",
    "import time"
   ]
  },
  {
   "cell_type": "code",
   "execution_count": 11,
   "id": "3b040ad4",
   "metadata": {},
   "outputs": [],
   "source": [
    "#Create a driver object:-\n",
    "\n",
    "driver=webdriver.Chrome()"
   ]
  },
  {
   "cell_type": "code",
   "execution_count": 12,
   "id": "d70b7629",
   "metadata": {},
   "outputs": [],
   "source": [
    "#Go to webpage:-\n",
    "\n",
    "driver.get(\"https://www.bcci.tv/\")"
   ]
  },
  {
   "cell_type": "code",
   "execution_count": 14,
   "id": "49fc2a03",
   "metadata": {},
   "outputs": [],
   "source": [
    "#Click on fixture page:-\n",
    "\n",
    "search=driver.find_element(By.XPATH,'/html/body/header/div[3]/div[2]/ul/div[1]/a[2]')\n",
    "search.click()"
   ]
  },
  {
   "cell_type": "code",
   "execution_count": 30,
   "id": "7779c0f6",
   "metadata": {},
   "outputs": [],
   "source": [
    "#Create Empty Lists:-\n",
    "\n",
    "series=[]\n",
    "place=[]\n",
    "date=[]\n",
    "time=[]"
   ]
  },
  {
   "cell_type": "code",
   "execution_count": 31,
   "id": "a2c4041d",
   "metadata": {},
   "outputs": [],
   "source": [
    "#Scraping team series:-\n",
    "\n",
    "series_tag=driver.find_elements(By.XPATH,'//h5[@class=\"match-tournament-name ng-binding\"]')\n",
    "for i in series_tag:\n",
    "    series.append(i.text)"
   ]
  },
  {
   "cell_type": "code",
   "execution_count": 32,
   "id": "99944e28",
   "metadata": {},
   "outputs": [
    {
     "name": "stdout",
     "output_type": "stream",
     "text": [
      "7\n"
     ]
    }
   ],
   "source": [
    "print(len(series))"
   ]
  },
  {
   "cell_type": "code",
   "execution_count": 33,
   "id": "7d3f520e",
   "metadata": {},
   "outputs": [],
   "source": [
    "#Scraping place:-\n",
    "\n",
    "place_tag=driver.find_elements(By.XPATH,'//span[@class=\"ng-binding\"]')\n",
    "for i in place_tag:\n",
    "    place.append(i.text)"
   ]
  },
  {
   "cell_type": "code",
   "execution_count": 34,
   "id": "2b085250",
   "metadata": {},
   "outputs": [
    {
     "name": "stdout",
     "output_type": "stream",
     "text": [
      "7\n"
     ]
    }
   ],
   "source": [
    "print(len(place))"
   ]
  },
  {
   "cell_type": "code",
   "execution_count": 35,
   "id": "b4bb275b",
   "metadata": {},
   "outputs": [],
   "source": [
    "#Scraping date:-\n",
    "\n",
    "date_tag=driver.find_elements(By.XPATH,'//div[1][@class=\"match-dates ng-binding\"]')\n",
    "for i in date_tag:\n",
    "    date.append(i.text)"
   ]
  },
  {
   "cell_type": "code",
   "execution_count": 36,
   "id": "9833245b",
   "metadata": {},
   "outputs": [
    {
     "name": "stdout",
     "output_type": "stream",
     "text": [
      "7\n"
     ]
    }
   ],
   "source": [
    "print(len(date))"
   ]
  },
  {
   "cell_type": "code",
   "execution_count": 37,
   "id": "0140766d",
   "metadata": {},
   "outputs": [],
   "source": [
    "#Scraping time:-\n",
    "\n",
    "time_tag=driver.find_elements(By.XPATH,'//div[@class=\"match-time no-margin ng-binding\"]')\n",
    "for i in time_tag:\n",
    "    time.append(i.text)"
   ]
  },
  {
   "cell_type": "code",
   "execution_count": 38,
   "id": "7bb1f24b",
   "metadata": {},
   "outputs": [
    {
     "name": "stdout",
     "output_type": "stream",
     "text": [
      "7\n"
     ]
    }
   ],
   "source": [
    "print(len(time))"
   ]
  },
  {
   "cell_type": "code",
   "execution_count": 39,
   "id": "16df85e8",
   "metadata": {},
   "outputs": [
    {
     "data": {
      "text/html": [
       "<div>\n",
       "<style scoped>\n",
       "    .dataframe tbody tr th:only-of-type {\n",
       "        vertical-align: middle;\n",
       "    }\n",
       "\n",
       "    .dataframe tbody tr th {\n",
       "        vertical-align: top;\n",
       "    }\n",
       "\n",
       "    .dataframe thead th {\n",
       "        text-align: right;\n",
       "    }\n",
       "</style>\n",
       "<table border=\"1\" class=\"dataframe\">\n",
       "  <thead>\n",
       "    <tr style=\"text-align: right;\">\n",
       "      <th></th>\n",
       "      <th>Series</th>\n",
       "      <th>Place</th>\n",
       "      <th>Date</th>\n",
       "      <th>Time</th>\n",
       "    </tr>\n",
       "  </thead>\n",
       "  <tbody>\n",
       "    <tr>\n",
       "      <th>0</th>\n",
       "      <td>ENGLAND TOUR OF INDIA 2023-24</td>\n",
       "      <td>Ranchi</td>\n",
       "      <td>23 FEBRUARY, 2024</td>\n",
       "      <td>9:30 AM IST</td>\n",
       "    </tr>\n",
       "    <tr>\n",
       "      <th>1</th>\n",
       "      <td>ENGLAND TOUR OF INDIA 2023-24</td>\n",
       "      <td>Dharamsala</td>\n",
       "      <td>7 MARCH, 2024</td>\n",
       "      <td>9:30 AM IST</td>\n",
       "    </tr>\n",
       "    <tr>\n",
       "      <th>2</th>\n",
       "      <td>INDIA TOUR OF ZIMBABWE 2024</td>\n",
       "      <td>Harare</td>\n",
       "      <td>6 JULY, 2024</td>\n",
       "      <td>8:00 PM IST</td>\n",
       "    </tr>\n",
       "    <tr>\n",
       "      <th>3</th>\n",
       "      <td>INDIA TOUR OF ZIMBABWE 2024</td>\n",
       "      <td>Harare</td>\n",
       "      <td>7 JULY, 2024</td>\n",
       "      <td>8:00 PM IST</td>\n",
       "    </tr>\n",
       "    <tr>\n",
       "      <th>4</th>\n",
       "      <td>INDIA TOUR OF ZIMBABWE 2024</td>\n",
       "      <td>Harare</td>\n",
       "      <td>10 JULY, 2024</td>\n",
       "      <td>8:00 PM IST</td>\n",
       "    </tr>\n",
       "    <tr>\n",
       "      <th>5</th>\n",
       "      <td>INDIA TOUR OF ZIMBABWE 2024</td>\n",
       "      <td>Harare</td>\n",
       "      <td>13 JULY, 2024</td>\n",
       "      <td>8:00 PM IST</td>\n",
       "    </tr>\n",
       "    <tr>\n",
       "      <th>6</th>\n",
       "      <td>INDIA TOUR OF ZIMBABWE 2024</td>\n",
       "      <td>Harare</td>\n",
       "      <td>14 JULY, 2024</td>\n",
       "      <td>8:00 PM IST</td>\n",
       "    </tr>\n",
       "  </tbody>\n",
       "</table>\n",
       "</div>"
      ],
      "text/plain": [
       "                          Series       Place               Date         Time\n",
       "0  ENGLAND TOUR OF INDIA 2023-24      Ranchi  23 FEBRUARY, 2024  9:30 AM IST\n",
       "1  ENGLAND TOUR OF INDIA 2023-24  Dharamsala      7 MARCH, 2024  9:30 AM IST\n",
       "2    INDIA TOUR OF ZIMBABWE 2024      Harare       6 JULY, 2024  8:00 PM IST\n",
       "3    INDIA TOUR OF ZIMBABWE 2024      Harare       7 JULY, 2024  8:00 PM IST\n",
       "4    INDIA TOUR OF ZIMBABWE 2024      Harare      10 JULY, 2024  8:00 PM IST\n",
       "5    INDIA TOUR OF ZIMBABWE 2024      Harare      13 JULY, 2024  8:00 PM IST\n",
       "6    INDIA TOUR OF ZIMBABWE 2024      Harare      14 JULY, 2024  8:00 PM IST"
      ]
     },
     "execution_count": 39,
     "metadata": {},
     "output_type": "execute_result"
    }
   ],
   "source": [
    "#Create dataframe and print:-\n",
    "\n",
    "df=pd.DataFrame({'Series':series,'Place':place,'Date':date,'Time':time})\n",
    "\n",
    "df"
   ]
  },
  {
   "cell_type": "code",
   "execution_count": null,
   "id": "7589852a",
   "metadata": {},
   "outputs": [],
   "source": []
  },
  {
   "cell_type": "code",
   "execution_count": null,
   "id": "9f1ec222",
   "metadata": {},
   "outputs": [],
   "source": []
  },
  {
   "cell_type": "markdown",
   "id": "e18f19ba",
   "metadata": {},
   "source": [
    "#Question no. 3:-Scrape the details of State-wise GDP of India from statisticstime.com. \n",
    "Url = http://statisticstimes.com/ \n",
    "You have to find following details: A) Rank \n",
    "B) State \n",
    "C) GSDP(18-19)- at current prices \n",
    "D) GSDP(19-20)- at current prices \n",
    "E) Share(18-19) \n",
    "F) GDP($ billion)"
   ]
  },
  {
   "cell_type": "code",
   "execution_count": 1,
   "id": "090c8ab3",
   "metadata": {},
   "outputs": [],
   "source": [
    "#import required libraries:-\n",
    "\n",
    "import selenium\n",
    "import pandas as pd\n",
    "from selenium import webdriver\n",
    "import warnings\n",
    "warnings.filterwarnings('ignore')\n",
    "from selenium.webdriver.common.by import By\n",
    "import time"
   ]
  },
  {
   "cell_type": "code",
   "execution_count": 2,
   "id": "72e355b3",
   "metadata": {},
   "outputs": [],
   "source": [
    "#Create a driver object:-\n",
    "\n",
    "driver=webdriver.Chrome()"
   ]
  },
  {
   "cell_type": "code",
   "execution_count": 3,
   "id": "11019f59",
   "metadata": {},
   "outputs": [],
   "source": [
    "#Go to webpage:-\n",
    "\n",
    "driver.get('https://statisticstimes.com/')"
   ]
  },
  {
   "cell_type": "code",
   "execution_count": 4,
   "id": "6770d342",
   "metadata": {},
   "outputs": [],
   "source": [
    "#Click on economy:-\n",
    "\n",
    "search=driver.find_element(By.XPATH,'//div[2][@class=\"dropdown\"]')\n",
    "search.click()"
   ]
  },
  {
   "cell_type": "code",
   "execution_count": 9,
   "id": "5de573de",
   "metadata": {},
   "outputs": [],
   "source": [
    "#Click on indian state_wise GDP:-\n",
    "\n",
    "search_btn=driver.find_element(By.XPATH,'/html/body/div[2]/div[2]/div[2]/ul/li[1]/a')\n",
    "search_btn.click()"
   ]
  },
  {
   "cell_type": "code",
   "execution_count": 10,
   "id": "ce7af106",
   "metadata": {},
   "outputs": [],
   "source": [
    "#Create Empty Lists:-\n",
    "\n",
    "rank=[]\n",
    "state=[]\n",
    "GSDP_21_22=[]\n",
    "GSDP_22_23=[]\n",
    "share_21_22=[]\n",
    "GDP_billion=[]"
   ]
  },
  {
   "cell_type": "code",
   "execution_count": 15,
   "id": "4c34830d",
   "metadata": {},
   "outputs": [],
   "source": [
    "#Scraping rank:-\n",
    "\n",
    "rank_tag=driver.find_elements(By.XPATH,'//td[@class=\"data1\"]')\n",
    "for i in rank_tag:\n",
    "    rank.append(i.text)"
   ]
  },
  {
   "cell_type": "code",
   "execution_count": 17,
   "id": "bb59b051",
   "metadata": {},
   "outputs": [],
   "source": [
    "#Scraping State:-\n",
    "\n",
    "state_tag=driver.find_elements(By.XPATH,'//td[@class=\"name\"]')\n",
    "for i in state_tag:\n",
    "    state.append(i.text)"
   ]
  },
  {
   "cell_type": "code",
   "execution_count": 19,
   "id": "2f48aeb8",
   "metadata": {},
   "outputs": [],
   "source": [
    "#Scraping GSDP for year 21_22:-\n",
    "\n",
    "GSDP_22_tag=driver.find_elements(By.XPATH,'//td[@class=\"data sorting_1\"]')\n",
    "for i in GSDP_22_tag:\n",
    "    GSDP_21_22.append(i.text)"
   ]
  },
  {
   "cell_type": "code",
   "execution_count": 20,
   "id": "54c344d9",
   "metadata": {},
   "outputs": [],
   "source": [
    "#Scraping GSDP for year 22_23:-\n",
    "\n",
    "GSDP_23_tag=driver.find_elements(By.XPATH,'//td[3][@class=\"data\"]')\n",
    "for i in GSDP_23_tag:\n",
    "    GSDP_22_23.append(i.text)"
   ]
  },
  {
   "cell_type": "code",
   "execution_count": 21,
   "id": "417892d1",
   "metadata": {},
   "outputs": [],
   "source": [
    "#Scraping GSDP for year 21_22:-\n",
    "\n",
    "share_tag=driver.find_elements(By.XPATH,'//td[5][@class=\"data\"]')\n",
    "for i in share_tag:\n",
    "    share_21_22.append(i.text)"
   ]
  },
  {
   "cell_type": "code",
   "execution_count": 22,
   "id": "df13e0ff",
   "metadata": {},
   "outputs": [],
   "source": [
    "#Scraping GDP billion:-\n",
    "\n",
    "billion_tag=driver.find_elements(By.XPATH,'//td[6][@class=\"data\"]')\n",
    "for i in billion_tag:\n",
    "    GDP_billion.append(i.text)"
   ]
  },
  {
   "cell_type": "code",
   "execution_count": 23,
   "id": "aeadd8ed",
   "metadata": {},
   "outputs": [
    {
     "data": {
      "text/html": [
       "<div>\n",
       "<style scoped>\n",
       "    .dataframe tbody tr th:only-of-type {\n",
       "        vertical-align: middle;\n",
       "    }\n",
       "\n",
       "    .dataframe tbody tr th {\n",
       "        vertical-align: top;\n",
       "    }\n",
       "\n",
       "    .dataframe thead th {\n",
       "        text-align: right;\n",
       "    }\n",
       "</style>\n",
       "<table border=\"1\" class=\"dataframe\">\n",
       "  <thead>\n",
       "    <tr style=\"text-align: right;\">\n",
       "      <th></th>\n",
       "      <th>Rank</th>\n",
       "      <th>State</th>\n",
       "      <th>GSDP 21_22 Current prices</th>\n",
       "      <th>GSDP 22_23 Current Prices</th>\n",
       "      <th>Share 21_22</th>\n",
       "      <th>GDP($billion)</th>\n",
       "    </tr>\n",
       "  </thead>\n",
       "  <tbody>\n",
       "    <tr>\n",
       "      <th>0</th>\n",
       "      <td>1</td>\n",
       "      <td>Maharashtra</td>\n",
       "      <td>-</td>\n",
       "      <td>-</td>\n",
       "      <td>13.24%</td>\n",
       "      <td>417.163</td>\n",
       "    </tr>\n",
       "    <tr>\n",
       "      <th>1</th>\n",
       "      <td>2</td>\n",
       "      <td>Tamil Nadu</td>\n",
       "      <td>2,364,514</td>\n",
       "      <td>2,364,514</td>\n",
       "      <td>8.82%</td>\n",
       "      <td>278.011</td>\n",
       "    </tr>\n",
       "    <tr>\n",
       "      <th>2</th>\n",
       "      <td>3</td>\n",
       "      <td>Uttar Pradesh</td>\n",
       "      <td>2,257,575</td>\n",
       "      <td>2,257,575</td>\n",
       "      <td>8.41%</td>\n",
       "      <td>265.024</td>\n",
       "    </tr>\n",
       "    <tr>\n",
       "      <th>3</th>\n",
       "      <td>4</td>\n",
       "      <td>Karnataka</td>\n",
       "      <td>2,241,368</td>\n",
       "      <td>2,241,368</td>\n",
       "      <td>8.36%</td>\n",
       "      <td>263.440</td>\n",
       "    </tr>\n",
       "    <tr>\n",
       "      <th>4</th>\n",
       "      <td>5</td>\n",
       "      <td>Gujarat</td>\n",
       "      <td>-</td>\n",
       "      <td>-</td>\n",
       "      <td>8.25%</td>\n",
       "      <td>259.996</td>\n",
       "    </tr>\n",
       "    <tr>\n",
       "      <th>5</th>\n",
       "      <td>6</td>\n",
       "      <td>West Bengal</td>\n",
       "      <td>1,554,992</td>\n",
       "      <td>1,554,992</td>\n",
       "      <td>5.81%</td>\n",
       "      <td>183.068</td>\n",
       "    </tr>\n",
       "    <tr>\n",
       "      <th>6</th>\n",
       "      <td>7</td>\n",
       "      <td>Rajasthan</td>\n",
       "      <td>1,413,620</td>\n",
       "      <td>1,413,620</td>\n",
       "      <td>5.19%</td>\n",
       "      <td>163.507</td>\n",
       "    </tr>\n",
       "    <tr>\n",
       "      <th>7</th>\n",
       "      <td>8</td>\n",
       "      <td>Madhya Pradesh</td>\n",
       "      <td>1,322,821</td>\n",
       "      <td>1,322,821</td>\n",
       "      <td>4.84%</td>\n",
       "      <td>152.494</td>\n",
       "    </tr>\n",
       "    <tr>\n",
       "      <th>8</th>\n",
       "      <td>9</td>\n",
       "      <td>Andhra Pradesh</td>\n",
       "      <td>1,317,728</td>\n",
       "      <td>1,317,728</td>\n",
       "      <td>4.83%</td>\n",
       "      <td>152.185</td>\n",
       "    </tr>\n",
       "    <tr>\n",
       "      <th>9</th>\n",
       "      <td>10</td>\n",
       "      <td>Telangana</td>\n",
       "      <td>1,313,391</td>\n",
       "      <td>1,313,391</td>\n",
       "      <td>4.81%</td>\n",
       "      <td>151.523</td>\n",
       "    </tr>\n",
       "    <tr>\n",
       "      <th>10</th>\n",
       "      <td>11</td>\n",
       "      <td>Kerala</td>\n",
       "      <td>-</td>\n",
       "      <td>-</td>\n",
       "      <td>3.97%</td>\n",
       "      <td>125.157</td>\n",
       "    </tr>\n",
       "    <tr>\n",
       "      <th>11</th>\n",
       "      <td>12</td>\n",
       "      <td>Delhi</td>\n",
       "      <td>1,043,759</td>\n",
       "      <td>1,043,759</td>\n",
       "      <td>3.85%</td>\n",
       "      <td>121.422</td>\n",
       "    </tr>\n",
       "    <tr>\n",
       "      <th>12</th>\n",
       "      <td>13</td>\n",
       "      <td>Haryana</td>\n",
       "      <td>994,154</td>\n",
       "      <td>994,154</td>\n",
       "      <td>3.71%</td>\n",
       "      <td>116.862</td>\n",
       "    </tr>\n",
       "    <tr>\n",
       "      <th>13</th>\n",
       "      <td>14</td>\n",
       "      <td>Odisha</td>\n",
       "      <td>774,869</td>\n",
       "      <td>774,869</td>\n",
       "      <td>2.86%</td>\n",
       "      <td>90.047</td>\n",
       "    </tr>\n",
       "    <tr>\n",
       "      <th>14</th>\n",
       "      <td>15</td>\n",
       "      <td>Bihar</td>\n",
       "      <td>751,396</td>\n",
       "      <td>751,396</td>\n",
       "      <td>2.77%</td>\n",
       "      <td>87.284</td>\n",
       "    </tr>\n",
       "    <tr>\n",
       "      <th>15</th>\n",
       "      <td>16</td>\n",
       "      <td>Punjab</td>\n",
       "      <td>673,107</td>\n",
       "      <td>673,107</td>\n",
       "      <td>2.62%</td>\n",
       "      <td>82.442</td>\n",
       "    </tr>\n",
       "    <tr>\n",
       "      <th>16</th>\n",
       "      <td>17</td>\n",
       "      <td>Assam</td>\n",
       "      <td>493,167</td>\n",
       "      <td>493,167</td>\n",
       "      <td>1.76%</td>\n",
       "      <td>55.381</td>\n",
       "    </tr>\n",
       "    <tr>\n",
       "      <th>17</th>\n",
       "      <td>18</td>\n",
       "      <td>Chhattisgarh</td>\n",
       "      <td>457,608</td>\n",
       "      <td>457,608</td>\n",
       "      <td>1.73%</td>\n",
       "      <td>54.550</td>\n",
       "    </tr>\n",
       "    <tr>\n",
       "      <th>18</th>\n",
       "      <td>19</td>\n",
       "      <td>Jharkhand</td>\n",
       "      <td>393,722</td>\n",
       "      <td>393,722</td>\n",
       "      <td>1.53%</td>\n",
       "      <td>48.167</td>\n",
       "    </tr>\n",
       "    <tr>\n",
       "      <th>19</th>\n",
       "      <td>20</td>\n",
       "      <td>Uttarakhand</td>\n",
       "      <td>302,621</td>\n",
       "      <td>302,621</td>\n",
       "      <td>1.16%</td>\n",
       "      <td>36.530</td>\n",
       "    </tr>\n",
       "    <tr>\n",
       "      <th>20</th>\n",
       "      <td>21</td>\n",
       "      <td>Jammu &amp; Kashmir-UT</td>\n",
       "      <td>227,927</td>\n",
       "      <td>227,927</td>\n",
       "      <td>0.85%</td>\n",
       "      <td>26.833</td>\n",
       "    </tr>\n",
       "    <tr>\n",
       "      <th>21</th>\n",
       "      <td>22</td>\n",
       "      <td>Himachal Pradesh</td>\n",
       "      <td>195,405</td>\n",
       "      <td>195,405</td>\n",
       "      <td>0.75%</td>\n",
       "      <td>23.659</td>\n",
       "    </tr>\n",
       "    <tr>\n",
       "      <th>22</th>\n",
       "      <td>23</td>\n",
       "      <td>Goa</td>\n",
       "      <td>-</td>\n",
       "      <td>-</td>\n",
       "      <td>0.35%</td>\n",
       "      <td>11.087</td>\n",
       "    </tr>\n",
       "    <tr>\n",
       "      <th>23</th>\n",
       "      <td>24</td>\n",
       "      <td>Tripura</td>\n",
       "      <td>72,636</td>\n",
       "      <td>72,636</td>\n",
       "      <td>0.27%</td>\n",
       "      <td>8.396</td>\n",
       "    </tr>\n",
       "    <tr>\n",
       "      <th>24</th>\n",
       "      <td>25</td>\n",
       "      <td>Chandigarh</td>\n",
       "      <td>-</td>\n",
       "      <td>-</td>\n",
       "      <td>0.19%</td>\n",
       "      <td>6.125</td>\n",
       "    </tr>\n",
       "    <tr>\n",
       "      <th>25</th>\n",
       "      <td>26</td>\n",
       "      <td>Puducherry</td>\n",
       "      <td>-</td>\n",
       "      <td>-</td>\n",
       "      <td>0.19%</td>\n",
       "      <td>5.938</td>\n",
       "    </tr>\n",
       "    <tr>\n",
       "      <th>26</th>\n",
       "      <td>27</td>\n",
       "      <td>Meghalaya</td>\n",
       "      <td>42,697</td>\n",
       "      <td>42,697</td>\n",
       "      <td>0.17%</td>\n",
       "      <td>5.206</td>\n",
       "    </tr>\n",
       "    <tr>\n",
       "      <th>27</th>\n",
       "      <td>28</td>\n",
       "      <td>Sikkim</td>\n",
       "      <td>42,756</td>\n",
       "      <td>42,756</td>\n",
       "      <td>0.16%</td>\n",
       "      <td>5.041</td>\n",
       "    </tr>\n",
       "    <tr>\n",
       "      <th>28</th>\n",
       "      <td>29</td>\n",
       "      <td>Manipur</td>\n",
       "      <td>-</td>\n",
       "      <td>-</td>\n",
       "      <td>0.16%</td>\n",
       "      <td>4.912</td>\n",
       "    </tr>\n",
       "    <tr>\n",
       "      <th>29</th>\n",
       "      <td>30</td>\n",
       "      <td>Arunachal Pradesh</td>\n",
       "      <td>-</td>\n",
       "      <td>-</td>\n",
       "      <td>0.15%</td>\n",
       "      <td>4.714</td>\n",
       "    </tr>\n",
       "    <tr>\n",
       "      <th>30</th>\n",
       "      <td>31</td>\n",
       "      <td>Nagaland</td>\n",
       "      <td>-</td>\n",
       "      <td>-</td>\n",
       "      <td>0.14%</td>\n",
       "      <td>4.283</td>\n",
       "    </tr>\n",
       "    <tr>\n",
       "      <th>31</th>\n",
       "      <td>32</td>\n",
       "      <td>Mizoram</td>\n",
       "      <td>-</td>\n",
       "      <td>-</td>\n",
       "      <td>0.12%</td>\n",
       "      <td>3.735</td>\n",
       "    </tr>\n",
       "    <tr>\n",
       "      <th>32</th>\n",
       "      <td>33</td>\n",
       "      <td>Andaman &amp; Nicobar Islands</td>\n",
       "      <td>-</td>\n",
       "      <td>-</td>\n",
       "      <td>0.04%</td>\n",
       "      <td>1.392</td>\n",
       "    </tr>\n",
       "  </tbody>\n",
       "</table>\n",
       "</div>"
      ],
      "text/plain": [
       "   Rank                      State GSDP 21_22 Current prices  \\\n",
       "0     1                Maharashtra                         -   \n",
       "1     2                 Tamil Nadu                 2,364,514   \n",
       "2     3              Uttar Pradesh                 2,257,575   \n",
       "3     4                  Karnataka                 2,241,368   \n",
       "4     5                    Gujarat                         -   \n",
       "5     6                West Bengal                 1,554,992   \n",
       "6     7                  Rajasthan                 1,413,620   \n",
       "7     8             Madhya Pradesh                 1,322,821   \n",
       "8     9             Andhra Pradesh                 1,317,728   \n",
       "9    10                  Telangana                 1,313,391   \n",
       "10   11                     Kerala                         -   \n",
       "11   12                      Delhi                 1,043,759   \n",
       "12   13                    Haryana                   994,154   \n",
       "13   14                     Odisha                   774,869   \n",
       "14   15                      Bihar                   751,396   \n",
       "15   16                     Punjab                   673,107   \n",
       "16   17                      Assam                   493,167   \n",
       "17   18               Chhattisgarh                   457,608   \n",
       "18   19                  Jharkhand                   393,722   \n",
       "19   20                Uttarakhand                   302,621   \n",
       "20   21         Jammu & Kashmir-UT                   227,927   \n",
       "21   22           Himachal Pradesh                   195,405   \n",
       "22   23                        Goa                         -   \n",
       "23   24                    Tripura                    72,636   \n",
       "24   25                 Chandigarh                         -   \n",
       "25   26                 Puducherry                         -   \n",
       "26   27                  Meghalaya                    42,697   \n",
       "27   28                     Sikkim                    42,756   \n",
       "28   29                    Manipur                         -   \n",
       "29   30          Arunachal Pradesh                         -   \n",
       "30   31                   Nagaland                         -   \n",
       "31   32                    Mizoram                         -   \n",
       "32   33  Andaman & Nicobar Islands                         -   \n",
       "\n",
       "   GSDP 22_23 Current Prices Share 21_22 GDP($billion)  \n",
       "0                          -      13.24%       417.163  \n",
       "1                  2,364,514       8.82%       278.011  \n",
       "2                  2,257,575       8.41%       265.024  \n",
       "3                  2,241,368       8.36%       263.440  \n",
       "4                          -       8.25%       259.996  \n",
       "5                  1,554,992       5.81%       183.068  \n",
       "6                  1,413,620       5.19%       163.507  \n",
       "7                  1,322,821       4.84%       152.494  \n",
       "8                  1,317,728       4.83%       152.185  \n",
       "9                  1,313,391       4.81%       151.523  \n",
       "10                         -       3.97%       125.157  \n",
       "11                 1,043,759       3.85%       121.422  \n",
       "12                   994,154       3.71%       116.862  \n",
       "13                   774,869       2.86%        90.047  \n",
       "14                   751,396       2.77%        87.284  \n",
       "15                   673,107       2.62%        82.442  \n",
       "16                   493,167       1.76%        55.381  \n",
       "17                   457,608       1.73%        54.550  \n",
       "18                   393,722       1.53%        48.167  \n",
       "19                   302,621       1.16%        36.530  \n",
       "20                   227,927       0.85%        26.833  \n",
       "21                   195,405       0.75%        23.659  \n",
       "22                         -       0.35%        11.087  \n",
       "23                    72,636       0.27%         8.396  \n",
       "24                         -       0.19%         6.125  \n",
       "25                         -       0.19%         5.938  \n",
       "26                    42,697       0.17%         5.206  \n",
       "27                    42,756       0.16%         5.041  \n",
       "28                         -       0.16%         4.912  \n",
       "29                         -       0.15%         4.714  \n",
       "30                         -       0.14%         4.283  \n",
       "31                         -       0.12%         3.735  \n",
       "32                         -       0.04%         1.392  "
      ]
     },
     "execution_count": 23,
     "metadata": {},
     "output_type": "execute_result"
    }
   ],
   "source": [
    "#Create Dataframe and print:-\n",
    "\n",
    "df=pd.DataFrame({'Rank':rank[0:33],'State':state[0:33],'GSDP 21_22 Current prices':GSDP_21_22[0:33],'GSDP 22_23 Current Prices':GSDP_22_23[0:33],'Share 21_22':share_21_22[0:33],'GDP($billion)':GDP_billion[0:33]})\n",
    "\n",
    "df"
   ]
  },
  {
   "cell_type": "code",
   "execution_count": null,
   "id": "927b11fb",
   "metadata": {},
   "outputs": [],
   "source": []
  },
  {
   "cell_type": "code",
   "execution_count": null,
   "id": "5fa75f34",
   "metadata": {},
   "outputs": [],
   "source": []
  },
  {
   "cell_type": "markdown",
   "id": "75bdefe2",
   "metadata": {},
   "source": [
    "#Question no. 4:-Scrape the details of trending repositories on Github.com. \n",
    "Url = https://github.com/ \n",
    "You have to find the following details: \n",
    "A) Repository title \n",
    "B) Repository description \n",
    "C) Contributors count \n",
    "D) Language used"
   ]
  },
  {
   "cell_type": "code",
   "execution_count": 11,
   "id": "ffb7debc",
   "metadata": {},
   "outputs": [],
   "source": [
    "#Importing the required libraries:-\n",
    "\n",
    "import selenium\n",
    "from selenium import webdriver\n",
    "from selenium.webdriver.common.keys import Keys\n",
    "from selenium.common.exceptions import NoSuchElementException\n",
    "import warnings\n",
    "warnings.filterwarnings('ignore')\n",
    "from selenium.webdriver.common.by import By\n",
    "import time\n",
    "import pandas as pd\n",
    "import re"
   ]
  },
  {
   "cell_type": "code",
   "execution_count": 12,
   "id": "a91be84e",
   "metadata": {},
   "outputs": [],
   "source": [
    "#Create a driver object:-\n",
    "\n",
    "driver=webdriver.Chrome()"
   ]
  },
  {
   "cell_type": "code",
   "execution_count": 13,
   "id": "698c9452",
   "metadata": {},
   "outputs": [],
   "source": [
    "#Go to webpage:-\n",
    "\n",
    "driver.get(\"https://github.com/\")"
   ]
  },
  {
   "cell_type": "code",
   "execution_count": 14,
   "id": "3e2825fc",
   "metadata": {},
   "outputs": [],
   "source": [
    "#Click on explore menu:-\n",
    "\n",
    "search=driver.find_elements(By.XPATH,'/html/body/div[1]/div[1]/header/div/div[2]/div/nav/ul/li[3]/div/div[3]/ul/li[2]/a')"
   ]
  },
  {
   "cell_type": "code",
   "execution_count": 17,
   "id": "f7105e62",
   "metadata": {},
   "outputs": [],
   "source": [
    "#Click on trending option:-\n",
    "\n",
    "search_tag=driver.find_elements(By.LINK_TEXT,'Trending')"
   ]
  },
  {
   "cell_type": "code",
   "execution_count": 18,
   "id": "83201c69",
   "metadata": {},
   "outputs": [],
   "source": [
    "#scrape all product urls:-\n",
    "product_urls=[]\n",
    "#scraping urls:-\n",
    "url=driver.find_elements(By.XPATH,'//a[@class=\"Link\"]')\n",
    "for i in url:\n",
    "    product_urls.append(i.get_attribute(\"href\"))"
   ]
  },
  {
   "cell_type": "code",
   "execution_count": 19,
   "id": "c9142a6f",
   "metadata": {},
   "outputs": [
    {
     "data": {
      "text/plain": [
       "25"
      ]
     },
     "execution_count": 19,
     "metadata": {},
     "output_type": "execute_result"
    }
   ],
   "source": [
    "len(product_urls)"
   ]
  },
  {
   "cell_type": "code",
   "execution_count": 20,
   "id": "4e1ce3b6",
   "metadata": {},
   "outputs": [],
   "source": [
    "#Create Empty Lists:-\n",
    "\n",
    "title=[]\n",
    "description=[]\n",
    "contri_count=[]\n",
    "language=[]"
   ]
  },
  {
   "cell_type": "code",
   "execution_count": 21,
   "id": "6c4c98a8",
   "metadata": {},
   "outputs": [],
   "source": [
    "#Looping through each information:-\n",
    "\n",
    "for url in product_urls:\n",
    "    driver.get(url)\n",
    "    time.sleep(2)\n",
    "        \n",
    "    \n",
    "    #Scraping Repository title:-\n",
    "    try:\n",
    "        title_tag=driver.find_element(By.XPATH,'//strong[@class=\"mr-2 flex-self-stretch\"]')\n",
    "        title.append(title_tag.text)\n",
    "    except NoSuchElementException:\n",
    "        title.append(\"-\")\n",
    "        \n",
    "    #Scraping Repository description:-    \n",
    "    try:\n",
    "        des_tag=driver.find_element(By.XPATH,'//p[@class=\"f4 my-3\"]')\n",
    "        description.append(des_tag.text)\n",
    "    except NoSuchElementException:\n",
    "        description.append(\"-\")\n",
    "        \n",
    "    #Scraping Repository Countributors count:-\n",
    "    try:\n",
    "        count_tag=driver.find_element(By.XPATH,'//span[@class=\"Counter ml-1\"]')\n",
    "        contri_count.append(count_tag.text)\n",
    "    except NoSuchElementException:\n",
    "        contri_count.append(\"-\")\n",
    "    \n",
    "    #Scraping Repository language used:-\n",
    "    try:\n",
    "        lang_tag=driver.find_element(By.XPATH,'//span[@class=\"color-fg-default text-bold mr-1\"]')\n",
    "        language.append(lang_tag.text)\n",
    "    except NoSuchElementException:\n",
    "        language.append(\"-\")"
   ]
  },
  {
   "cell_type": "code",
   "execution_count": 22,
   "id": "f48bb6ab",
   "metadata": {},
   "outputs": [
    {
     "data": {
      "text/plain": [
       "25"
      ]
     },
     "execution_count": 22,
     "metadata": {},
     "output_type": "execute_result"
    }
   ],
   "source": [
    "#Scraping each length:-\n",
    "\n",
    "len(title)"
   ]
  },
  {
   "cell_type": "code",
   "execution_count": 23,
   "id": "8045a99e",
   "metadata": {},
   "outputs": [
    {
     "data": {
      "text/plain": [
       "25"
      ]
     },
     "execution_count": 23,
     "metadata": {},
     "output_type": "execute_result"
    }
   ],
   "source": [
    "len(description)"
   ]
  },
  {
   "cell_type": "code",
   "execution_count": 24,
   "id": "a45bc8ec",
   "metadata": {},
   "outputs": [
    {
     "data": {
      "text/plain": [
       "25"
      ]
     },
     "execution_count": 24,
     "metadata": {},
     "output_type": "execute_result"
    }
   ],
   "source": [
    "len(contri_count)"
   ]
  },
  {
   "cell_type": "code",
   "execution_count": 25,
   "id": "193505b1",
   "metadata": {},
   "outputs": [
    {
     "data": {
      "text/plain": [
       "25"
      ]
     },
     "execution_count": 25,
     "metadata": {},
     "output_type": "execute_result"
    }
   ],
   "source": [
    "len(language)"
   ]
  },
  {
   "cell_type": "code",
   "execution_count": 26,
   "id": "e2b8f367",
   "metadata": {},
   "outputs": [
    {
     "data": {
      "text/html": [
       "<div>\n",
       "<style scoped>\n",
       "    .dataframe tbody tr th:only-of-type {\n",
       "        vertical-align: middle;\n",
       "    }\n",
       "\n",
       "    .dataframe tbody tr th {\n",
       "        vertical-align: top;\n",
       "    }\n",
       "\n",
       "    .dataframe thead th {\n",
       "        text-align: right;\n",
       "    }\n",
       "</style>\n",
       "<table border=\"1\" class=\"dataframe\">\n",
       "  <thead>\n",
       "    <tr style=\"text-align: right;\">\n",
       "      <th></th>\n",
       "      <th>Repository Title</th>\n",
       "      <th>Repository Description</th>\n",
       "      <th>Contributors Count</th>\n",
       "      <th>Language</th>\n",
       "    </tr>\n",
       "  </thead>\n",
       "  <tbody>\n",
       "    <tr>\n",
       "      <th>0</th>\n",
       "      <td>I-S00N</td>\n",
       "      <td>-</td>\n",
       "      <td></td>\n",
       "      <td>-</td>\n",
       "    </tr>\n",
       "    <tr>\n",
       "      <th>1</th>\n",
       "      <td>minbpe</td>\n",
       "      <td>Minimal, clean, code for the Byte Pair Encodin...</td>\n",
       "      <td>6</td>\n",
       "      <td>Python</td>\n",
       "    </tr>\n",
       "    <tr>\n",
       "      <th>2</th>\n",
       "      <td>magika</td>\n",
       "      <td>Detect file content types with deep learning</td>\n",
       "      <td></td>\n",
       "      <td>Python</td>\n",
       "    </tr>\n",
       "    <tr>\n",
       "      <th>3</th>\n",
       "      <td>sherlock</td>\n",
       "      <td>🔎 Hunt down social media accounts by username ...</td>\n",
       "      <td>201</td>\n",
       "      <td>Python</td>\n",
       "    </tr>\n",
       "    <tr>\n",
       "      <th>4</th>\n",
       "      <td>DiT</td>\n",
       "      <td>Official PyTorch Implementation of \"Scalable D...</td>\n",
       "      <td>3</td>\n",
       "      <td>Python</td>\n",
       "    </tr>\n",
       "    <tr>\n",
       "      <th>5</th>\n",
       "      <td>LWM</td>\n",
       "      <td>-</td>\n",
       "      <td></td>\n",
       "      <td>Python</td>\n",
       "    </tr>\n",
       "    <tr>\n",
       "      <th>6</th>\n",
       "      <td>gpt4free</td>\n",
       "      <td>The official gpt4free repository | various col...</td>\n",
       "      <td>179</td>\n",
       "      <td>Python</td>\n",
       "    </tr>\n",
       "    <tr>\n",
       "      <th>7</th>\n",
       "      <td>lobe-chat</td>\n",
       "      <td>🤖 Lobe Chat - an open-source, high-performance...</td>\n",
       "      <td>62</td>\n",
       "      <td>TypeScript</td>\n",
       "    </tr>\n",
       "    <tr>\n",
       "      <th>8</th>\n",
       "      <td>UFO</td>\n",
       "      <td>A UI-Focused Agent for Windows OS Interaction.</td>\n",
       "      <td>4</td>\n",
       "      <td>Python</td>\n",
       "    </tr>\n",
       "    <tr>\n",
       "      <th>9</th>\n",
       "      <td>jepa</td>\n",
       "      <td>PyTorch code and models for V-JEPA self-superv...</td>\n",
       "      <td></td>\n",
       "      <td>Python</td>\n",
       "    </tr>\n",
       "    <tr>\n",
       "      <th>10</th>\n",
       "      <td>hello-algo</td>\n",
       "      <td>《Hello 算法》：动画图解、一键运行的数据结构与算法教程，支持 Python, C++,...</td>\n",
       "      <td>140</td>\n",
       "      <td>Java</td>\n",
       "    </tr>\n",
       "    <tr>\n",
       "      <th>11</th>\n",
       "      <td>hiddify-next</td>\n",
       "      <td>Multi-platform auto-proxy client, supporting S...</td>\n",
       "      <td></td>\n",
       "      <td>Dart</td>\n",
       "    </tr>\n",
       "    <tr>\n",
       "      <th>12</th>\n",
       "      <td>Langchain-Chatchat</td>\n",
       "      <td>Langchain-Chatchat（原Langchain-ChatGLM）基于 Langc...</td>\n",
       "      <td></td>\n",
       "      <td>Python</td>\n",
       "    </tr>\n",
       "    <tr>\n",
       "      <th>13</th>\n",
       "      <td>react-native</td>\n",
       "      <td>A framework for building native applications u...</td>\n",
       "      <td></td>\n",
       "      <td>C++</td>\n",
       "    </tr>\n",
       "    <tr>\n",
       "      <th>14</th>\n",
       "      <td>Rope</td>\n",
       "      <td>GUI-focused roop</td>\n",
       "      <td></td>\n",
       "      <td>Python</td>\n",
       "    </tr>\n",
       "    <tr>\n",
       "      <th>15</th>\n",
       "      <td>ruoyi-vue-pro</td>\n",
       "      <td>🔥 官方推荐 🔥 RuoYi-Vue 全新 Pro 版本，优化重构所有功能。基于 Sprin...</td>\n",
       "      <td></td>\n",
       "      <td>Java</td>\n",
       "    </tr>\n",
       "    <tr>\n",
       "      <th>16</th>\n",
       "      <td>CorsixTH</td>\n",
       "      <td>Open source clone of Theme Hospital</td>\n",
       "      <td></td>\n",
       "      <td>Lua</td>\n",
       "    </tr>\n",
       "    <tr>\n",
       "      <th>17</th>\n",
       "      <td>ChatGPT-Next-Web</td>\n",
       "      <td>A cross-platform ChatGPT/Gemini UI (Web / PWA ...</td>\n",
       "      <td>165</td>\n",
       "      <td>TypeScript</td>\n",
       "    </tr>\n",
       "    <tr>\n",
       "      <th>18</th>\n",
       "      <td>contribute-to-scroll</td>\n",
       "      <td>This repository guides developers wanting to c...</td>\n",
       "      <td>9</td>\n",
       "      <td>-</td>\n",
       "    </tr>\n",
       "    <tr>\n",
       "      <th>19</th>\n",
       "      <td>gligen-gui</td>\n",
       "      <td>An intuitive GUI for GLIGEN that uses ComfyUI ...</td>\n",
       "      <td></td>\n",
       "      <td>JavaScript</td>\n",
       "    </tr>\n",
       "    <tr>\n",
       "      <th>20</th>\n",
       "      <td>stable-diffusion-webui</td>\n",
       "      <td>Stable Diffusion web UI</td>\n",
       "      <td></td>\n",
       "      <td>Python</td>\n",
       "    </tr>\n",
       "    <tr>\n",
       "      <th>21</th>\n",
       "      <td>build-your-own-x</td>\n",
       "      <td>Master programming by recreating your favorite...</td>\n",
       "      <td></td>\n",
       "      <td>-</td>\n",
       "    </tr>\n",
       "    <tr>\n",
       "      <th>22</th>\n",
       "      <td>the-book-of-secret-knowledge</td>\n",
       "      <td>A collection of inspiring lists, manuals, chea...</td>\n",
       "      <td></td>\n",
       "      <td>-</td>\n",
       "    </tr>\n",
       "    <tr>\n",
       "      <th>23</th>\n",
       "      <td>the-art-of-command-line</td>\n",
       "      <td>Master the command line, in one page</td>\n",
       "      <td></td>\n",
       "      <td>-</td>\n",
       "    </tr>\n",
       "    <tr>\n",
       "      <th>24</th>\n",
       "      <td>CVE-2024-21413-Microsoft-Outlook-Remote-Code-E...</td>\n",
       "      <td>Microsoft-Outlook-Remote-Code-Execution-Vulner...</td>\n",
       "      <td></td>\n",
       "      <td>Python</td>\n",
       "    </tr>\n",
       "  </tbody>\n",
       "</table>\n",
       "</div>"
      ],
      "text/plain": [
       "                                     Repository Title  \\\n",
       "0                                              I-S00N   \n",
       "1                                              minbpe   \n",
       "2                                              magika   \n",
       "3                                            sherlock   \n",
       "4                                                 DiT   \n",
       "5                                                 LWM   \n",
       "6                                            gpt4free   \n",
       "7                                           lobe-chat   \n",
       "8                                                 UFO   \n",
       "9                                                jepa   \n",
       "10                                         hello-algo   \n",
       "11                                       hiddify-next   \n",
       "12                                 Langchain-Chatchat   \n",
       "13                                       react-native   \n",
       "14                                               Rope   \n",
       "15                                      ruoyi-vue-pro   \n",
       "16                                           CorsixTH   \n",
       "17                                   ChatGPT-Next-Web   \n",
       "18                               contribute-to-scroll   \n",
       "19                                         gligen-gui   \n",
       "20                             stable-diffusion-webui   \n",
       "21                                   build-your-own-x   \n",
       "22                       the-book-of-secret-knowledge   \n",
       "23                            the-art-of-command-line   \n",
       "24  CVE-2024-21413-Microsoft-Outlook-Remote-Code-E...   \n",
       "\n",
       "                               Repository Description Contributors Count  \\\n",
       "0                                                   -                      \n",
       "1   Minimal, clean, code for the Byte Pair Encodin...                  6   \n",
       "2        Detect file content types with deep learning                      \n",
       "3   🔎 Hunt down social media accounts by username ...                201   \n",
       "4   Official PyTorch Implementation of \"Scalable D...                  3   \n",
       "5                                                   -                      \n",
       "6   The official gpt4free repository | various col...                179   \n",
       "7   🤖 Lobe Chat - an open-source, high-performance...                 62   \n",
       "8      A UI-Focused Agent for Windows OS Interaction.                  4   \n",
       "9   PyTorch code and models for V-JEPA self-superv...                      \n",
       "10  《Hello 算法》：动画图解、一键运行的数据结构与算法教程，支持 Python, C++,...                140   \n",
       "11  Multi-platform auto-proxy client, supporting S...                      \n",
       "12  Langchain-Chatchat（原Langchain-ChatGLM）基于 Langc...                      \n",
       "13  A framework for building native applications u...                      \n",
       "14                                   GUI-focused roop                      \n",
       "15  🔥 官方推荐 🔥 RuoYi-Vue 全新 Pro 版本，优化重构所有功能。基于 Sprin...                      \n",
       "16                Open source clone of Theme Hospital                      \n",
       "17  A cross-platform ChatGPT/Gemini UI (Web / PWA ...                165   \n",
       "18  This repository guides developers wanting to c...                  9   \n",
       "19  An intuitive GUI for GLIGEN that uses ComfyUI ...                      \n",
       "20                            Stable Diffusion web UI                      \n",
       "21  Master programming by recreating your favorite...                      \n",
       "22  A collection of inspiring lists, manuals, chea...                      \n",
       "23               Master the command line, in one page                      \n",
       "24  Microsoft-Outlook-Remote-Code-Execution-Vulner...                      \n",
       "\n",
       "      Language  \n",
       "0            -  \n",
       "1       Python  \n",
       "2       Python  \n",
       "3       Python  \n",
       "4       Python  \n",
       "5       Python  \n",
       "6       Python  \n",
       "7   TypeScript  \n",
       "8       Python  \n",
       "9       Python  \n",
       "10        Java  \n",
       "11        Dart  \n",
       "12      Python  \n",
       "13         C++  \n",
       "14      Python  \n",
       "15        Java  \n",
       "16         Lua  \n",
       "17  TypeScript  \n",
       "18           -  \n",
       "19  JavaScript  \n",
       "20      Python  \n",
       "21           -  \n",
       "22           -  \n",
       "23           -  \n",
       "24      Python  "
      ]
     },
     "execution_count": 26,
     "metadata": {},
     "output_type": "execute_result"
    }
   ],
   "source": [
    "#Create Dataframe and print:-\n",
    "\n",
    "df=pd.DataFrame({'Repository Title':title,'Repository Description':description,'Contributors Count':contri_count,'Language':language})\n",
    "\n",
    "df"
   ]
  },
  {
   "cell_type": "code",
   "execution_count": null,
   "id": "55e9553c",
   "metadata": {},
   "outputs": [],
   "source": []
  },
  {
   "cell_type": "code",
   "execution_count": null,
   "id": "2e211505",
   "metadata": {},
   "outputs": [],
   "source": []
  },
  {
   "cell_type": "markdown",
   "id": "fcafd73c",
   "metadata": {},
   "source": [
    "#Question no. 5:-Scrape the details of top 100 songs on billiboard.com. Url = https:/www.billboard.com/ You have to find the \n",
    "following details: \n",
    "A) Song name \n",
    "B) Artist name \n",
    "C) Last week rank \n",
    "D) Peak rank \n",
    "E) Weeks on board "
   ]
  },
  {
   "cell_type": "code",
   "execution_count": 1,
   "id": "93b76115",
   "metadata": {},
   "outputs": [],
   "source": [
    "#Importing the required libraries:-\n",
    "\n",
    "import selenium\n",
    "from selenium import webdriver\n",
    "from selenium.webdriver.common.keys import Keys\n",
    "from selenium.common.exceptions import NoSuchElementException\n",
    "import warnings\n",
    "warnings.filterwarnings('ignore')\n",
    "from selenium.webdriver.common.by import By\n",
    "import time\n",
    "import pandas as pd\n",
    "import re"
   ]
  },
  {
   "cell_type": "code",
   "execution_count": 2,
   "id": "0e0ae076",
   "metadata": {},
   "outputs": [],
   "source": [
    "#Create a driver object:-\n",
    "\n",
    "driver=webdriver.Chrome()"
   ]
  },
  {
   "cell_type": "code",
   "execution_count": 3,
   "id": "509456a0",
   "metadata": {},
   "outputs": [],
   "source": [
    "#Go to webpage:-\n",
    "\n",
    "driver.get(\"https://www.billboard.com/\")"
   ]
  },
  {
   "cell_type": "code",
   "execution_count": 4,
   "id": "a5300ff3",
   "metadata": {},
   "outputs": [],
   "source": [
    "#Click on the Charts option:-\n",
    "search=driver.find_element(By.XPATH,'/html/body/div[3]/header/div/div[2]/div/div/div[2]/div[2]/div/div/nav/ul/li[1]/a')\n",
    "search.click()"
   ]
  },
  {
   "cell_type": "code",
   "execution_count": 5,
   "id": "46757741",
   "metadata": {},
   "outputs": [],
   "source": [
    "#Click on hot 100:-\n",
    "search_btn=driver.find_element(By.XPATH,'/html/body/div[3]/main/div[2]/div[1]/div[1]/div/div/div[1]/div/div[2]/span/a')\n",
    "search_btn.click()"
   ]
  },
  {
   "cell_type": "code",
   "execution_count": 29,
   "id": "67612113",
   "metadata": {},
   "outputs": [],
   "source": [
    "#Create Empty lists:-\n",
    "song_name=[]\n",
    "artist_name=[]\n",
    "last_rank=[]\n",
    "peak_rank=[]\n",
    "on_board=[]"
   ]
  },
  {
   "cell_type": "code",
   "execution_count": 30,
   "id": "0e22a557",
   "metadata": {},
   "outputs": [],
   "source": [
    "#Scraping first row song name:-\n",
    "\n",
    "name_tag=driver.find_elements(By.XPATH,'//h3[@class=\"c-title  a-no-trucate a-font-primary-bold-s u-letter-spacing-0021 u-font-size-23@tablet lrv-u-font-size-16 u-line-height-125 u-line-height-normal@mobile-max a-truncate-ellipsis u-max-width-245 u-max-width-230@tablet-only u-letter-spacing-0028@tablet\"]')\n",
    "for i in name_tag:\n",
    "    song_name.append(i.text)"
   ]
  },
  {
   "cell_type": "code",
   "execution_count": 31,
   "id": "372b313a",
   "metadata": {},
   "outputs": [
    {
     "data": {
      "text/plain": [
       "1"
      ]
     },
     "execution_count": 31,
     "metadata": {},
     "output_type": "execute_result"
    }
   ],
   "source": [
    "len(name_tag)"
   ]
  },
  {
   "cell_type": "code",
   "execution_count": 32,
   "id": "e00ae6a5",
   "metadata": {},
   "outputs": [],
   "source": [
    "#Scraping first row artist name:-\n",
    "\n",
    "artist_tag=driver.find_elements(By.XPATH,'//span[@class=\"c-label  a-no-trucate a-font-primary-s lrv-u-font-size-14@mobile-max u-line-height-normal@mobile-max u-letter-spacing-0021 lrv-u-display-block a-truncate-ellipsis-2line u-max-width-330 u-max-width-230@tablet-only u-font-size-20@tablet\"]')\n",
    "for i in artist_tag:\n",
    "    artist_name.append(i.text)"
   ]
  },
  {
   "cell_type": "code",
   "execution_count": 33,
   "id": "d950bedc",
   "metadata": {},
   "outputs": [
    {
     "data": {
      "text/plain": [
       "1"
      ]
     },
     "execution_count": 33,
     "metadata": {},
     "output_type": "execute_result"
    }
   ],
   "source": [
    "len(artist_name)"
   ]
  },
  {
   "cell_type": "code",
   "execution_count": 34,
   "id": "2453be54",
   "metadata": {},
   "outputs": [],
   "source": [
    "#Scraping remaining song_name:-\n",
    "name_tag=driver.find_elements(By.XPATH,'//h3[@class=\"c-title  a-no-trucate a-font-primary-bold-s u-letter-spacing-0021 lrv-u-font-size-18@tablet lrv-u-font-size-16 u-line-height-125 u-line-height-normal@mobile-max a-truncate-ellipsis u-max-width-330 u-max-width-230@tablet-only\"]')\n",
    "for i in name_tag:\n",
    "    song_name.append(i.text)"
   ]
  },
  {
   "cell_type": "code",
   "execution_count": 35,
   "id": "ca34e311",
   "metadata": {},
   "outputs": [
    {
     "data": {
      "text/plain": [
       "100"
      ]
     },
     "execution_count": 35,
     "metadata": {},
     "output_type": "execute_result"
    }
   ],
   "source": [
    "len(song_name)"
   ]
  },
  {
   "cell_type": "code",
   "execution_count": 36,
   "id": "c5a8c1cc",
   "metadata": {},
   "outputs": [],
   "source": [
    "#Scraping remaining artist_name:-\n",
    "artist_tag=driver.find_elements(By.XPATH,'//span[@class=\"c-label  a-no-trucate a-font-primary-s lrv-u-font-size-14@mobile-max u-line-height-normal@mobile-max u-letter-spacing-0021 lrv-u-display-block a-truncate-ellipsis-2line u-max-width-330 u-max-width-230@tablet-only\"]')\n",
    "for i in artist_tag:\n",
    "    artist_name.append(i.text)"
   ]
  },
  {
   "cell_type": "code",
   "execution_count": 37,
   "id": "ab4d0dfa",
   "metadata": {},
   "outputs": [
    {
     "data": {
      "text/plain": [
       "100"
      ]
     },
     "execution_count": 37,
     "metadata": {},
     "output_type": "execute_result"
    }
   ],
   "source": [
    "len(artist_name)"
   ]
  },
  {
   "cell_type": "code",
   "execution_count": 38,
   "id": "b9506ab1",
   "metadata": {},
   "outputs": [],
   "source": [
    "#Scraping all last week rank:-\n",
    "last_tag=driver.find_elements(By.XPATH,'//ul[@class=\"lrv-a-unstyle-list lrv-u-flex lrv-u-height-100p lrv-u-flex-direction-column@mobile-max\"]/li[4]')\n",
    "for i in last_tag:\n",
    "    last_rank.append(i.text)"
   ]
  },
  {
   "cell_type": "code",
   "execution_count": 39,
   "id": "e29ca25c",
   "metadata": {},
   "outputs": [
    {
     "data": {
      "text/plain": [
       "100"
      ]
     },
     "execution_count": 39,
     "metadata": {},
     "output_type": "execute_result"
    }
   ],
   "source": [
    "len(last_rank)"
   ]
  },
  {
   "cell_type": "code",
   "execution_count": 40,
   "id": "2d82cddc",
   "metadata": {},
   "outputs": [],
   "source": [
    "#Scraping all peak rank:-\n",
    "peak_tag=driver.find_elements(By.XPATH,'//ul[@class=\"lrv-a-unstyle-list lrv-u-flex lrv-u-height-100p lrv-u-flex-direction-column@mobile-max\"]/li[5]')\n",
    "for i in peak_tag:\n",
    "    peak_rank.append(i.text)"
   ]
  },
  {
   "cell_type": "code",
   "execution_count": 41,
   "id": "22e6565b",
   "metadata": {},
   "outputs": [
    {
     "data": {
      "text/plain": [
       "100"
      ]
     },
     "execution_count": 41,
     "metadata": {},
     "output_type": "execute_result"
    }
   ],
   "source": [
    "len(peak_rank)"
   ]
  },
  {
   "cell_type": "code",
   "execution_count": 42,
   "id": "b9d46b2b",
   "metadata": {},
   "outputs": [],
   "source": [
    "#Scraping weeks on board:-\n",
    "\n",
    "board_tag=driver.find_elements(By.XPATH,'//ul[@class=\"lrv-a-unstyle-list lrv-u-flex lrv-u-height-100p lrv-u-flex-direction-column@mobile-max\"]/li[6]')\n",
    "for i in board_tag:\n",
    "    on_board.append(i.text)"
   ]
  },
  {
   "cell_type": "code",
   "execution_count": 43,
   "id": "f046eae0",
   "metadata": {},
   "outputs": [
    {
     "data": {
      "text/plain": [
       "100"
      ]
     },
     "execution_count": 43,
     "metadata": {},
     "output_type": "execute_result"
    }
   ],
   "source": [
    "len(on_board)"
   ]
  },
  {
   "cell_type": "code",
   "execution_count": 44,
   "id": "d0290f9e",
   "metadata": {},
   "outputs": [
    {
     "data": {
      "text/html": [
       "<div>\n",
       "<style scoped>\n",
       "    .dataframe tbody tr th:only-of-type {\n",
       "        vertical-align: middle;\n",
       "    }\n",
       "\n",
       "    .dataframe tbody tr th {\n",
       "        vertical-align: top;\n",
       "    }\n",
       "\n",
       "    .dataframe thead th {\n",
       "        text-align: right;\n",
       "    }\n",
       "</style>\n",
       "<table border=\"1\" class=\"dataframe\">\n",
       "  <thead>\n",
       "    <tr style=\"text-align: right;\">\n",
       "      <th></th>\n",
       "      <th>Song Name</th>\n",
       "      <th>Artist Name</th>\n",
       "      <th>Last Week Rank</th>\n",
       "      <th>Peak Rank</th>\n",
       "      <th>Weeks on Board</th>\n",
       "    </tr>\n",
       "  </thead>\n",
       "  <tbody>\n",
       "    <tr>\n",
       "      <th>0</th>\n",
       "      <td>Lovin On Me</td>\n",
       "      <td>Jack Harlow</td>\n",
       "      <td>2</td>\n",
       "      <td>1</td>\n",
       "      <td>13</td>\n",
       "    </tr>\n",
       "    <tr>\n",
       "      <th>1</th>\n",
       "      <td>Lose Control</td>\n",
       "      <td>Teddy Swims</td>\n",
       "      <td>4</td>\n",
       "      <td>2</td>\n",
       "      <td>26</td>\n",
       "    </tr>\n",
       "    <tr>\n",
       "      <th>2</th>\n",
       "      <td>Beautiful Things</td>\n",
       "      <td>Benson Boone</td>\n",
       "      <td>8</td>\n",
       "      <td>3</td>\n",
       "      <td>3</td>\n",
       "    </tr>\n",
       "    <tr>\n",
       "      <th>3</th>\n",
       "      <td>Cruel Summer</td>\n",
       "      <td>Taylor Swift</td>\n",
       "      <td>3</td>\n",
       "      <td>1</td>\n",
       "      <td>40</td>\n",
       "    </tr>\n",
       "    <tr>\n",
       "      <th>4</th>\n",
       "      <td>Snooze</td>\n",
       "      <td>SZA</td>\n",
       "      <td>10</td>\n",
       "      <td>2</td>\n",
       "      <td>60</td>\n",
       "    </tr>\n",
       "    <tr>\n",
       "      <th>...</th>\n",
       "      <td>...</td>\n",
       "      <td>...</td>\n",
       "      <td>...</td>\n",
       "      <td>...</td>\n",
       "      <td>...</td>\n",
       "    </tr>\n",
       "    <tr>\n",
       "      <th>95</th>\n",
       "      <td>Worth It</td>\n",
       "      <td>Offset &amp; Don Toliver</td>\n",
       "      <td>100</td>\n",
       "      <td>92</td>\n",
       "      <td>4</td>\n",
       "    </tr>\n",
       "    <tr>\n",
       "      <th>96</th>\n",
       "      <td>Northern Attitude</td>\n",
       "      <td>Noah Kahan With Hozier</td>\n",
       "      <td>97</td>\n",
       "      <td>37</td>\n",
       "      <td>10</td>\n",
       "    </tr>\n",
       "    <tr>\n",
       "      <th>97</th>\n",
       "      <td>Scared To Start</td>\n",
       "      <td>Michael Marcagi</td>\n",
       "      <td>-</td>\n",
       "      <td>98</td>\n",
       "      <td>1</td>\n",
       "    </tr>\n",
       "    <tr>\n",
       "      <th>98</th>\n",
       "      <td>First Love</td>\n",
       "      <td>Oscar Ortiz X Edgardo Nunez</td>\n",
       "      <td>91</td>\n",
       "      <td>91</td>\n",
       "      <td>3</td>\n",
       "    </tr>\n",
       "    <tr>\n",
       "      <th>99</th>\n",
       "      <td>Where It Ends</td>\n",
       "      <td>Bailey Zimmerman</td>\n",
       "      <td>-</td>\n",
       "      <td>32</td>\n",
       "      <td>7</td>\n",
       "    </tr>\n",
       "  </tbody>\n",
       "</table>\n",
       "<p>100 rows × 5 columns</p>\n",
       "</div>"
      ],
      "text/plain": [
       "            Song Name                  Artist Name Last Week Rank Peak Rank  \\\n",
       "0         Lovin On Me                  Jack Harlow              2         1   \n",
       "1        Lose Control                  Teddy Swims              4         2   \n",
       "2    Beautiful Things                 Benson Boone              8         3   \n",
       "3        Cruel Summer                 Taylor Swift              3         1   \n",
       "4              Snooze                          SZA             10         2   \n",
       "..                ...                          ...            ...       ...   \n",
       "95           Worth It         Offset & Don Toliver            100        92   \n",
       "96  Northern Attitude       Noah Kahan With Hozier             97        37   \n",
       "97    Scared To Start              Michael Marcagi              -        98   \n",
       "98         First Love  Oscar Ortiz X Edgardo Nunez             91        91   \n",
       "99      Where It Ends             Bailey Zimmerman              -        32   \n",
       "\n",
       "   Weeks on Board  \n",
       "0              13  \n",
       "1              26  \n",
       "2               3  \n",
       "3              40  \n",
       "4              60  \n",
       "..            ...  \n",
       "95              4  \n",
       "96             10  \n",
       "97              1  \n",
       "98              3  \n",
       "99              7  \n",
       "\n",
       "[100 rows x 5 columns]"
      ]
     },
     "execution_count": 44,
     "metadata": {},
     "output_type": "execute_result"
    }
   ],
   "source": [
    "#Create dataframe and print:-\n",
    "\n",
    "df=pd.DataFrame({'Song Name':song_name,'Artist Name':artist_name,'Last Week Rank':last_rank,'Peak Rank':peak_rank,'Weeks on Board':on_board})\n",
    "\n",
    "df"
   ]
  },
  {
   "cell_type": "code",
   "execution_count": null,
   "id": "074358a6",
   "metadata": {},
   "outputs": [],
   "source": []
  },
  {
   "cell_type": "code",
   "execution_count": null,
   "id": "3902c447",
   "metadata": {},
   "outputs": [],
   "source": []
  },
  {
   "cell_type": "markdown",
   "id": "00df9b4c",
   "metadata": {},
   "source": [
    "#Question no. 6:-Scrape the details of Highest selling novels. \n",
    "A) Book name \n",
    "B) Author name \n",
    "C) Volumes sold \n",
    "D) Publisher \n",
    "E) Genre "
   ]
  },
  {
   "cell_type": "code",
   "execution_count": 45,
   "id": "8ae79c8b",
   "metadata": {},
   "outputs": [],
   "source": [
    "#Importing the required libraries:-\n",
    "\n",
    "import selenium\n",
    "from selenium import webdriver\n",
    "from selenium.webdriver.common.keys import Keys\n",
    "from selenium.common.exceptions import NoSuchElementException\n",
    "import warnings\n",
    "warnings.filterwarnings('ignore')\n",
    "from selenium.webdriver.common.by import By\n",
    "import time\n",
    "import pandas as pd\n",
    "import re"
   ]
  },
  {
   "cell_type": "code",
   "execution_count": 46,
   "id": "36441c16",
   "metadata": {},
   "outputs": [],
   "source": [
    "#Create a driver object:-\n",
    "\n",
    "driver=webdriver.Chrome()"
   ]
  },
  {
   "cell_type": "code",
   "execution_count": 47,
   "id": "69fa4362",
   "metadata": {},
   "outputs": [],
   "source": [
    "#Go to webpage:-\n",
    "\n",
    "driver.get(\"https://www.theguardian.com/news/datablog/2012/aug/09/best-selling-books-all-time-fifty-shades-grey-compare\")"
   ]
  },
  {
   "cell_type": "code",
   "execution_count": 49,
   "id": "b88ada3c",
   "metadata": {},
   "outputs": [],
   "source": [
    "#Create empty lists:-\n",
    "\n",
    "book_name=[]\n",
    "author_name=[]\n",
    "volumes_sold=[]\n",
    "publisher=[]\n",
    "genre=[]"
   ]
  },
  {
   "cell_type": "code",
   "execution_count": 50,
   "id": "3c6226b4",
   "metadata": {},
   "outputs": [],
   "source": [
    "#Scraping book name:-\n",
    "\n",
    "book_tag=driver.find_elements(By.XPATH,'//td[2][@class=\"left\"]')\n",
    "for i in book_tag:\n",
    "    book_name.append(i.text)"
   ]
  },
  {
   "cell_type": "code",
   "execution_count": 51,
   "id": "7b625a57",
   "metadata": {},
   "outputs": [
    {
     "data": {
      "text/plain": [
       "100"
      ]
     },
     "execution_count": 51,
     "metadata": {},
     "output_type": "execute_result"
    }
   ],
   "source": [
    "len(book_name)"
   ]
  },
  {
   "cell_type": "code",
   "execution_count": 52,
   "id": "9eed1bfb",
   "metadata": {},
   "outputs": [],
   "source": [
    "#Scraping author name:-\n",
    "\n",
    "author_tag=driver.find_elements(By.XPATH,'//td[3][@class=\"left\"]')\n",
    "for i in author_tag:\n",
    "    author_name.append(i.text)"
   ]
  },
  {
   "cell_type": "code",
   "execution_count": 53,
   "id": "1bcbf6c7",
   "metadata": {},
   "outputs": [
    {
     "data": {
      "text/plain": [
       "100"
      ]
     },
     "execution_count": 53,
     "metadata": {},
     "output_type": "execute_result"
    }
   ],
   "source": [
    "len(author_name)"
   ]
  },
  {
   "cell_type": "code",
   "execution_count": 54,
   "id": "17de993b",
   "metadata": {},
   "outputs": [],
   "source": [
    "#Scraping volumes sales:-\n",
    "\n",
    "sold_tag=driver.find_elements(By.XPATH,'//td[4][@class=\"left\"]')\n",
    "for i in sold_tag:\n",
    "    volumes_sold.append(i.text)"
   ]
  },
  {
   "cell_type": "code",
   "execution_count": 55,
   "id": "8869531b",
   "metadata": {},
   "outputs": [
    {
     "data": {
      "text/plain": [
       "100"
      ]
     },
     "execution_count": 55,
     "metadata": {},
     "output_type": "execute_result"
    }
   ],
   "source": [
    "len(volumes_sold)"
   ]
  },
  {
   "cell_type": "code",
   "execution_count": 56,
   "id": "68521b77",
   "metadata": {},
   "outputs": [],
   "source": [
    "#Scraping Publisher:-\n",
    "\n",
    "pub_tag=driver.find_elements(By.XPATH,'//td[5][@class=\"left\"]')\n",
    "for i in pub_tag:\n",
    "    publisher.append(i.text)"
   ]
  },
  {
   "cell_type": "code",
   "execution_count": 57,
   "id": "27de51f0",
   "metadata": {},
   "outputs": [
    {
     "data": {
      "text/plain": [
       "100"
      ]
     },
     "execution_count": 57,
     "metadata": {},
     "output_type": "execute_result"
    }
   ],
   "source": [
    "len(publisher)"
   ]
  },
  {
   "cell_type": "code",
   "execution_count": 58,
   "id": "769a6378",
   "metadata": {},
   "outputs": [],
   "source": [
    "#Scraping genre:-\n",
    "\n",
    "genre_tag=driver.find_elements(By.XPATH,'//td[6][@class=\"last left\"]')\n",
    "for i in genre_tag:\n",
    "    genre.append(i.text)"
   ]
  },
  {
   "cell_type": "code",
   "execution_count": 59,
   "id": "6cc9c729",
   "metadata": {},
   "outputs": [
    {
     "data": {
      "text/plain": [
       "100"
      ]
     },
     "execution_count": 59,
     "metadata": {},
     "output_type": "execute_result"
    }
   ],
   "source": [
    "len(genre)"
   ]
  },
  {
   "cell_type": "code",
   "execution_count": 60,
   "id": "c4ab0d7c",
   "metadata": {},
   "outputs": [
    {
     "data": {
      "text/html": [
       "<div>\n",
       "<style scoped>\n",
       "    .dataframe tbody tr th:only-of-type {\n",
       "        vertical-align: middle;\n",
       "    }\n",
       "\n",
       "    .dataframe tbody tr th {\n",
       "        vertical-align: top;\n",
       "    }\n",
       "\n",
       "    .dataframe thead th {\n",
       "        text-align: right;\n",
       "    }\n",
       "</style>\n",
       "<table border=\"1\" class=\"dataframe\">\n",
       "  <thead>\n",
       "    <tr style=\"text-align: right;\">\n",
       "      <th></th>\n",
       "      <th>Book Name</th>\n",
       "      <th>Author Name</th>\n",
       "      <th>Volumes Sold</th>\n",
       "      <th>Publisher</th>\n",
       "      <th>Genre</th>\n",
       "    </tr>\n",
       "  </thead>\n",
       "  <tbody>\n",
       "    <tr>\n",
       "      <th>0</th>\n",
       "      <td>Da Vinci Code,The</td>\n",
       "      <td>Brown, Dan</td>\n",
       "      <td>5,094,805</td>\n",
       "      <td>Transworld</td>\n",
       "      <td>Crime, Thriller &amp; Adventure</td>\n",
       "    </tr>\n",
       "    <tr>\n",
       "      <th>1</th>\n",
       "      <td>Harry Potter and the Deathly Hallows</td>\n",
       "      <td>Rowling, J.K.</td>\n",
       "      <td>4,475,152</td>\n",
       "      <td>Bloomsbury</td>\n",
       "      <td>Children's Fiction</td>\n",
       "    </tr>\n",
       "    <tr>\n",
       "      <th>2</th>\n",
       "      <td>Harry Potter and the Philosopher's Stone</td>\n",
       "      <td>Rowling, J.K.</td>\n",
       "      <td>4,200,654</td>\n",
       "      <td>Bloomsbury</td>\n",
       "      <td>Children's Fiction</td>\n",
       "    </tr>\n",
       "    <tr>\n",
       "      <th>3</th>\n",
       "      <td>Harry Potter and the Order of the Phoenix</td>\n",
       "      <td>Rowling, J.K.</td>\n",
       "      <td>4,179,479</td>\n",
       "      <td>Bloomsbury</td>\n",
       "      <td>Children's Fiction</td>\n",
       "    </tr>\n",
       "    <tr>\n",
       "      <th>4</th>\n",
       "      <td>Fifty Shades of Grey</td>\n",
       "      <td>James, E. L.</td>\n",
       "      <td>3,758,936</td>\n",
       "      <td>Random House</td>\n",
       "      <td>Romance &amp; Sagas</td>\n",
       "    </tr>\n",
       "    <tr>\n",
       "      <th>...</th>\n",
       "      <td>...</td>\n",
       "      <td>...</td>\n",
       "      <td>...</td>\n",
       "      <td>...</td>\n",
       "      <td>...</td>\n",
       "    </tr>\n",
       "    <tr>\n",
       "      <th>95</th>\n",
       "      <td>Ghost,The</td>\n",
       "      <td>Harris, Robert</td>\n",
       "      <td>807,311</td>\n",
       "      <td>Random House</td>\n",
       "      <td>General &amp; Literary Fiction</td>\n",
       "    </tr>\n",
       "    <tr>\n",
       "      <th>96</th>\n",
       "      <td>Happy Days with the Naked Chef</td>\n",
       "      <td>Oliver, Jamie</td>\n",
       "      <td>794,201</td>\n",
       "      <td>Penguin</td>\n",
       "      <td>Food &amp; Drink: General</td>\n",
       "    </tr>\n",
       "    <tr>\n",
       "      <th>97</th>\n",
       "      <td>Hunger Games,The:Hunger Games Trilogy</td>\n",
       "      <td>Collins, Suzanne</td>\n",
       "      <td>792,187</td>\n",
       "      <td>Scholastic Ltd.</td>\n",
       "      <td>Young Adult Fiction</td>\n",
       "    </tr>\n",
       "    <tr>\n",
       "      <th>98</th>\n",
       "      <td>Lost Boy,The:A Foster Child's Search for the L...</td>\n",
       "      <td>Pelzer, Dave</td>\n",
       "      <td>791,507</td>\n",
       "      <td>Orion</td>\n",
       "      <td>Biography: General</td>\n",
       "    </tr>\n",
       "    <tr>\n",
       "      <th>99</th>\n",
       "      <td>Jamie's Ministry of Food:Anyone Can Learn to C...</td>\n",
       "      <td>Oliver, Jamie</td>\n",
       "      <td>791,095</td>\n",
       "      <td>Penguin</td>\n",
       "      <td>Food &amp; Drink: General</td>\n",
       "    </tr>\n",
       "  </tbody>\n",
       "</table>\n",
       "<p>100 rows × 5 columns</p>\n",
       "</div>"
      ],
      "text/plain": [
       "                                            Book Name       Author Name  \\\n",
       "0                                   Da Vinci Code,The        Brown, Dan   \n",
       "1                Harry Potter and the Deathly Hallows     Rowling, J.K.   \n",
       "2            Harry Potter and the Philosopher's Stone     Rowling, J.K.   \n",
       "3           Harry Potter and the Order of the Phoenix     Rowling, J.K.   \n",
       "4                                Fifty Shades of Grey      James, E. L.   \n",
       "..                                                ...               ...   \n",
       "95                                          Ghost,The    Harris, Robert   \n",
       "96                     Happy Days with the Naked Chef     Oliver, Jamie   \n",
       "97              Hunger Games,The:Hunger Games Trilogy  Collins, Suzanne   \n",
       "98  Lost Boy,The:A Foster Child's Search for the L...      Pelzer, Dave   \n",
       "99  Jamie's Ministry of Food:Anyone Can Learn to C...     Oliver, Jamie   \n",
       "\n",
       "   Volumes Sold        Publisher                        Genre  \n",
       "0     5,094,805       Transworld  Crime, Thriller & Adventure  \n",
       "1     4,475,152       Bloomsbury           Children's Fiction  \n",
       "2     4,200,654       Bloomsbury           Children's Fiction  \n",
       "3     4,179,479       Bloomsbury           Children's Fiction  \n",
       "4     3,758,936     Random House              Romance & Sagas  \n",
       "..          ...              ...                          ...  \n",
       "95      807,311     Random House   General & Literary Fiction  \n",
       "96      794,201          Penguin        Food & Drink: General  \n",
       "97      792,187  Scholastic Ltd.          Young Adult Fiction  \n",
       "98      791,507            Orion           Biography: General  \n",
       "99      791,095          Penguin        Food & Drink: General  \n",
       "\n",
       "[100 rows x 5 columns]"
      ]
     },
     "execution_count": 60,
     "metadata": {},
     "output_type": "execute_result"
    }
   ],
   "source": [
    "#Create Dataframe and print:-\n",
    "\n",
    "df=pd.DataFrame({'Book Name':book_name,'Author Name':author_name,'Volumes Sold':volumes_sold,'Publisher':publisher,'Genre':genre})\n",
    "\n",
    "df"
   ]
  },
  {
   "cell_type": "code",
   "execution_count": null,
   "id": "6c398560",
   "metadata": {},
   "outputs": [],
   "source": []
  },
  {
   "cell_type": "code",
   "execution_count": null,
   "id": "694d3838",
   "metadata": {},
   "outputs": [],
   "source": []
  },
  {
   "cell_type": "markdown",
   "id": "e3e1b438",
   "metadata": {},
   "source": [
    "#Question no. 7:-Scrape the details most watched tv series of all time from imdb.com. \n",
    "Url = https://www.imdb.com/search/title/?title_type=tv_series&sort=num_votes,desc. You have \n",
    "to find the following details: \n",
    "A) Name \n",
    "B) Year span \n",
    "c) Ratings \n",
    "d) Votes"
   ]
  },
  {
   "cell_type": "code",
   "execution_count": 61,
   "id": "2e9f4014",
   "metadata": {},
   "outputs": [],
   "source": [
    "#Importing the required libraries:-\n",
    "\n",
    "import selenium\n",
    "from selenium import webdriver\n",
    "from selenium.webdriver.common.keys import Keys\n",
    "from selenium.common.exceptions import NoSuchElementException\n",
    "import warnings\n",
    "warnings.filterwarnings('ignore')\n",
    "from selenium.webdriver.common.by import By\n",
    "import time\n",
    "import pandas as pd\n",
    "import re"
   ]
  },
  {
   "cell_type": "code",
   "execution_count": 62,
   "id": "b25709d4",
   "metadata": {},
   "outputs": [],
   "source": [
    "#Create a driver object:-\n",
    "\n",
    "driver=webdriver.Chrome()"
   ]
  },
  {
   "cell_type": "code",
   "execution_count": 63,
   "id": "b7991e0c",
   "metadata": {},
   "outputs": [],
   "source": [
    "#Go to webpage:-\n",
    "\n",
    "driver.get(\"https://www.imdb.com/search/title/?title_type=tv_series&sort=num_votes,desc\")"
   ]
  },
  {
   "cell_type": "code",
   "execution_count": 64,
   "id": "4e54165f",
   "metadata": {},
   "outputs": [],
   "source": [
    "#Create empty lists:-\n",
    "\n",
    "name=[]\n",
    "year_span=[]\n",
    "rating=[]\n",
    "votes=[]"
   ]
  },
  {
   "cell_type": "code",
   "execution_count": 65,
   "id": "69f5faeb",
   "metadata": {},
   "outputs": [],
   "source": [
    "#Scraping name:-\n",
    "\n",
    "name_tag=driver.find_elements(By.XPATH,'//ul[@class=\"ipc-metadata-list ipc-metadata-list--dividers-between sc-315eec58-0 hvFmRn detailed-list-view ipc-metadata-list--base\"]//h3[@class=\"ipc-title__text\"]')\n",
    "for i in name_tag:\n",
    "    name.append(i.text)"
   ]
  },
  {
   "cell_type": "code",
   "execution_count": 66,
   "id": "9812da19",
   "metadata": {},
   "outputs": [
    {
     "data": {
      "text/plain": [
       "50"
      ]
     },
     "execution_count": 66,
     "metadata": {},
     "output_type": "execute_result"
    }
   ],
   "source": [
    "len(name)"
   ]
  },
  {
   "cell_type": "code",
   "execution_count": 67,
   "id": "d0a28b27",
   "metadata": {},
   "outputs": [],
   "source": [
    "#Scraping year span:-\n",
    "\n",
    "year_tag=driver.find_elements(By.XPATH,'//span[1][@class=\"sc-be6f1408-8 fcCUPU dli-title-metadata-item\"]')\n",
    "for i in year_tag:\n",
    "    year_span.append(i.text)"
   ]
  },
  {
   "cell_type": "code",
   "execution_count": 68,
   "id": "c527ffd1",
   "metadata": {},
   "outputs": [
    {
     "data": {
      "text/plain": [
       "50"
      ]
     },
     "execution_count": 68,
     "metadata": {},
     "output_type": "execute_result"
    }
   ],
   "source": [
    "len(year_span)"
   ]
  },
  {
   "cell_type": "code",
   "execution_count": 69,
   "id": "2ad19d9f",
   "metadata": {},
   "outputs": [],
   "source": [
    "#Scraping ratings:-\n",
    "\n",
    "rating_tag=driver.find_elements(By.XPATH,'//span[@class=\"ipc-rating-star ipc-rating-star--base ipc-rating-star--imdb ratingGroup--imdb-rating\"]')\n",
    "for i in rating_tag:\n",
    "    rating.append(i.text)"
   ]
  },
  {
   "cell_type": "code",
   "execution_count": 70,
   "id": "0a95bbd3",
   "metadata": {},
   "outputs": [
    {
     "data": {
      "text/plain": [
       "50"
      ]
     },
     "execution_count": 70,
     "metadata": {},
     "output_type": "execute_result"
    }
   ],
   "source": [
    "len(rating)"
   ]
  },
  {
   "cell_type": "code",
   "execution_count": 71,
   "id": "ec6a57b4",
   "metadata": {},
   "outputs": [],
   "source": [
    "#Scraping votes:-\n",
    "\n",
    "votes_tag=driver.find_elements(By.XPATH,'//div[@class=\"sc-f24f1c5c-0 cPpOqU\"]')\n",
    "for i in votes_tag:\n",
    "    votes.append(i.text)"
   ]
  },
  {
   "cell_type": "code",
   "execution_count": 72,
   "id": "30938f83",
   "metadata": {},
   "outputs": [
    {
     "data": {
      "text/plain": [
       "50"
      ]
     },
     "execution_count": 72,
     "metadata": {},
     "output_type": "execute_result"
    }
   ],
   "source": [
    "len(votes)"
   ]
  },
  {
   "cell_type": "code",
   "execution_count": 73,
   "id": "d4c1d45d",
   "metadata": {},
   "outputs": [
    {
     "data": {
      "text/html": [
       "<div>\n",
       "<style scoped>\n",
       "    .dataframe tbody tr th:only-of-type {\n",
       "        vertical-align: middle;\n",
       "    }\n",
       "\n",
       "    .dataframe tbody tr th {\n",
       "        vertical-align: top;\n",
       "    }\n",
       "\n",
       "    .dataframe thead th {\n",
       "        text-align: right;\n",
       "    }\n",
       "</style>\n",
       "<table border=\"1\" class=\"dataframe\">\n",
       "  <thead>\n",
       "    <tr style=\"text-align: right;\">\n",
       "      <th></th>\n",
       "      <th>Name</th>\n",
       "      <th>Year Span</th>\n",
       "      <th>Ratings</th>\n",
       "      <th>Votes</th>\n",
       "    </tr>\n",
       "  </thead>\n",
       "  <tbody>\n",
       "    <tr>\n",
       "      <th>0</th>\n",
       "      <td>1. Game of Thrones</td>\n",
       "      <td>2011–2019</td>\n",
       "      <td>9.2\\n (2.3M)</td>\n",
       "      <td>Votes2,258,468</td>\n",
       "    </tr>\n",
       "    <tr>\n",
       "      <th>1</th>\n",
       "      <td>2. Breaking Bad</td>\n",
       "      <td>2008–2013</td>\n",
       "      <td>9.5\\n (2.1M)</td>\n",
       "      <td>Votes2,105,688</td>\n",
       "    </tr>\n",
       "    <tr>\n",
       "      <th>2</th>\n",
       "      <td>3. Stranger Things</td>\n",
       "      <td>2016–2025</td>\n",
       "      <td>8.7\\n (1.3M)</td>\n",
       "      <td>Votes1,317,595</td>\n",
       "    </tr>\n",
       "    <tr>\n",
       "      <th>3</th>\n",
       "      <td>4. Friends</td>\n",
       "      <td>1994–2004</td>\n",
       "      <td>8.9\\n (1.1M)</td>\n",
       "      <td>Votes1,077,039</td>\n",
       "    </tr>\n",
       "    <tr>\n",
       "      <th>4</th>\n",
       "      <td>5. The Walking Dead</td>\n",
       "      <td>2010–2022</td>\n",
       "      <td>8.1\\n (1.1M)</td>\n",
       "      <td>Votes1,070,078</td>\n",
       "    </tr>\n",
       "    <tr>\n",
       "      <th>5</th>\n",
       "      <td>6. Sherlock</td>\n",
       "      <td>2010–2017</td>\n",
       "      <td>9.1\\n (988K)</td>\n",
       "      <td>Votes988,058</td>\n",
       "    </tr>\n",
       "    <tr>\n",
       "      <th>6</th>\n",
       "      <td>7. The Big Bang Theory</td>\n",
       "      <td>2007–2019</td>\n",
       "      <td>8.2\\n (860K)</td>\n",
       "      <td>Votes859,798</td>\n",
       "    </tr>\n",
       "    <tr>\n",
       "      <th>7</th>\n",
       "      <td>8. Dexter</td>\n",
       "      <td>2006–2013</td>\n",
       "      <td>8.7\\n (759K)</td>\n",
       "      <td>Votes758,682</td>\n",
       "    </tr>\n",
       "    <tr>\n",
       "      <th>8</th>\n",
       "      <td>9. How I Met Your Mother</td>\n",
       "      <td>2005–2014</td>\n",
       "      <td>8.3\\n (723K)</td>\n",
       "      <td>Votes723,220</td>\n",
       "    </tr>\n",
       "    <tr>\n",
       "      <th>9</th>\n",
       "      <td>10. The Office</td>\n",
       "      <td>2005–2013</td>\n",
       "      <td>9.0\\n (698K)</td>\n",
       "      <td>Votes697,966</td>\n",
       "    </tr>\n",
       "    <tr>\n",
       "      <th>10</th>\n",
       "      <td>11. True Detective</td>\n",
       "      <td>2014–</td>\n",
       "      <td>8.9\\n (640K)</td>\n",
       "      <td>Votes639,818</td>\n",
       "    </tr>\n",
       "    <tr>\n",
       "      <th>11</th>\n",
       "      <td>12. Peaky Blinders</td>\n",
       "      <td>2013–2022</td>\n",
       "      <td>8.8\\n (636K)</td>\n",
       "      <td>Votes635,834</td>\n",
       "    </tr>\n",
       "    <tr>\n",
       "      <th>12</th>\n",
       "      <td>13. Better Call Saul</td>\n",
       "      <td>2015–2022</td>\n",
       "      <td>9.0\\n (635K)</td>\n",
       "      <td>Votes635,066</td>\n",
       "    </tr>\n",
       "    <tr>\n",
       "      <th>13</th>\n",
       "      <td>14. The Boys</td>\n",
       "      <td>2019–</td>\n",
       "      <td>8.7\\n (633K)</td>\n",
       "      <td>Votes632,990</td>\n",
       "    </tr>\n",
       "    <tr>\n",
       "      <th>14</th>\n",
       "      <td>15. Black Mirror</td>\n",
       "      <td>2011–</td>\n",
       "      <td>8.7\\n (632K)</td>\n",
       "      <td>Votes631,953</td>\n",
       "    </tr>\n",
       "    <tr>\n",
       "      <th>15</th>\n",
       "      <td>16. Rick and Morty</td>\n",
       "      <td>2013–</td>\n",
       "      <td>9.1\\n (593K)</td>\n",
       "      <td>Votes593,490</td>\n",
       "    </tr>\n",
       "    <tr>\n",
       "      <th>16</th>\n",
       "      <td>17. Lost</td>\n",
       "      <td>2004–2010</td>\n",
       "      <td>8.3\\n (590K)</td>\n",
       "      <td>Votes589,540</td>\n",
       "    </tr>\n",
       "    <tr>\n",
       "      <th>17</th>\n",
       "      <td>18. The Mandalorian</td>\n",
       "      <td>2019–</td>\n",
       "      <td>8.7\\n (579K)</td>\n",
       "      <td>Votes579,380</td>\n",
       "    </tr>\n",
       "    <tr>\n",
       "      <th>18</th>\n",
       "      <td>19. Vikings</td>\n",
       "      <td>2013–2020</td>\n",
       "      <td>8.5\\n (575K)</td>\n",
       "      <td>Votes575,088</td>\n",
       "    </tr>\n",
       "    <tr>\n",
       "      <th>19</th>\n",
       "      <td>20. Prison Break</td>\n",
       "      <td>2005–2017</td>\n",
       "      <td>8.3\\n (574K)</td>\n",
       "      <td>Votes574,137</td>\n",
       "    </tr>\n",
       "    <tr>\n",
       "      <th>20</th>\n",
       "      <td>21. The Witcher</td>\n",
       "      <td>2019–</td>\n",
       "      <td>8.0\\n (564K)</td>\n",
       "      <td>Votes564,344</td>\n",
       "    </tr>\n",
       "    <tr>\n",
       "      <th>21</th>\n",
       "      <td>22. Squid Game</td>\n",
       "      <td>2021–</td>\n",
       "      <td>8.0\\n (530K)</td>\n",
       "      <td>Votes529,949</td>\n",
       "    </tr>\n",
       "    <tr>\n",
       "      <th>22</th>\n",
       "      <td>23. Westworld</td>\n",
       "      <td>2016–2022</td>\n",
       "      <td>8.5\\n (529K)</td>\n",
       "      <td>Votes529,158</td>\n",
       "    </tr>\n",
       "    <tr>\n",
       "      <th>23</th>\n",
       "      <td>24. House of Cards</td>\n",
       "      <td>2013–2018</td>\n",
       "      <td>8.6\\n (528K)</td>\n",
       "      <td>Votes527,867</td>\n",
       "    </tr>\n",
       "    <tr>\n",
       "      <th>24</th>\n",
       "      <td>25. Money Heist</td>\n",
       "      <td>2017–2021</td>\n",
       "      <td>8.2\\n (526K)</td>\n",
       "      <td>Votes525,709</td>\n",
       "    </tr>\n",
       "    <tr>\n",
       "      <th>25</th>\n",
       "      <td>26. House</td>\n",
       "      <td>2004–2012</td>\n",
       "      <td>8.7\\n (504K)</td>\n",
       "      <td>Votes503,813</td>\n",
       "    </tr>\n",
       "    <tr>\n",
       "      <th>26</th>\n",
       "      <td>27. The Last of Us</td>\n",
       "      <td>2023–</td>\n",
       "      <td>8.8\\n (500K)</td>\n",
       "      <td>Votes500,165</td>\n",
       "    </tr>\n",
       "    <tr>\n",
       "      <th>27</th>\n",
       "      <td>28. Attack on Titan</td>\n",
       "      <td>2013–2023</td>\n",
       "      <td>9.1\\n (497K)</td>\n",
       "      <td>Votes497,286</td>\n",
       "    </tr>\n",
       "    <tr>\n",
       "      <th>28</th>\n",
       "      <td>29. Supernatural</td>\n",
       "      <td>2005–2020</td>\n",
       "      <td>8.4\\n (478K)</td>\n",
       "      <td>Votes478,329</td>\n",
       "    </tr>\n",
       "    <tr>\n",
       "      <th>29</th>\n",
       "      <td>30. Modern Family</td>\n",
       "      <td>2009–2020</td>\n",
       "      <td>8.5\\n (476K)</td>\n",
       "      <td>Votes476,219</td>\n",
       "    </tr>\n",
       "    <tr>\n",
       "      <th>30</th>\n",
       "      <td>31. Suits</td>\n",
       "      <td>2011–2019</td>\n",
       "      <td>8.4\\n (471K)</td>\n",
       "      <td>Votes470,985</td>\n",
       "    </tr>\n",
       "    <tr>\n",
       "      <th>31</th>\n",
       "      <td>32. Daredevil</td>\n",
       "      <td>2015–2018</td>\n",
       "      <td>8.6\\n (471K)</td>\n",
       "      <td>Votes470,713</td>\n",
       "    </tr>\n",
       "    <tr>\n",
       "      <th>32</th>\n",
       "      <td>33. Narcos</td>\n",
       "      <td>2015–2017</td>\n",
       "      <td>8.8\\n (465K)</td>\n",
       "      <td>Votes464,868</td>\n",
       "    </tr>\n",
       "    <tr>\n",
       "      <th>33</th>\n",
       "      <td>34. The Sopranos</td>\n",
       "      <td>1999–2007</td>\n",
       "      <td>9.2\\n (462K)</td>\n",
       "      <td>Votes461,539</td>\n",
       "    </tr>\n",
       "    <tr>\n",
       "      <th>34</th>\n",
       "      <td>35. Arrow</td>\n",
       "      <td>2012–2020</td>\n",
       "      <td>7.5\\n (445K)</td>\n",
       "      <td>Votes444,536</td>\n",
       "    </tr>\n",
       "    <tr>\n",
       "      <th>35</th>\n",
       "      <td>36. Dark</td>\n",
       "      <td>2017–2020</td>\n",
       "      <td>8.7\\n (437K)</td>\n",
       "      <td>Votes436,809</td>\n",
       "    </tr>\n",
       "    <tr>\n",
       "      <th>36</th>\n",
       "      <td>37. The Simpsons</td>\n",
       "      <td>1989–</td>\n",
       "      <td>8.7\\n (433K)</td>\n",
       "      <td>Votes432,564</td>\n",
       "    </tr>\n",
       "    <tr>\n",
       "      <th>37</th>\n",
       "      <td>38. Fargo</td>\n",
       "      <td>2014–2024</td>\n",
       "      <td>8.9\\n (415K)</td>\n",
       "      <td>Votes415,256</td>\n",
       "    </tr>\n",
       "    <tr>\n",
       "      <th>38</th>\n",
       "      <td>39. Mr. Robot</td>\n",
       "      <td>2015–2019</td>\n",
       "      <td>8.5\\n (415K)</td>\n",
       "      <td>Votes414,680</td>\n",
       "    </tr>\n",
       "    <tr>\n",
       "      <th>39</th>\n",
       "      <td>40. Loki</td>\n",
       "      <td>2021–2023</td>\n",
       "      <td>8.2\\n (406K)</td>\n",
       "      <td>Votes405,780</td>\n",
       "    </tr>\n",
       "    <tr>\n",
       "      <th>40</th>\n",
       "      <td>41. South Park</td>\n",
       "      <td>1997–</td>\n",
       "      <td>8.7\\n (403K)</td>\n",
       "      <td>Votes402,941</td>\n",
       "    </tr>\n",
       "    <tr>\n",
       "      <th>41</th>\n",
       "      <td>42. The Wire</td>\n",
       "      <td>2002–2008</td>\n",
       "      <td>9.3\\n (372K)</td>\n",
       "      <td>Votes372,424</td>\n",
       "    </tr>\n",
       "    <tr>\n",
       "      <th>42</th>\n",
       "      <td>43. Death Note</td>\n",
       "      <td>2006–2007</td>\n",
       "      <td>8.9\\n (372K)</td>\n",
       "      <td>Votes371,802</td>\n",
       "    </tr>\n",
       "    <tr>\n",
       "      <th>43</th>\n",
       "      <td>44. The Flash</td>\n",
       "      <td>2014–2023</td>\n",
       "      <td>7.5\\n (367K)</td>\n",
       "      <td>Votes366,699</td>\n",
       "    </tr>\n",
       "    <tr>\n",
       "      <th>44</th>\n",
       "      <td>45. House of the Dragon</td>\n",
       "      <td>2022–</td>\n",
       "      <td>8.4\\n (363K)</td>\n",
       "      <td>Votes362,703</td>\n",
       "    </tr>\n",
       "    <tr>\n",
       "      <th>45</th>\n",
       "      <td>46. Family Guy</td>\n",
       "      <td>1999–2025</td>\n",
       "      <td>8.2\\n (362K)</td>\n",
       "      <td>Votes361,587</td>\n",
       "    </tr>\n",
       "    <tr>\n",
       "      <th>46</th>\n",
       "      <td>47. Homeland</td>\n",
       "      <td>2011–2020</td>\n",
       "      <td>8.3\\n (359K)</td>\n",
       "      <td>Votes358,963</td>\n",
       "    </tr>\n",
       "    <tr>\n",
       "      <th>47</th>\n",
       "      <td>48. Avatar: The Last Airbender</td>\n",
       "      <td>2005–2008</td>\n",
       "      <td>9.3\\n (356K)</td>\n",
       "      <td>Votes356,431</td>\n",
       "    </tr>\n",
       "    <tr>\n",
       "      <th>48</th>\n",
       "      <td>49. Brooklyn Nine-Nine</td>\n",
       "      <td>2013–2021</td>\n",
       "      <td>8.4\\n (355K)</td>\n",
       "      <td>Votes355,488</td>\n",
       "    </tr>\n",
       "    <tr>\n",
       "      <th>49</th>\n",
       "      <td>50. Wednesday</td>\n",
       "      <td>2022–</td>\n",
       "      <td>8.1\\n (352K)</td>\n",
       "      <td>Votes352,313</td>\n",
       "    </tr>\n",
       "  </tbody>\n",
       "</table>\n",
       "</div>"
      ],
      "text/plain": [
       "                              Name  Year Span       Ratings           Votes\n",
       "0               1. Game of Thrones  2011–2019  9.2\\n (2.3M)  Votes2,258,468\n",
       "1                  2. Breaking Bad  2008–2013  9.5\\n (2.1M)  Votes2,105,688\n",
       "2               3. Stranger Things  2016–2025  8.7\\n (1.3M)  Votes1,317,595\n",
       "3                       4. Friends  1994–2004  8.9\\n (1.1M)  Votes1,077,039\n",
       "4              5. The Walking Dead  2010–2022  8.1\\n (1.1M)  Votes1,070,078\n",
       "5                      6. Sherlock  2010–2017  9.1\\n (988K)    Votes988,058\n",
       "6           7. The Big Bang Theory  2007–2019  8.2\\n (860K)    Votes859,798\n",
       "7                        8. Dexter  2006–2013  8.7\\n (759K)    Votes758,682\n",
       "8         9. How I Met Your Mother  2005–2014  8.3\\n (723K)    Votes723,220\n",
       "9                   10. The Office  2005–2013  9.0\\n (698K)    Votes697,966\n",
       "10              11. True Detective      2014–  8.9\\n (640K)    Votes639,818\n",
       "11              12. Peaky Blinders  2013–2022  8.8\\n (636K)    Votes635,834\n",
       "12            13. Better Call Saul  2015–2022  9.0\\n (635K)    Votes635,066\n",
       "13                    14. The Boys      2019–  8.7\\n (633K)    Votes632,990\n",
       "14                15. Black Mirror      2011–  8.7\\n (632K)    Votes631,953\n",
       "15              16. Rick and Morty      2013–  9.1\\n (593K)    Votes593,490\n",
       "16                        17. Lost  2004–2010  8.3\\n (590K)    Votes589,540\n",
       "17             18. The Mandalorian      2019–  8.7\\n (579K)    Votes579,380\n",
       "18                     19. Vikings  2013–2020  8.5\\n (575K)    Votes575,088\n",
       "19                20. Prison Break  2005–2017  8.3\\n (574K)    Votes574,137\n",
       "20                 21. The Witcher      2019–  8.0\\n (564K)    Votes564,344\n",
       "21                  22. Squid Game      2021–  8.0\\n (530K)    Votes529,949\n",
       "22                   23. Westworld  2016–2022  8.5\\n (529K)    Votes529,158\n",
       "23              24. House of Cards  2013–2018  8.6\\n (528K)    Votes527,867\n",
       "24                 25. Money Heist  2017–2021  8.2\\n (526K)    Votes525,709\n",
       "25                       26. House  2004–2012  8.7\\n (504K)    Votes503,813\n",
       "26              27. The Last of Us      2023–  8.8\\n (500K)    Votes500,165\n",
       "27             28. Attack on Titan  2013–2023  9.1\\n (497K)    Votes497,286\n",
       "28                29. Supernatural  2005–2020  8.4\\n (478K)    Votes478,329\n",
       "29               30. Modern Family  2009–2020  8.5\\n (476K)    Votes476,219\n",
       "30                       31. Suits  2011–2019  8.4\\n (471K)    Votes470,985\n",
       "31                   32. Daredevil  2015–2018  8.6\\n (471K)    Votes470,713\n",
       "32                      33. Narcos  2015–2017  8.8\\n (465K)    Votes464,868\n",
       "33                34. The Sopranos  1999–2007  9.2\\n (462K)    Votes461,539\n",
       "34                       35. Arrow  2012–2020  7.5\\n (445K)    Votes444,536\n",
       "35                        36. Dark  2017–2020  8.7\\n (437K)    Votes436,809\n",
       "36                37. The Simpsons      1989–  8.7\\n (433K)    Votes432,564\n",
       "37                       38. Fargo  2014–2024  8.9\\n (415K)    Votes415,256\n",
       "38                   39. Mr. Robot  2015–2019  8.5\\n (415K)    Votes414,680\n",
       "39                        40. Loki  2021–2023  8.2\\n (406K)    Votes405,780\n",
       "40                  41. South Park      1997–  8.7\\n (403K)    Votes402,941\n",
       "41                    42. The Wire  2002–2008  9.3\\n (372K)    Votes372,424\n",
       "42                  43. Death Note  2006–2007  8.9\\n (372K)    Votes371,802\n",
       "43                   44. The Flash  2014–2023  7.5\\n (367K)    Votes366,699\n",
       "44         45. House of the Dragon      2022–  8.4\\n (363K)    Votes362,703\n",
       "45                  46. Family Guy  1999–2025  8.2\\n (362K)    Votes361,587\n",
       "46                    47. Homeland  2011–2020  8.3\\n (359K)    Votes358,963\n",
       "47  48. Avatar: The Last Airbender  2005–2008  9.3\\n (356K)    Votes356,431\n",
       "48          49. Brooklyn Nine-Nine  2013–2021  8.4\\n (355K)    Votes355,488\n",
       "49                   50. Wednesday      2022–  8.1\\n (352K)    Votes352,313"
      ]
     },
     "execution_count": 73,
     "metadata": {},
     "output_type": "execute_result"
    }
   ],
   "source": [
    "#Create Dataframe and print:-\n",
    "\n",
    "df=pd.DataFrame({'Name':name,'Year Span':year_span,'Ratings':rating,'Votes':votes})\n",
    "\n",
    "df"
   ]
  },
  {
   "cell_type": "code",
   "execution_count": null,
   "id": "65b2d870",
   "metadata": {},
   "outputs": [],
   "source": []
  },
  {
   "cell_type": "code",
   "execution_count": null,
   "id": "14f3328f",
   "metadata": {},
   "outputs": [],
   "source": []
  },
  {
   "cell_type": "markdown",
   "id": "c62abfc6",
   "metadata": {},
   "source": [
    "#Question no. 8:-Details of Datasets from UCI machine learning repositories. \n",
    "Url = https://archive.ics.uci.edu/ You \n",
    "have to find the following details: \n",
    "A) Dataset name \n",
    "B) Data type \n",
    "C) Task \n",
    "D) Attribute type \n",
    "E) No of instances \n",
    "F) No of attribute G) Year "
   ]
  },
  {
   "cell_type": "code",
   "execution_count": 1,
   "id": "78ff8a80",
   "metadata": {},
   "outputs": [],
   "source": [
    "#Importing the required libraries:-\n",
    "\n",
    "import selenium\n",
    "from selenium import webdriver\n",
    "from selenium.webdriver.common.keys import Keys\n",
    "from selenium.common.exceptions import NoSuchElementException\n",
    "import warnings\n",
    "warnings.filterwarnings('ignore')\n",
    "from selenium.webdriver.common.by import By\n",
    "import time\n",
    "import pandas as pd\n",
    "import re"
   ]
  },
  {
   "cell_type": "code",
   "execution_count": 2,
   "id": "6e2263f8",
   "metadata": {},
   "outputs": [],
   "source": [
    "#Create a driver object:-\n",
    "\n",
    "driver=webdriver.Chrome()"
   ]
  },
  {
   "cell_type": "code",
   "execution_count": 3,
   "id": "ef5183cc",
   "metadata": {},
   "outputs": [],
   "source": [
    "#Go to webpage:-\n",
    "\n",
    "driver.get(\"https://archive.ics.uci.edu/\")"
   ]
  },
  {
   "cell_type": "code",
   "execution_count": 4,
   "id": "45efe93b",
   "metadata": {},
   "outputs": [],
   "source": [
    "#Click on all dataset option:-\n",
    "\n",
    "search=driver.find_element(By.XPATH,\"/html/body/div/div[1]/div[1]/main/div/div[1]/div/div/div/a[1]\")\n",
    "search.click()"
   ]
  },
  {
   "cell_type": "code",
   "execution_count": 20,
   "id": "914dd282",
   "metadata": {},
   "outputs": [],
   "source": [
    "#Create empty lists:-\n",
    "\n",
    "set_name=[]\n",
    "data_type=[]\n",
    "task=[]\n",
    "attribute_type=[]\n",
    "instances=[]\n",
    "attribute=[]\n",
    "year=[]"
   ]
  },
  {
   "cell_type": "code",
   "execution_count": 21,
   "id": "16dd8b48",
   "metadata": {},
   "outputs": [],
   "source": [
    "#scrape all product urls:-\n",
    "product_urls=[]\n",
    "#scraping urls:-\n",
    "url=driver.find_elements(By.XPATH,'//a[@class=\"link-hover link text-xl font-semibold\"]')\n",
    "for i in url:\n",
    "    product_urls.append(i.get_attribute(\"href\"))"
   ]
  },
  {
   "cell_type": "code",
   "execution_count": 22,
   "id": "db62c249",
   "metadata": {},
   "outputs": [
    {
     "data": {
      "text/plain": [
       "10"
      ]
     },
     "execution_count": 22,
     "metadata": {},
     "output_type": "execute_result"
    }
   ],
   "source": [
    "len(product_urls)"
   ]
  },
  {
   "cell_type": "code",
   "execution_count": 23,
   "id": "3158ba80",
   "metadata": {},
   "outputs": [],
   "source": [
    "#Looping through each of the information:-\n",
    "\n",
    "for url in product_urls:\n",
    "    driver.get(url)\n",
    "    time.sleep(2)\n",
    "        \n",
    "    \n",
    "    #Scraping set name:-\n",
    "    try:\n",
    "        name_tag=driver.find_element(By.XPATH,'//h1[@class=\"text-3xl font-semibold text-primary-content\"]')\n",
    "        set_name.append(name_tag.text)\n",
    "    except NoSuchElementException:\n",
    "        set_name.append(\"-\")\n",
    "    \n",
    "    #Scraping data type:-\n",
    "    try:\n",
    "        data_tag=driver.find_element(By.XPATH,'//div[1][@class=\"col-span-4\"]//p')\n",
    "        data_type.append(data_tag.text)\n",
    "    except NoSuchElementException:\n",
    "        data_type.append(\"-\")\n",
    "    \n",
    "    #Scraping task:-\n",
    "    try:\n",
    "        task_tag=driver.find_element(By.XPATH,'//div[3][@class=\"col-span-4\"]//p')\n",
    "        task.append(task_tag.text)\n",
    "    except NoSuchElementException:\n",
    "        task.append(\"-\")\n",
    "    \n",
    "    #Scraping attribute type:-\n",
    "    try:\n",
    "        type_tag=driver.find_element(By.XPATH,'//div[4][@class=\"col-span-4\"]//p')\n",
    "        attribute_type.append(type_tag.text)\n",
    "    except NoSuchElementException:\n",
    "        attribute_type.append(\"-\")\n",
    "    \n",
    "    #Scraping instances:-\n",
    "    try:\n",
    "        insta_tag=driver.find_element(By.XPATH,'//div[5][@class=\"col-span-4\"]//p')\n",
    "        instances.append(insta_tag.text)\n",
    "    except NoSuchElementException:\n",
    "        instances.append(\"-\")\n",
    "     \n",
    "    #Scraping attribute number:-\n",
    "    try:\n",
    "        number_tag=driver.find_element(By.XPATH,'//div[6][@class=\"col-span-4\"]//p')\n",
    "        attribute.append(number_tag.text)\n",
    "    except NoSuchElementException:\n",
    "        attribute.append(\"-\")\n",
    "    \n",
    "    #Scraping year:-\n",
    "    try:\n",
    "        year_tag=driver.find_element(By.XPATH,'//h2[@class=\"text-sm text-primary-content\"]')\n",
    "        year.append(year_tag.text)\n",
    "    except NoSuchElementException:\n",
    "        year.append(\"-\") "
   ]
  },
  {
   "cell_type": "code",
   "execution_count": 24,
   "id": "828df431",
   "metadata": {},
   "outputs": [
    {
     "data": {
      "text/plain": [
       "10"
      ]
     },
     "execution_count": 24,
     "metadata": {},
     "output_type": "execute_result"
    }
   ],
   "source": [
    "#Scraping each of the length:-\n",
    "\n",
    "len(set_name)"
   ]
  },
  {
   "cell_type": "code",
   "execution_count": 25,
   "id": "70823900",
   "metadata": {},
   "outputs": [
    {
     "data": {
      "text/plain": [
       "10"
      ]
     },
     "execution_count": 25,
     "metadata": {},
     "output_type": "execute_result"
    }
   ],
   "source": [
    "len(data_type)"
   ]
  },
  {
   "cell_type": "code",
   "execution_count": 26,
   "id": "2cfb1c8c",
   "metadata": {},
   "outputs": [
    {
     "data": {
      "text/plain": [
       "10"
      ]
     },
     "execution_count": 26,
     "metadata": {},
     "output_type": "execute_result"
    }
   ],
   "source": [
    "len(task)"
   ]
  },
  {
   "cell_type": "code",
   "execution_count": 27,
   "id": "e2168abe",
   "metadata": {},
   "outputs": [
    {
     "data": {
      "text/plain": [
       "10"
      ]
     },
     "execution_count": 27,
     "metadata": {},
     "output_type": "execute_result"
    }
   ],
   "source": [
    "len(attribute_type)"
   ]
  },
  {
   "cell_type": "code",
   "execution_count": 28,
   "id": "7506d122",
   "metadata": {},
   "outputs": [
    {
     "data": {
      "text/plain": [
       "10"
      ]
     },
     "execution_count": 28,
     "metadata": {},
     "output_type": "execute_result"
    }
   ],
   "source": [
    "len(instances)"
   ]
  },
  {
   "cell_type": "code",
   "execution_count": 29,
   "id": "b67a185e",
   "metadata": {},
   "outputs": [
    {
     "data": {
      "text/plain": [
       "10"
      ]
     },
     "execution_count": 29,
     "metadata": {},
     "output_type": "execute_result"
    }
   ],
   "source": [
    "len(attribute)"
   ]
  },
  {
   "cell_type": "code",
   "execution_count": 30,
   "id": "d4056be2",
   "metadata": {},
   "outputs": [
    {
     "data": {
      "text/plain": [
       "10"
      ]
     },
     "execution_count": 30,
     "metadata": {},
     "output_type": "execute_result"
    }
   ],
   "source": [
    "len(year)"
   ]
  },
  {
   "cell_type": "code",
   "execution_count": 31,
   "id": "b5f2c3a9",
   "metadata": {},
   "outputs": [
    {
     "data": {
      "text/html": [
       "<div>\n",
       "<style scoped>\n",
       "    .dataframe tbody tr th:only-of-type {\n",
       "        vertical-align: middle;\n",
       "    }\n",
       "\n",
       "    .dataframe tbody tr th {\n",
       "        vertical-align: top;\n",
       "    }\n",
       "\n",
       "    .dataframe thead th {\n",
       "        text-align: right;\n",
       "    }\n",
       "</style>\n",
       "<table border=\"1\" class=\"dataframe\">\n",
       "  <thead>\n",
       "    <tr style=\"text-align: right;\">\n",
       "      <th></th>\n",
       "      <th>Dataset Name</th>\n",
       "      <th>Data Type</th>\n",
       "      <th>Task</th>\n",
       "      <th>Attribute Type</th>\n",
       "      <th>No of Instances</th>\n",
       "      <th>No of Attribute</th>\n",
       "      <th>Year</th>\n",
       "    </tr>\n",
       "  </thead>\n",
       "  <tbody>\n",
       "    <tr>\n",
       "      <th>0</th>\n",
       "      <td>Iris</td>\n",
       "      <td>Tabular</td>\n",
       "      <td>Classification</td>\n",
       "      <td>Real</td>\n",
       "      <td>150</td>\n",
       "      <td>4</td>\n",
       "      <td>Donated on 6/30/1988</td>\n",
       "    </tr>\n",
       "    <tr>\n",
       "      <th>1</th>\n",
       "      <td>Dry Bean Dataset</td>\n",
       "      <td>Multivariate</td>\n",
       "      <td>Classification</td>\n",
       "      <td>Integer, Real</td>\n",
       "      <td>13611</td>\n",
       "      <td>16</td>\n",
       "      <td>Donated on 9/13/2020</td>\n",
       "    </tr>\n",
       "    <tr>\n",
       "      <th>2</th>\n",
       "      <td>Heart Disease</td>\n",
       "      <td>Multivariate</td>\n",
       "      <td>Classification</td>\n",
       "      <td>Categorical, Integer, Real</td>\n",
       "      <td>303</td>\n",
       "      <td>13</td>\n",
       "      <td>Donated on 6/30/1988</td>\n",
       "    </tr>\n",
       "    <tr>\n",
       "      <th>3</th>\n",
       "      <td>Rice (Cammeo and Osmancik)</td>\n",
       "      <td>Multivariate</td>\n",
       "      <td>Classification</td>\n",
       "      <td>Real</td>\n",
       "      <td>3810</td>\n",
       "      <td>7</td>\n",
       "      <td>Donated on 10/5/2019</td>\n",
       "    </tr>\n",
       "    <tr>\n",
       "      <th>4</th>\n",
       "      <td>Adult</td>\n",
       "      <td>Multivariate</td>\n",
       "      <td>Classification</td>\n",
       "      <td>Categorical, Integer</td>\n",
       "      <td>48842</td>\n",
       "      <td>14</td>\n",
       "      <td>Donated on 4/30/1996</td>\n",
       "    </tr>\n",
       "    <tr>\n",
       "      <th>5</th>\n",
       "      <td>Raisin</td>\n",
       "      <td>Multivariate</td>\n",
       "      <td>Classification</td>\n",
       "      <td>Real, Integer</td>\n",
       "      <td>900</td>\n",
       "      <td>7</td>\n",
       "      <td>Donated on 8/13/2023</td>\n",
       "    </tr>\n",
       "    <tr>\n",
       "      <th>6</th>\n",
       "      <td>Wine</td>\n",
       "      <td>Tabular</td>\n",
       "      <td>Classification</td>\n",
       "      <td>Integer, Real</td>\n",
       "      <td>178</td>\n",
       "      <td>13</td>\n",
       "      <td>Donated on 6/30/1991</td>\n",
       "    </tr>\n",
       "    <tr>\n",
       "      <th>7</th>\n",
       "      <td>Breast Cancer Wisconsin (Diagnostic)</td>\n",
       "      <td>Multivariate</td>\n",
       "      <td>Classification</td>\n",
       "      <td>Real</td>\n",
       "      <td>569</td>\n",
       "      <td>30</td>\n",
       "      <td>Donated on 10/31/1995</td>\n",
       "    </tr>\n",
       "    <tr>\n",
       "      <th>8</th>\n",
       "      <td>Wine Quality</td>\n",
       "      <td>Multivariate</td>\n",
       "      <td>Classification, Regression</td>\n",
       "      <td>Real</td>\n",
       "      <td>4898</td>\n",
       "      <td>11</td>\n",
       "      <td>Donated on 10/6/2009</td>\n",
       "    </tr>\n",
       "    <tr>\n",
       "      <th>9</th>\n",
       "      <td>Diabetes</td>\n",
       "      <td>Multivariate, Time-Series</td>\n",
       "      <td>Classification</td>\n",
       "      <td>Categorical, Integer</td>\n",
       "      <td>1</td>\n",
       "      <td>20</td>\n",
       "      <td>-</td>\n",
       "    </tr>\n",
       "  </tbody>\n",
       "</table>\n",
       "</div>"
      ],
      "text/plain": [
       "                           Dataset Name                  Data Type  \\\n",
       "0                                  Iris                    Tabular   \n",
       "1                      Dry Bean Dataset               Multivariate   \n",
       "2                         Heart Disease               Multivariate   \n",
       "3            Rice (Cammeo and Osmancik)               Multivariate   \n",
       "4                                 Adult               Multivariate   \n",
       "5                                Raisin               Multivariate   \n",
       "6                                  Wine                    Tabular   \n",
       "7  Breast Cancer Wisconsin (Diagnostic)               Multivariate   \n",
       "8                          Wine Quality               Multivariate   \n",
       "9                              Diabetes  Multivariate, Time-Series   \n",
       "\n",
       "                         Task              Attribute Type No of Instances  \\\n",
       "0              Classification                        Real             150   \n",
       "1              Classification               Integer, Real           13611   \n",
       "2              Classification  Categorical, Integer, Real             303   \n",
       "3              Classification                        Real            3810   \n",
       "4              Classification        Categorical, Integer           48842   \n",
       "5              Classification               Real, Integer             900   \n",
       "6              Classification               Integer, Real             178   \n",
       "7              Classification                        Real             569   \n",
       "8  Classification, Regression                        Real            4898   \n",
       "9              Classification        Categorical, Integer               1   \n",
       "\n",
       "  No of Attribute                   Year  \n",
       "0               4   Donated on 6/30/1988  \n",
       "1              16   Donated on 9/13/2020  \n",
       "2              13   Donated on 6/30/1988  \n",
       "3               7   Donated on 10/5/2019  \n",
       "4              14   Donated on 4/30/1996  \n",
       "5               7   Donated on 8/13/2023  \n",
       "6              13   Donated on 6/30/1991  \n",
       "7              30  Donated on 10/31/1995  \n",
       "8              11   Donated on 10/6/2009  \n",
       "9              20                      -  "
      ]
     },
     "execution_count": 31,
     "metadata": {},
     "output_type": "execute_result"
    }
   ],
   "source": [
    "#Create Dataframe and print:-\n",
    "\n",
    "df=pd.DataFrame({'Dataset Name':set_name,'Data Type':data_type,'Task':task,'Attribute Type':attribute_type,'No of Instances':instances,'No of Attribute':attribute,'Year':year})\n",
    "\n",
    "df"
   ]
  },
  {
   "cell_type": "code",
   "execution_count": null,
   "id": "d24fdee8",
   "metadata": {},
   "outputs": [],
   "source": []
  }
 ],
 "metadata": {
  "kernelspec": {
   "display_name": "Python 3 (ipykernel)",
   "language": "python",
   "name": "python3"
  },
  "language_info": {
   "codemirror_mode": {
    "name": "ipython",
    "version": 3
   },
   "file_extension": ".py",
   "mimetype": "text/x-python",
   "name": "python",
   "nbconvert_exporter": "python",
   "pygments_lexer": "ipython3",
   "version": "3.10.9"
  }
 },
 "nbformat": 4,
 "nbformat_minor": 5
}
