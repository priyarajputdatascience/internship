{
 "cells": [
  {
   "cell_type": "code",
   "execution_count": null,
   "id": "4514f061",
   "metadata": {},
   "outputs": [],
   "source": [
    "#Question no. 1:- Write a python program to scrape data for “Data Analyst” Job position in “Bangalore” location. You\n",
    "have to scrape the job-title, job-location, company_name, experience_required. You have to scrape first 10\n",
    "jobs data. "
   ]
  },
  {
   "cell_type": "code",
   "execution_count": 6,
   "id": "c1bbd49c",
   "metadata": {},
   "outputs": [
    {
     "name": "stdout",
     "output_type": "stream",
     "text": [
      "Requirement already satisfied: selenium in c:\\users\\91935\\anaconda3\\lib\\site-packages (4.16.0)\n",
      "Requirement already satisfied: trio-websocket~=0.9 in c:\\users\\91935\\anaconda3\\lib\\site-packages (from selenium) (0.11.1)\n",
      "Requirement already satisfied: urllib3[socks]<3,>=1.26 in c:\\users\\91935\\anaconda3\\lib\\site-packages (from selenium) (1.26.14)\n",
      "Requirement already satisfied: trio~=0.17 in c:\\users\\91935\\anaconda3\\lib\\site-packages (from selenium) (0.24.0)\n",
      "Requirement already satisfied: certifi>=2021.10.8 in c:\\users\\91935\\anaconda3\\lib\\site-packages (from selenium) (2022.12.7)\n",
      "Requirement already satisfied: sortedcontainers in c:\\users\\91935\\anaconda3\\lib\\site-packages (from trio~=0.17->selenium) (2.4.0)\n",
      "Requirement already satisfied: outcome in c:\\users\\91935\\anaconda3\\lib\\site-packages (from trio~=0.17->selenium) (1.3.0.post0)\n",
      "Requirement already satisfied: sniffio>=1.3.0 in c:\\users\\91935\\anaconda3\\lib\\site-packages (from trio~=0.17->selenium) (1.3.0)\n",
      "Requirement already satisfied: exceptiongroup in c:\\users\\91935\\anaconda3\\lib\\site-packages (from trio~=0.17->selenium) (1.2.0)\n",
      "Requirement already satisfied: attrs>=20.1.0 in c:\\users\\91935\\anaconda3\\lib\\site-packages (from trio~=0.17->selenium) (22.1.0)\n",
      "Requirement already satisfied: idna in c:\\users\\91935\\anaconda3\\lib\\site-packages (from trio~=0.17->selenium) (3.4)\n",
      "Requirement already satisfied: cffi>=1.14 in c:\\users\\91935\\anaconda3\\lib\\site-packages (from trio~=0.17->selenium) (1.15.1)\n",
      "Requirement already satisfied: wsproto>=0.14 in c:\\users\\91935\\anaconda3\\lib\\site-packages (from trio-websocket~=0.9->selenium) (1.2.0)\n",
      "Requirement already satisfied: PySocks!=1.5.7,<2.0,>=1.5.6 in c:\\users\\91935\\anaconda3\\lib\\site-packages (from urllib3[socks]<3,>=1.26->selenium) (1.7.1)\n",
      "Requirement already satisfied: pycparser in c:\\users\\91935\\anaconda3\\lib\\site-packages (from cffi>=1.14->trio~=0.17->selenium) (2.21)\n",
      "Requirement already satisfied: h11<1,>=0.9.0 in c:\\users\\91935\\anaconda3\\lib\\site-packages (from wsproto>=0.14->trio-websocket~=0.9->selenium) (0.14.0)\n"
     ]
    }
   ],
   "source": [
    "!pip install selenium"
   ]
  },
  {
   "cell_type": "code",
   "execution_count": 7,
   "id": "7419dba6",
   "metadata": {},
   "outputs": [],
   "source": [
    "import selenium\n",
    "import pandas as pd\n",
    "from selenium import webdriver\n",
    "import warnings\n",
    "warnings.filterwarnings('ignore')\n",
    "from selenium.webdriver.common.by import By\n",
    "import time\n",
    "from selenium.common.exceptions import NoSuchElementException"
   ]
  },
  {
   "cell_type": "code",
   "execution_count": 8,
   "id": "9e60cbf8",
   "metadata": {},
   "outputs": [],
   "source": [
    "driver= webdriver.Chrome()"
   ]
  },
  {
   "cell_type": "code",
   "execution_count": 9,
   "id": "efe7a7d0",
   "metadata": {},
   "outputs": [],
   "source": [
    "#First get the webpage https://www.shine.com/:-\n",
    "\n",
    "driver.get('https://www.shine.com/')"
   ]
  },
  {
   "cell_type": "code",
   "execution_count": 12,
   "id": "72cc5c89",
   "metadata": {},
   "outputs": [],
   "source": [
    "#Enter “Data Analyst” in “Job title, Skills” field and enter “Bangalore” in “enter the location” field:-\n",
    "\n",
    "designation= driver.find_element(By.CLASS_NAME,'form-control')\n",
    "designation.send_keys('Data Analyst')"
   ]
  },
  {
   "cell_type": "code",
   "execution_count": 13,
   "id": "e4928025",
   "metadata": {},
   "outputs": [],
   "source": [
    "location=driver.find_element(By.XPATH, '/html/body/div/div[4]/div/div[2]/div[2]/div/form/div/div[1]/ul/li[2]/div/input')\n",
    "location.send_keys(\"Bangalore\")"
   ]
  },
  {
   "cell_type": "code",
   "execution_count": 15,
   "id": "7181175c",
   "metadata": {},
   "outputs": [],
   "source": [
    "#Then click the searchbutton:-\n",
    "\n",
    "search=driver.find_elements(By.CLASS_NAME, 'btn btn-secondary undefined')"
   ]
  },
  {
   "cell_type": "code",
   "execution_count": 76,
   "id": "91db4138",
   "metadata": {},
   "outputs": [],
   "source": [
    "#Then scrape the data for the first 10 jobs results you get:-\n",
    "\n",
    "job_title=[]\n",
    "job_location=[]\n",
    "company_name=[]\n",
    "experience_required=[]"
   ]
  },
  {
   "cell_type": "code",
   "execution_count": 77,
   "id": "5bab61e5",
   "metadata": {},
   "outputs": [],
   "source": [
    "title_tags=driver.find_elements(By.XPATH,'//div[@class=\"jobCard_jobCard__jjUmu  white-box-border jobCard\"]/div/h2/a')\n",
    "for i in title_tags:\n",
    "    title=i.text\n",
    "    job_title.append(title)\n"
   ]
  },
  {
   "cell_type": "code",
   "execution_count": 78,
   "id": "4ae81ac1",
   "metadata": {},
   "outputs": [],
   "source": [
    "location_tags=driver.find_elements(By.XPATH,'//div[@class=\" jobCard_jobCard_lists_item__YxRkV jobCard_locationIcon__zrWt2\"]')\n",
    "for i in location_tags:\n",
    "    location=i.text\n",
    "    job_location.append(location)\n",
    "   "
   ]
  },
  {
   "cell_type": "code",
   "execution_count": 79,
   "id": "4a6de4cf",
   "metadata": {},
   "outputs": [],
   "source": [
    "name_tags=driver.find_elements(By.XPATH,'//div[@class=\"jobCard_jobCard_cName__mYnow\"]')\n",
    "for i in name_tags:\n",
    "    name=i.text\n",
    "    company_name.append(name)\n"
   ]
  },
  {
   "cell_type": "code",
   "execution_count": 80,
   "id": "f33d9811",
   "metadata": {},
   "outputs": [],
   "source": [
    "exp_tags=driver.find_elements(By.XPATH,'//div[@class=\" jobCard_jobCard_lists_item__YxRkV jobCard_jobIcon__3FB1t\"]')\n",
    "for i in exp_tags:\n",
    "    exp=i.text\n",
    "    experience_required.append(exp)\n",
    "  "
   ]
  },
  {
   "cell_type": "code",
   "execution_count": 81,
   "id": "4fa78333",
   "metadata": {},
   "outputs": [],
   "source": [
    "import pandas as pd\n"
   ]
  },
  {
   "cell_type": "code",
   "execution_count": 82,
   "id": "9e4b8066",
   "metadata": {},
   "outputs": [],
   "source": [
    "#Finally create a dataframe of the scraped data:-\n",
    "\n",
    "df=pd.DataFrame({'Title':job_title[0:10],'Location':job_location[0:10],'Company_Name':company_name[0:10],'Experience':experience_required[0:10]})"
   ]
  },
  {
   "cell_type": "code",
   "execution_count": 83,
   "id": "f859f7ba",
   "metadata": {},
   "outputs": [
    {
     "data": {
      "text/html": [
       "<div>\n",
       "<style scoped>\n",
       "    .dataframe tbody tr th:only-of-type {\n",
       "        vertical-align: middle;\n",
       "    }\n",
       "\n",
       "    .dataframe tbody tr th {\n",
       "        vertical-align: top;\n",
       "    }\n",
       "\n",
       "    .dataframe thead th {\n",
       "        text-align: right;\n",
       "    }\n",
       "</style>\n",
       "<table border=\"1\" class=\"dataframe\">\n",
       "  <thead>\n",
       "    <tr style=\"text-align: right;\">\n",
       "      <th></th>\n",
       "      <th>Title</th>\n",
       "      <th>Location</th>\n",
       "      <th>Company_Name</th>\n",
       "      <th>Experience</th>\n",
       "    </tr>\n",
       "  </thead>\n",
       "  <tbody>\n",
       "    <tr>\n",
       "      <th>0</th>\n",
       "      <td>Data Analyst</td>\n",
       "      <td>Bangalore</td>\n",
       "      <td>ara resources private limited</td>\n",
       "      <td>4 to 9 Yrs</td>\n",
       "    </tr>\n",
       "    <tr>\n",
       "      <th>1</th>\n",
       "      <td>Vacancy For Data Analyst</td>\n",
       "      <td>Bangalore\\n+3</td>\n",
       "      <td>diraa hr services hiring for mncs</td>\n",
       "      <td>0 to 1 Yr</td>\n",
       "    </tr>\n",
       "    <tr>\n",
       "      <th>2</th>\n",
       "      <td>Clinical Data Analyst</td>\n",
       "      <td>Bangalore\\n+14</td>\n",
       "      <td>yogita staffing solution</td>\n",
       "      <td>0 to 3 Yrs</td>\n",
       "    </tr>\n",
       "    <tr>\n",
       "      <th>3</th>\n",
       "      <td>Data Modeler data</td>\n",
       "      <td>Bangalore\\n+6</td>\n",
       "      <td>techno endura</td>\n",
       "      <td>0 to 1 Yr</td>\n",
       "    </tr>\n",
       "    <tr>\n",
       "      <th>4</th>\n",
       "      <td>Data Modeller</td>\n",
       "      <td>Bangalore</td>\n",
       "      <td>boyen haddin consulting and technol...</td>\n",
       "      <td>3 to 6 Yrs</td>\n",
       "    </tr>\n",
       "    <tr>\n",
       "      <th>5</th>\n",
       "      <td>Data Modeler Bangalore</td>\n",
       "      <td>Bangalore</td>\n",
       "      <td>boyen haddin consulting and technol...</td>\n",
       "      <td>3 to 6 Yrs</td>\n",
       "    </tr>\n",
       "    <tr>\n",
       "      <th>6</th>\n",
       "      <td>Data Modeler</td>\n",
       "      <td>Bangalore</td>\n",
       "      <td>boyen haddin consulting and technol...</td>\n",
       "      <td>3 to 6 Yrs</td>\n",
       "    </tr>\n",
       "    <tr>\n",
       "      <th>7</th>\n",
       "      <td>Clinical Data Analyst</td>\n",
       "      <td>Bangalore</td>\n",
       "      <td>boyen haddin consulting and technol...</td>\n",
       "      <td>3 to 6 Yrs</td>\n",
       "    </tr>\n",
       "    <tr>\n",
       "      <th>8</th>\n",
       "      <td>Data Analyst Hiring Fresher and Experience</td>\n",
       "      <td>Bangalore\\n+4</td>\n",
       "      <td>quiscon biotech</td>\n",
       "      <td>0 to 2 Yrs</td>\n",
       "    </tr>\n",
       "    <tr>\n",
       "      <th>9</th>\n",
       "      <td>Data Analyst Hiring Fresher and Experience</td>\n",
       "      <td>Bangalore\\n+13</td>\n",
       "      <td>kavya interprises</td>\n",
       "      <td>0 to 4 Yrs</td>\n",
       "    </tr>\n",
       "  </tbody>\n",
       "</table>\n",
       "</div>"
      ],
      "text/plain": [
       "                                        Title        Location  \\\n",
       "0                                Data Analyst       Bangalore   \n",
       "1                    Vacancy For Data Analyst   Bangalore\\n+3   \n",
       "2                       Clinical Data Analyst  Bangalore\\n+14   \n",
       "3                           Data Modeler data   Bangalore\\n+6   \n",
       "4                               Data Modeller       Bangalore   \n",
       "5                      Data Modeler Bangalore       Bangalore   \n",
       "6                                Data Modeler       Bangalore   \n",
       "7                       Clinical Data Analyst       Bangalore   \n",
       "8  Data Analyst Hiring Fresher and Experience   Bangalore\\n+4   \n",
       "9  Data Analyst Hiring Fresher and Experience  Bangalore\\n+13   \n",
       "\n",
       "                             Company_Name  Experience  \n",
       "0           ara resources private limited  4 to 9 Yrs  \n",
       "1       diraa hr services hiring for mncs   0 to 1 Yr  \n",
       "2                yogita staffing solution  0 to 3 Yrs  \n",
       "3                           techno endura   0 to 1 Yr  \n",
       "4  boyen haddin consulting and technol...  3 to 6 Yrs  \n",
       "5  boyen haddin consulting and technol...  3 to 6 Yrs  \n",
       "6  boyen haddin consulting and technol...  3 to 6 Yrs  \n",
       "7  boyen haddin consulting and technol...  3 to 6 Yrs  \n",
       "8                         quiscon biotech  0 to 2 Yrs  \n",
       "9                       kavya interprises  0 to 4 Yrs  "
      ]
     },
     "execution_count": 83,
     "metadata": {},
     "output_type": "execute_result"
    }
   ],
   "source": [
    "df"
   ]
  },
  {
   "cell_type": "code",
   "execution_count": null,
   "id": "56db32e5",
   "metadata": {},
   "outputs": [],
   "source": []
  },
  {
   "cell_type": "code",
   "execution_count": null,
   "id": "79897e0d",
   "metadata": {},
   "outputs": [],
   "source": []
  },
  {
   "cell_type": "code",
   "execution_count": null,
   "id": "a5e97abd",
   "metadata": {},
   "outputs": [],
   "source": [
    "#Question no. 2:-:Write a python program to scrape data for “Data Scientist” Job position in“Bangalore” location. You\n",
    "have to scrape the job-title, job-location, company_name. You have to scrape first 10 jobs data"
   ]
  },
  {
   "cell_type": "code",
   "execution_count": 2,
   "id": "4b0ec817",
   "metadata": {},
   "outputs": [
    {
     "name": "stdout",
     "output_type": "stream",
     "text": [
      "Requirement already satisfied: selenium in c:\\users\\91935\\anaconda3\\lib\\site-packages (4.16.0)\n",
      "Requirement already satisfied: urllib3[socks]<3,>=1.26 in c:\\users\\91935\\anaconda3\\lib\\site-packages (from selenium) (1.26.14)\n",
      "Requirement already satisfied: certifi>=2021.10.8 in c:\\users\\91935\\anaconda3\\lib\\site-packages (from selenium) (2022.12.7)\n",
      "Requirement already satisfied: trio~=0.17 in c:\\users\\91935\\anaconda3\\lib\\site-packages (from selenium) (0.24.0)\n",
      "Requirement already satisfied: trio-websocket~=0.9 in c:\\users\\91935\\anaconda3\\lib\\site-packages (from selenium) (0.11.1)\n",
      "Requirement already satisfied: idna in c:\\users\\91935\\anaconda3\\lib\\site-packages (from trio~=0.17->selenium) (3.4)\n",
      "Requirement already satisfied: cffi>=1.14 in c:\\users\\91935\\anaconda3\\lib\\site-packages (from trio~=0.17->selenium) (1.15.1)\n",
      "Requirement already satisfied: outcome in c:\\users\\91935\\anaconda3\\lib\\site-packages (from trio~=0.17->selenium) (1.3.0.post0)\n",
      "Requirement already satisfied: sortedcontainers in c:\\users\\91935\\anaconda3\\lib\\site-packages (from trio~=0.17->selenium) (2.4.0)\n",
      "Requirement already satisfied: exceptiongroup in c:\\users\\91935\\anaconda3\\lib\\site-packages (from trio~=0.17->selenium) (1.2.0)\n",
      "Requirement already satisfied: attrs>=20.1.0 in c:\\users\\91935\\anaconda3\\lib\\site-packages (from trio~=0.17->selenium) (22.1.0)\n",
      "Requirement already satisfied: sniffio>=1.3.0 in c:\\users\\91935\\anaconda3\\lib\\site-packages (from trio~=0.17->selenium) (1.3.0)\n",
      "Requirement already satisfied: wsproto>=0.14 in c:\\users\\91935\\anaconda3\\lib\\site-packages (from trio-websocket~=0.9->selenium) (1.2.0)\n",
      "Requirement already satisfied: PySocks!=1.5.7,<2.0,>=1.5.6 in c:\\users\\91935\\anaconda3\\lib\\site-packages (from urllib3[socks]<3,>=1.26->selenium) (1.7.1)\n",
      "Requirement already satisfied: pycparser in c:\\users\\91935\\anaconda3\\lib\\site-packages (from cffi>=1.14->trio~=0.17->selenium) (2.21)\n",
      "Requirement already satisfied: h11<1,>=0.9.0 in c:\\users\\91935\\anaconda3\\lib\\site-packages (from wsproto>=0.14->trio-websocket~=0.9->selenium) (0.14.0)\n"
     ]
    }
   ],
   "source": [
    "!pip install selenium"
   ]
  },
  {
   "cell_type": "code",
   "execution_count": 158,
   "id": "f62d5971",
   "metadata": {},
   "outputs": [],
   "source": [
    "import selenium\n",
    "import pandas as pd\n",
    "from selenium import webdriver\n",
    "import warnings\n",
    "warnings.filterwarnings('ignore')\n",
    "from selenium.webdriver.common.by import By\n",
    "import time\n",
    "from selenium.common.exceptions import NoSuchElementException\n",
    "from selenium.webdriver.support.ui import WebDriverWait\n",
    "from selenium.webdriver.support import expected_conditions as EC\n",
    "from selenium.common.exceptions import TimeoutException"
   ]
  },
  {
   "cell_type": "code",
   "execution_count": 159,
   "id": "c41eeaba",
   "metadata": {},
   "outputs": [],
   "source": [
    "driver=webdriver.Chrome()"
   ]
  },
  {
   "cell_type": "code",
   "execution_count": 160,
   "id": "885c50ee",
   "metadata": {},
   "outputs": [],
   "source": [
    "#First get the webpage https://www.shine.com/:-\n",
    "\n",
    "driver.get('https://www.shine.com/')"
   ]
  },
  {
   "cell_type": "code",
   "execution_count": 172,
   "id": "9425137b",
   "metadata": {},
   "outputs": [],
   "source": [
    "#Enter “Data Scientist” in “Job title, Skills” field and enter “Bangalore” in “enter thelocation” field:-\n",
    "\n",
    "designation= driver.find_element(By.CLASS_NAME,'input')\n",
    "designation.send_keys('Data Scientist')"
   ]
  },
  {
   "cell_type": "code",
   "execution_count": 173,
   "id": "c99e0248",
   "metadata": {},
   "outputs": [],
   "source": [
    "location=driver.find_element(By.XPATH,'/html/body/div/div[4]/div/div[2]/div[2]/div[1]/form/div/div[1]/ul/li[2]/div/input')\n",
    "location.send_keys('Bangalore')"
   ]
  },
  {
   "cell_type": "code",
   "execution_count": 174,
   "id": "5b91a6b6",
   "metadata": {},
   "outputs": [],
   "source": [
    "#Then click the search button:-\n",
    "\n",
    "search=driver.find_elements(By.CLASS_NAME, 'btn btn-secondary undefined')"
   ]
  },
  {
   "cell_type": "code",
   "execution_count": 175,
   "id": "9ff0880a",
   "metadata": {},
   "outputs": [],
   "source": [
    "#Then scrape the data for the first 10 jobs results you get:-\n",
    "\n",
    "job_title=[]\n",
    "job_location=[]\n",
    "company_name=[]"
   ]
  },
  {
   "cell_type": "code",
   "execution_count": 176,
   "id": "c1db85e6",
   "metadata": {},
   "outputs": [],
   "source": [
    "title_tags=driver.find_elements(By.XPATH,'//div[@class=\"jobCard_jobCard__jjUmu  white-box-border jobCard\"]/div/h2/a')\n",
    "for i in title_tags:\n",
    "    title=i.text\n",
    "    job_title.append(title)\n"
   ]
  },
  {
   "cell_type": "code",
   "execution_count": 177,
   "id": "b25dfeb6",
   "metadata": {},
   "outputs": [],
   "source": [
    "location_tags=driver.find_elements(By.XPATH,'//div[@class=\" jobCard_jobCard_lists_item__YxRkV jobCard_locationIcon__zrWt2\"]')\n",
    "for i in location_tags:\n",
    "    location=i.text\n",
    "    job_location.append(location)"
   ]
  },
  {
   "cell_type": "code",
   "execution_count": 178,
   "id": "a30546cc",
   "metadata": {},
   "outputs": [],
   "source": [
    "name_tags=driver.find_elements(By.XPATH,'//div[@class=\"jobCard_jobCard_cName__mYnow\"]')\n",
    "for i in name_tags:\n",
    "    name=i.text\n",
    "    company_name.append(name)"
   ]
  },
  {
   "cell_type": "code",
   "execution_count": 179,
   "id": "fa450385",
   "metadata": {},
   "outputs": [
    {
     "data": {
      "text/html": [
       "<div>\n",
       "<style scoped>\n",
       "    .dataframe tbody tr th:only-of-type {\n",
       "        vertical-align: middle;\n",
       "    }\n",
       "\n",
       "    .dataframe tbody tr th {\n",
       "        vertical-align: top;\n",
       "    }\n",
       "\n",
       "    .dataframe thead th {\n",
       "        text-align: right;\n",
       "    }\n",
       "</style>\n",
       "<table border=\"1\" class=\"dataframe\">\n",
       "  <thead>\n",
       "    <tr style=\"text-align: right;\">\n",
       "      <th></th>\n",
       "      <th>Title</th>\n",
       "      <th>Location</th>\n",
       "      <th>Company_Name</th>\n",
       "    </tr>\n",
       "  </thead>\n",
       "  <tbody>\n",
       "    <tr>\n",
       "      <th>0</th>\n",
       "      <td></td>\n",
       "      <td></td>\n",
       "      <td></td>\n",
       "    </tr>\n",
       "    <tr>\n",
       "      <th>1</th>\n",
       "      <td>Req. for the Technology Analyst IT Services</td>\n",
       "      <td>Pune</td>\n",
       "      <td>infosys limited</td>\n",
       "    </tr>\n",
       "    <tr>\n",
       "      <th>2</th>\n",
       "      <td>We need Process Lead</td>\n",
       "      <td>Chennai</td>\n",
       "      <td>infosys limited</td>\n",
       "    </tr>\n",
       "    <tr>\n",
       "      <th>3</th>\n",
       "      <td>We need Technical Operations Associate</td>\n",
       "      <td>Bangalore</td>\n",
       "      <td>infosys limited</td>\n",
       "    </tr>\n",
       "    <tr>\n",
       "      <th>4</th>\n",
       "      <td></td>\n",
       "      <td></td>\n",
       "      <td></td>\n",
       "    </tr>\n",
       "    <tr>\n",
       "      <th>5</th>\n",
       "      <td></td>\n",
       "      <td></td>\n",
       "      <td></td>\n",
       "    </tr>\n",
       "    <tr>\n",
       "      <th>6</th>\n",
       "      <td></td>\n",
       "      <td></td>\n",
       "      <td></td>\n",
       "    </tr>\n",
       "    <tr>\n",
       "      <th>7</th>\n",
       "      <td>sap functional consultant - delhi</td>\n",
       "      <td>Delhi</td>\n",
       "      <td>v tech it solutions</td>\n",
       "    </tr>\n",
       "    <tr>\n",
       "      <th>8</th>\n",
       "      <td>sap functional consultant - Gurugram</td>\n",
       "      <td>Gurugram</td>\n",
       "      <td>v tech it solutions</td>\n",
       "    </tr>\n",
       "    <tr>\n",
       "      <th>9</th>\n",
       "      <td>Sap Functional Consultant - Gurugram</td>\n",
       "      <td>Gurugram</td>\n",
       "      <td>v tech it solutions</td>\n",
       "    </tr>\n",
       "  </tbody>\n",
       "</table>\n",
       "</div>"
      ],
      "text/plain": [
       "                                         Title   Location         Company_Name\n",
       "0                                                                             \n",
       "1  Req. for the Technology Analyst IT Services       Pune      infosys limited\n",
       "2                         We need Process Lead    Chennai      infosys limited\n",
       "3       We need Technical Operations Associate  Bangalore      infosys limited\n",
       "4                                                                             \n",
       "5                                                                             \n",
       "6                                                                             \n",
       "7            sap functional consultant - delhi      Delhi  v tech it solutions\n",
       "8         sap functional consultant - Gurugram   Gurugram  v tech it solutions\n",
       "9         Sap Functional Consultant - Gurugram   Gurugram  v tech it solutions"
      ]
     },
     "execution_count": 179,
     "metadata": {},
     "output_type": "execute_result"
    }
   ],
   "source": [
    "#Finally create a dataframe of the scraped data:-\n",
    "\n",
    "df=pd.DataFrame({'Title':job_title[0:10],'Location':job_location[0:10],'Company_Name':company_name[0:10]})\n",
    "df"
   ]
  },
  {
   "cell_type": "code",
   "execution_count": null,
   "id": "2fbacb28",
   "metadata": {},
   "outputs": [],
   "source": []
  },
  {
   "cell_type": "code",
   "execution_count": null,
   "id": "53ac97b7",
   "metadata": {},
   "outputs": [],
   "source": []
  },
  {
   "cell_type": "code",
   "execution_count": null,
   "id": "01d8d000",
   "metadata": {},
   "outputs": [],
   "source": [
    "#Question no. 3:-In this question you have to scrape data using the filters available on the webpage \n",
    " You have to use the location and salary filter.\n",
    "You have to scrape data for “Data Scientist” designation for first 10 job results.\n",
    "You have to scrape the job-title, job-location, company name, experience required.\n",
    "The location filter to be used is “Delhi/NCR”. The salary filter to be used is “3-6” lakhs"
   ]
  },
  {
   "cell_type": "code",
   "execution_count": 200,
   "id": "f31b2675",
   "metadata": {},
   "outputs": [],
   "source": [
    "import selenium\n",
    "import pandas as pd\n",
    "from selenium import webdriver\n",
    "import warnings\n",
    "warnings.filterwarnings('ignore')\n",
    "from selenium.webdriver.common.by import By\n",
    "import time\n",
    "from selenium.common.exceptions import NoSuchElementException"
   ]
  },
  {
   "cell_type": "code",
   "execution_count": 201,
   "id": "adc2be47",
   "metadata": {},
   "outputs": [],
   "source": [
    "driver=webdriver.Chrome()"
   ]
  },
  {
   "cell_type": "code",
   "execution_count": 202,
   "id": "2f3b9b6a",
   "metadata": {},
   "outputs": [],
   "source": [
    "#first get the web page https://www.shine.com/:-\n",
    "\n",
    "driver.get('https://www.shine.com/')"
   ]
  },
  {
   "cell_type": "code",
   "execution_count": 203,
   "id": "6e587115",
   "metadata": {},
   "outputs": [],
   "source": [
    "#Enter “Data Scientist” in “Skill, Designations, and Companies” field:-\n",
    "\n",
    "designation=driver.find_element(By.CLASS_NAME, 'input')\n",
    "designation.send_keys('Data Scientist')"
   ]
  },
  {
   "cell_type": "code",
   "execution_count": 204,
   "id": "f9241d5c",
   "metadata": {},
   "outputs": [],
   "source": [
    "#Then click the search button:-\n",
    "\n",
    "search=driver.find_elements(By.CLASS_NAME,\"iconH-zoom-white\")"
   ]
  },
  {
   "cell_type": "code",
   "execution_count": 206,
   "id": "f62b0491",
   "metadata": {},
   "outputs": [],
   "source": [
    "#Then apply the location filter and salary filter by checking the respective boxes:-\n",
    "\n",
    "location_filter= driver.find_element(By.XPATH, \"/html/body/div[1]/div[1]/div[3]/div/div[1]/div/div[2]/div/ul/li[1]/button \")\n",
    "location_filter.send_keys('Delhi')"
   ]
  },
  {
   "cell_type": "code",
   "execution_count": 207,
   "id": "d5816d3a",
   "metadata": {},
   "outputs": [],
   "source": [
    "salary_filter=driver.find_element(By.XPATH, '/html/body/div[1]/div[1]/div[3]/div/div[1]/div/div[2]/div/ul/li[3]/button')\n",
    "salary_filter.send_keys('3-5 lakhs')"
   ]
  },
  {
   "cell_type": "code",
   "execution_count": 209,
   "id": "5a7b490e",
   "metadata": {},
   "outputs": [],
   "source": [
    "#Then scrape the data for the first 10 jobs results you get:-\n",
    "\n",
    "job_title=[]\n",
    "job_location=[]\n",
    "company_name=[]\n",
    "experience_required=[]"
   ]
  },
  {
   "cell_type": "code",
   "execution_count": 210,
   "id": "38147af6",
   "metadata": {},
   "outputs": [],
   "source": [
    "title_tags=driver.find_elements(By.XPATH,'//div[@class=\"jobCard_jobCard__jjUmu  white-box-border jobCard\"]/div/h2/a')\n",
    "for i in title_tags:\n",
    "    title=i.text\n",
    "    job_title.append(title)"
   ]
  },
  {
   "cell_type": "code",
   "execution_count": 211,
   "id": "4fc890b4",
   "metadata": {},
   "outputs": [],
   "source": [
    "location_tags=driver.find_elements(By.XPATH,'//div[@class=\" jobCard_jobCard_lists_item__YxRkV jobCard_locationIcon__zrWt2\"]')\n",
    "for i in location_tags:\n",
    "    location=i.text\n",
    "    job_location.append(location)\n",
    "   "
   ]
  },
  {
   "cell_type": "code",
   "execution_count": 212,
   "id": "6bb85e11",
   "metadata": {},
   "outputs": [],
   "source": [
    "name_tags=driver.find_elements(By.XPATH,'//div[@class=\"jobCard_jobCard_cName__mYnow\"]')\n",
    "for i in name_tags:\n",
    "    name=i.text\n",
    "    company_name.append(name)"
   ]
  },
  {
   "cell_type": "code",
   "execution_count": 213,
   "id": "d065d719",
   "metadata": {},
   "outputs": [],
   "source": [
    "exp_tags=driver.find_elements(By.XPATH,'//div[@class=\" jobCard_jobCard_lists_item__YxRkV jobCard_jobIcon__3FB1t\"]')\n",
    "for i in exp_tags:\n",
    "    exp=i.text\n",
    "    experience_required.append(exp)"
   ]
  },
  {
   "cell_type": "code",
   "execution_count": 214,
   "id": "a1997e4d",
   "metadata": {},
   "outputs": [],
   "source": [
    "#Finally create a dataframe of the scrapeddata:=\n",
    "\n",
    "df=pd.DataFrame({'Title':job_title[0:10],'Location':job_location[0:10],'Company_Name':company_name[0:10],'Experience':experience_required[0:10]})"
   ]
  },
  {
   "cell_type": "code",
   "execution_count": 215,
   "id": "64f5f0d9",
   "metadata": {},
   "outputs": [
    {
     "data": {
      "text/html": [
       "<div>\n",
       "<style scoped>\n",
       "    .dataframe tbody tr th:only-of-type {\n",
       "        vertical-align: middle;\n",
       "    }\n",
       "\n",
       "    .dataframe tbody tr th {\n",
       "        vertical-align: top;\n",
       "    }\n",
       "\n",
       "    .dataframe thead th {\n",
       "        text-align: right;\n",
       "    }\n",
       "</style>\n",
       "<table border=\"1\" class=\"dataframe\">\n",
       "  <thead>\n",
       "    <tr style=\"text-align: right;\">\n",
       "      <th></th>\n",
       "      <th>Title</th>\n",
       "      <th>Location</th>\n",
       "      <th>Company_Name</th>\n",
       "      <th>Experience</th>\n",
       "    </tr>\n",
       "  </thead>\n",
       "  <tbody>\n",
       "    <tr>\n",
       "      <th>0</th>\n",
       "      <td>Clinical Data Analyst</td>\n",
       "      <td>Delhi\\n+4</td>\n",
       "      <td>acme services private limited</td>\n",
       "      <td>3 to 5 Yrs</td>\n",
       "    </tr>\n",
       "    <tr>\n",
       "      <th>1</th>\n",
       "      <td>Bioanalytical Research</td>\n",
       "      <td>Delhi\\n+6</td>\n",
       "      <td>techno endura</td>\n",
       "      <td>0 to 1 Yr</td>\n",
       "    </tr>\n",
       "    <tr>\n",
       "      <th>2</th>\n",
       "      <td>Bioanalytical Research Associates</td>\n",
       "      <td>Delhi\\n+6</td>\n",
       "      <td>techno endura</td>\n",
       "      <td>0 to 1 Yr</td>\n",
       "    </tr>\n",
       "    <tr>\n",
       "      <th>3</th>\n",
       "      <td>Clinical Data Management</td>\n",
       "      <td>Delhi\\n+6</td>\n",
       "      <td>techno endura</td>\n",
       "      <td>0 to 1 Yr</td>\n",
       "    </tr>\n",
       "    <tr>\n",
       "      <th>4</th>\n",
       "      <td>Clinical Analyst Fresher</td>\n",
       "      <td>Delhi\\n+6</td>\n",
       "      <td>techno endura</td>\n",
       "      <td>0 to 1 Yr</td>\n",
       "    </tr>\n",
       "    <tr>\n",
       "      <th>5</th>\n",
       "      <td>Junior Clinical Data Management</td>\n",
       "      <td>Delhi\\n+6</td>\n",
       "      <td>techno endura</td>\n",
       "      <td>0 to 1 Yr</td>\n",
       "    </tr>\n",
       "    <tr>\n",
       "      <th>6</th>\n",
       "      <td>Data Engineer</td>\n",
       "      <td>Delhi\\n+6</td>\n",
       "      <td>techno endura</td>\n",
       "      <td>0 to 1 Yr</td>\n",
       "    </tr>\n",
       "    <tr>\n",
       "      <th>7</th>\n",
       "      <td>Biostatistician</td>\n",
       "      <td>Delhi\\n+9</td>\n",
       "      <td>future solution centre</td>\n",
       "      <td>10 to 20 Yrs</td>\n",
       "    </tr>\n",
       "    <tr>\n",
       "      <th>8</th>\n",
       "      <td>Clinical Document Specialist</td>\n",
       "      <td>Delhi\\n+17</td>\n",
       "      <td>national seeds corporation limited</td>\n",
       "      <td>2 to 7 Yrs</td>\n",
       "    </tr>\n",
       "    <tr>\n",
       "      <th>9</th>\n",
       "      <td>Document Specialist</td>\n",
       "      <td>Delhi\\n+6</td>\n",
       "      <td>techno endura</td>\n",
       "      <td>0 to 1 Yr</td>\n",
       "    </tr>\n",
       "  </tbody>\n",
       "</table>\n",
       "</div>"
      ],
      "text/plain": [
       "                               Title    Location  \\\n",
       "0              Clinical Data Analyst   Delhi\\n+4   \n",
       "1             Bioanalytical Research   Delhi\\n+6   \n",
       "2  Bioanalytical Research Associates   Delhi\\n+6   \n",
       "3           Clinical Data Management   Delhi\\n+6   \n",
       "4           Clinical Analyst Fresher   Delhi\\n+6   \n",
       "5    Junior Clinical Data Management   Delhi\\n+6   \n",
       "6                      Data Engineer   Delhi\\n+6   \n",
       "7                    Biostatistician   Delhi\\n+9   \n",
       "8       Clinical Document Specialist  Delhi\\n+17   \n",
       "9                Document Specialist   Delhi\\n+6   \n",
       "\n",
       "                         Company_Name    Experience  \n",
       "0       acme services private limited    3 to 5 Yrs  \n",
       "1                       techno endura     0 to 1 Yr  \n",
       "2                       techno endura     0 to 1 Yr  \n",
       "3                       techno endura     0 to 1 Yr  \n",
       "4                       techno endura     0 to 1 Yr  \n",
       "5                       techno endura     0 to 1 Yr  \n",
       "6                       techno endura     0 to 1 Yr  \n",
       "7              future solution centre  10 to 20 Yrs  \n",
       "8  national seeds corporation limited    2 to 7 Yrs  \n",
       "9                       techno endura     0 to 1 Yr  "
      ]
     },
     "execution_count": 215,
     "metadata": {},
     "output_type": "execute_result"
    }
   ],
   "source": [
    "df"
   ]
  },
  {
   "cell_type": "code",
   "execution_count": null,
   "id": "ace5f688",
   "metadata": {},
   "outputs": [],
   "source": []
  },
  {
   "cell_type": "code",
   "execution_count": null,
   "id": "77cf432a",
   "metadata": {},
   "outputs": [],
   "source": []
  },
  {
   "cell_type": "code",
   "execution_count": null,
   "id": "cd0988dc",
   "metadata": {},
   "outputs": [],
   "source": [
    "#Question no.4:- Scrape data of first 100 sunglasses listings on flipkart.com. You have to scrape four attributes:\n",
    "6. Brand\n",
    "7. ProductDescription\n",
    "8. Price"
   ]
  },
  {
   "cell_type": "code",
   "execution_count": 1,
   "id": "eff8e508",
   "metadata": {},
   "outputs": [
    {
     "name": "stdout",
     "output_type": "stream",
     "text": [
      "Requirement already satisfied: selenium in c:\\users\\91935\\anaconda3\\lib\\site-packages (4.16.0)\n",
      "Requirement already satisfied: urllib3[socks]<3,>=1.26 in c:\\users\\91935\\anaconda3\\lib\\site-packages (from selenium) (1.26.14)\n",
      "Requirement already satisfied: certifi>=2021.10.8 in c:\\users\\91935\\anaconda3\\lib\\site-packages (from selenium) (2022.12.7)\n",
      "Requirement already satisfied: trio-websocket~=0.9 in c:\\users\\91935\\anaconda3\\lib\\site-packages (from selenium) (0.11.1)\n",
      "Requirement already satisfied: trio~=0.17 in c:\\users\\91935\\anaconda3\\lib\\site-packages (from selenium) (0.24.0)\n",
      "Requirement already satisfied: sniffio>=1.3.0 in c:\\users\\91935\\anaconda3\\lib\\site-packages (from trio~=0.17->selenium) (1.3.0)\n",
      "Requirement already satisfied: cffi>=1.14 in c:\\users\\91935\\anaconda3\\lib\\site-packages (from trio~=0.17->selenium) (1.15.1)\n",
      "Requirement already satisfied: exceptiongroup in c:\\users\\91935\\anaconda3\\lib\\site-packages (from trio~=0.17->selenium) (1.2.0)\n",
      "Requirement already satisfied: attrs>=20.1.0 in c:\\users\\91935\\anaconda3\\lib\\site-packages (from trio~=0.17->selenium) (22.1.0)\n",
      "Requirement already satisfied: outcome in c:\\users\\91935\\anaconda3\\lib\\site-packages (from trio~=0.17->selenium) (1.3.0.post0)\n",
      "Requirement already satisfied: idna in c:\\users\\91935\\anaconda3\\lib\\site-packages (from trio~=0.17->selenium) (3.4)\n",
      "Requirement already satisfied: sortedcontainers in c:\\users\\91935\\anaconda3\\lib\\site-packages (from trio~=0.17->selenium) (2.4.0)\n",
      "Requirement already satisfied: wsproto>=0.14 in c:\\users\\91935\\anaconda3\\lib\\site-packages (from trio-websocket~=0.9->selenium) (1.2.0)\n",
      "Requirement already satisfied: PySocks!=1.5.7,<2.0,>=1.5.6 in c:\\users\\91935\\anaconda3\\lib\\site-packages (from urllib3[socks]<3,>=1.26->selenium) (1.7.1)\n",
      "Requirement already satisfied: pycparser in c:\\users\\91935\\anaconda3\\lib\\site-packages (from cffi>=1.14->trio~=0.17->selenium) (2.21)\n",
      "Requirement already satisfied: h11<1,>=0.9.0 in c:\\users\\91935\\anaconda3\\lib\\site-packages (from wsproto>=0.14->trio-websocket~=0.9->selenium) (0.14.0)\n"
     ]
    }
   ],
   "source": [
    "!pip install selenium"
   ]
  },
  {
   "cell_type": "code",
   "execution_count": 2,
   "id": "8e89422e",
   "metadata": {},
   "outputs": [],
   "source": [
    "import selenium\n",
    "import pandas as pd\n",
    "from selenium import webdriver\n",
    "import warnings\n",
    "warnings.filterwarnings('ignore')\n",
    "from selenium.webdriver.common.by import By\n",
    "import time"
   ]
  },
  {
   "cell_type": "code",
   "execution_count": 3,
   "id": "f79ca426",
   "metadata": {},
   "outputs": [],
   "source": [
    "driver=webdriver.Chrome()"
   ]
  },
  {
   "cell_type": "code",
   "execution_count": 4,
   "id": "e695b11d",
   "metadata": {},
   "outputs": [],
   "source": [
    "#Go to Flipkart webpage by url :https://www.flipkart.com:-\n",
    "\n",
    "driver.get(\"https://www.flipkart.com/\")"
   ]
  },
  {
   "cell_type": "code",
   "execution_count": 5,
   "id": "8841c88e",
   "metadata": {},
   "outputs": [],
   "source": [
    "#Enter “sunglasses” in the search fieldwhere “search for products, brands and more” is written:-\n",
    "\n",
    "designation=driver.find_element(By.CLASS_NAME,\"Pke_EE\")\n",
    "designation.send_keys('sunglasses')"
   ]
  },
  {
   "cell_type": "code",
   "execution_count": 6,
   "id": "2384d9d1",
   "metadata": {},
   "outputs": [],
   "source": [
    "#click the search icon:-\n",
    "\n",
    "search=driver.find_element(By.CLASS_NAME,\"_2iLD__\")\n",
    "search.click()"
   ]
  },
  {
   "cell_type": "code",
   "execution_count": 7,
   "id": "dfcb33db",
   "metadata": {},
   "outputs": [],
   "source": [
    "#From this page you can scrap the required data as usual.\n",
    "\n",
    "Brand=[]\n",
    "Product_description=[]\n",
    "Price=[]\n",
    "Off=[]"
   ]
  },
  {
   "cell_type": "code",
   "execution_count": 8,
   "id": "cc392a74",
   "metadata": {},
   "outputs": [],
   "source": [
    "#After scraping data from the first page, go to the “Next” Button at the bottom other page:-\n",
    "\n",
    "start=0\n",
    "end=3"
   ]
  },
  {
   "cell_type": "code",
   "execution_count": 9,
   "id": "4512555b",
   "metadata": {},
   "outputs": [],
   "source": [
    "#Now scrape data from this page as usual:-\n",
    "\n",
    "for page in range(start,end):\n",
    "    brand_tags=driver.find_elements(By.XPATH,'//div[@class=\"_2WkVRV\"]')\n",
    "    for i in brand_tags:\n",
    "        brand=i.text\n",
    "        Brand.append(brand)\n",
    "    next_button=driver.find_elements(By.XPATH,'/html/body/div/div/div[3]/div[1]/div[2]/div[12]/div/div/nav/a[11]')\n"
   ]
  },
  {
   "cell_type": "code",
   "execution_count": 10,
   "id": "f57e7cd0",
   "metadata": {},
   "outputs": [],
   "source": [
    "#Repeat this until you get data for 100sunglasses:-\n",
    "\n",
    "for page in range(start,end):\n",
    "    description_tags=driver.find_elements(By.XPATH,'//div[@class=\"_2B099V\"]/a[1]')\n",
    "    for i in description_tags:\n",
    "        description=i.text\n",
    "        Product_description.append(description)\n",
    "    next_button=driver.find_elements(By.XPATH,'/html/body/div/div/div[3]/div[1]/div[2]/div[12]/div/div/nav/a[11]')\n",
    "    "
   ]
  },
  {
   "cell_type": "code",
   "execution_count": 11,
   "id": "a8f8e46f",
   "metadata": {},
   "outputs": [],
   "source": [
    "for page in range(start,end):\n",
    "    price_tags=driver.find_elements(By.XPATH,'//div[@class=\"_30jeq3\"]')\n",
    "    for i in price_tags:\n",
    "        price=i.text\n",
    "        Price.append(price)\n",
    "    next_button=driver.find_elements(By.XPATH,'/html/body/div/div/div[3]/div[1]/div[2]/div[12]/div/div/nav/a[11]')"
   ]
  },
  {
   "cell_type": "code",
   "execution_count": 12,
   "id": "948db92f",
   "metadata": {},
   "outputs": [],
   "source": [
    "for page in range(start,end):\n",
    "    off_tags=driver.find_elements(By.XPATH,'//div[@class=\"_3Ay6Sb\"]')\n",
    "    for i in off_tags:\n",
    "        off=i.text\n",
    "        Off.append(off)\n",
    "    next_button=driver.find_elements(By.XPATH,'/html/body/div/div/div[3]/div[1]/div[2]/div[12]/div/div/nav/a[11]')"
   ]
  },
  {
   "cell_type": "code",
   "execution_count": 13,
   "id": "6deda816",
   "metadata": {},
   "outputs": [
    {
     "name": "stdout",
     "output_type": "stream",
     "text": [
      "120 120 120 120\n"
     ]
    }
   ],
   "source": [
    "print(len(Brand),len(Product_description),len(Price),len(Off))"
   ]
  },
  {
   "cell_type": "code",
   "execution_count": 19,
   "id": "51510af8",
   "metadata": {},
   "outputs": [],
   "source": [
    "import pandas as pd\n"
   ]
  },
  {
   "cell_type": "code",
   "execution_count": 14,
   "id": "da5a2650",
   "metadata": {},
   "outputs": [
    {
     "data": {
      "text/html": [
       "<div>\n",
       "<style scoped>\n",
       "    .dataframe tbody tr th:only-of-type {\n",
       "        vertical-align: middle;\n",
       "    }\n",
       "\n",
       "    .dataframe tbody tr th {\n",
       "        vertical-align: top;\n",
       "    }\n",
       "\n",
       "    .dataframe thead th {\n",
       "        text-align: right;\n",
       "    }\n",
       "</style>\n",
       "<table border=\"1\" class=\"dataframe\">\n",
       "  <thead>\n",
       "    <tr style=\"text-align: right;\">\n",
       "      <th></th>\n",
       "      <th>Brand_name</th>\n",
       "      <th>Product_Discription</th>\n",
       "      <th>Product_Price</th>\n",
       "      <th>Off_percentage</th>\n",
       "    </tr>\n",
       "  </thead>\n",
       "  <tbody>\n",
       "    <tr>\n",
       "      <th>0</th>\n",
       "      <td>Elligator</td>\n",
       "      <td>Others Wayfarer, Retro Square Sunglasses (50)</td>\n",
       "      <td>₹199</td>\n",
       "      <td>86% off</td>\n",
       "    </tr>\n",
       "    <tr>\n",
       "      <th>1</th>\n",
       "      <td>Eyenaks</td>\n",
       "      <td>UV Protection Rectangular Sunglasses (Free Size)</td>\n",
       "      <td>₹346</td>\n",
       "      <td>76% off</td>\n",
       "    </tr>\n",
       "    <tr>\n",
       "      <th>2</th>\n",
       "      <td>SRPM</td>\n",
       "      <td>UV Protection Wayfarer Sunglasses (50)</td>\n",
       "      <td>₹149</td>\n",
       "      <td>88% off</td>\n",
       "    </tr>\n",
       "    <tr>\n",
       "      <th>3</th>\n",
       "      <td>Elligator</td>\n",
       "      <td>UV Protection Retro Square Sunglasses (54)</td>\n",
       "      <td>₹149</td>\n",
       "      <td>70% off</td>\n",
       "    </tr>\n",
       "    <tr>\n",
       "      <th>4</th>\n",
       "      <td>VINCENT CHASE</td>\n",
       "      <td>by Lenskart UV Protection Wayfarer Sunglasses ...</td>\n",
       "      <td>₹523</td>\n",
       "      <td>73% off</td>\n",
       "    </tr>\n",
       "    <tr>\n",
       "      <th>...</th>\n",
       "      <td>...</td>\n",
       "      <td>...</td>\n",
       "      <td>...</td>\n",
       "      <td>...</td>\n",
       "    </tr>\n",
       "    <tr>\n",
       "      <th>95</th>\n",
       "      <td>Rich Club</td>\n",
       "      <td>UV Protection Retro Square Sunglasses (54)</td>\n",
       "      <td>₹487</td>\n",
       "      <td>62% off</td>\n",
       "    </tr>\n",
       "    <tr>\n",
       "      <th>96</th>\n",
       "      <td>NuVew</td>\n",
       "      <td>UV Protection Sports, Wrap-around Sunglasses (70)</td>\n",
       "      <td>₹445</td>\n",
       "      <td>72% off</td>\n",
       "    </tr>\n",
       "    <tr>\n",
       "      <th>97</th>\n",
       "      <td>ROZZETTA CRAFT</td>\n",
       "      <td>UV Protection, Gradient Rectangular Sunglasses...</td>\n",
       "      <td>₹385</td>\n",
       "      <td>80% off</td>\n",
       "    </tr>\n",
       "    <tr>\n",
       "      <th>98</th>\n",
       "      <td>NOWWAY</td>\n",
       "      <td>UV Protection Rectangular Sunglasses (Free Size)</td>\n",
       "      <td>₹299</td>\n",
       "      <td>57% off</td>\n",
       "    </tr>\n",
       "    <tr>\n",
       "      <th>99</th>\n",
       "      <td>ROADWAY</td>\n",
       "      <td>UV Protection Wayfarer Sunglasses (Free Size)</td>\n",
       "      <td>₹179</td>\n",
       "      <td>82% off</td>\n",
       "    </tr>\n",
       "  </tbody>\n",
       "</table>\n",
       "<p>100 rows × 4 columns</p>\n",
       "</div>"
      ],
      "text/plain": [
       "        Brand_name                                Product_Discription  \\\n",
       "0        Elligator      Others Wayfarer, Retro Square Sunglasses (50)   \n",
       "1          Eyenaks   UV Protection Rectangular Sunglasses (Free Size)   \n",
       "2             SRPM             UV Protection Wayfarer Sunglasses (50)   \n",
       "3        Elligator         UV Protection Retro Square Sunglasses (54)   \n",
       "4    VINCENT CHASE  by Lenskart UV Protection Wayfarer Sunglasses ...   \n",
       "..             ...                                                ...   \n",
       "95       Rich Club         UV Protection Retro Square Sunglasses (54)   \n",
       "96           NuVew  UV Protection Sports, Wrap-around Sunglasses (70)   \n",
       "97  ROZZETTA CRAFT  UV Protection, Gradient Rectangular Sunglasses...   \n",
       "98          NOWWAY   UV Protection Rectangular Sunglasses (Free Size)   \n",
       "99         ROADWAY      UV Protection Wayfarer Sunglasses (Free Size)   \n",
       "\n",
       "   Product_Price Off_percentage  \n",
       "0           ₹199        86% off  \n",
       "1           ₹346        76% off  \n",
       "2           ₹149        88% off  \n",
       "3           ₹149        70% off  \n",
       "4           ₹523        73% off  \n",
       "..           ...            ...  \n",
       "95          ₹487        62% off  \n",
       "96          ₹445        72% off  \n",
       "97          ₹385        80% off  \n",
       "98          ₹299        57% off  \n",
       "99          ₹179        82% off  \n",
       "\n",
       "[100 rows x 4 columns]"
      ]
     },
     "execution_count": 14,
     "metadata": {},
     "output_type": "execute_result"
    }
   ],
   "source": [
    "#make a dataframe:-\n",
    "\n",
    "df=pd.DataFrame({'Brand_name':Brand,'Product_Discription':Product_description,'Product_Price':Price,'Off_percentage':Off})\n",
    "df[0:100]"
   ]
  },
  {
   "cell_type": "code",
   "execution_count": null,
   "id": "1864bd6a",
   "metadata": {},
   "outputs": [],
   "source": []
  },
  {
   "cell_type": "code",
   "execution_count": null,
   "id": "b0ca5149",
   "metadata": {},
   "outputs": [],
   "source": []
  },
  {
   "cell_type": "code",
   "execution_count": null,
   "id": "40119ddd",
   "metadata": {},
   "outputs": [],
   "source": [
    "#Question no 5:- Scrape 100 reviews data from flipkart.com for iphone11 phone. You have to go the link:\n",
    "https://www.flipkart.com/apple-iphone-11-black-64-gb/product\u0002reviews/itm4e5041ba101fd?pid=MOBFWQ6BXGJCEYNY&lid=LSTMOBFWQ6BXGJCEYNYZXSHRJ&market\n",
    "place=FLIPKART"
   ]
  },
  {
   "cell_type": "code",
   "execution_count": 53,
   "id": "15e3675d",
   "metadata": {},
   "outputs": [
    {
     "name": "stdout",
     "output_type": "stream",
     "text": [
      "Requirement already satisfied: selenium in c:\\users\\91935\\anaconda3\\lib\\site-packages (4.16.0)\n",
      "Requirement already satisfied: trio-websocket~=0.9 in c:\\users\\91935\\anaconda3\\lib\\site-packages (from selenium) (0.11.1)\n",
      "Requirement already satisfied: certifi>=2021.10.8 in c:\\users\\91935\\anaconda3\\lib\\site-packages (from selenium) (2022.12.7)\n",
      "Requirement already satisfied: trio~=0.17 in c:\\users\\91935\\anaconda3\\lib\\site-packages (from selenium) (0.24.0)\n",
      "Requirement already satisfied: urllib3[socks]<3,>=1.26 in c:\\users\\91935\\anaconda3\\lib\\site-packages (from selenium) (1.26.14)\n",
      "Requirement already satisfied: cffi>=1.14 in c:\\users\\91935\\anaconda3\\lib\\site-packages (from trio~=0.17->selenium) (1.15.1)\n",
      "Requirement already satisfied: attrs>=20.1.0 in c:\\users\\91935\\anaconda3\\lib\\site-packages (from trio~=0.17->selenium) (22.1.0)\n",
      "Requirement already satisfied: idna in c:\\users\\91935\\anaconda3\\lib\\site-packages (from trio~=0.17->selenium) (3.4)\n",
      "Requirement already satisfied: exceptiongroup in c:\\users\\91935\\anaconda3\\lib\\site-packages (from trio~=0.17->selenium) (1.2.0)\n",
      "Requirement already satisfied: sniffio>=1.3.0 in c:\\users\\91935\\anaconda3\\lib\\site-packages (from trio~=0.17->selenium) (1.3.0)\n",
      "Requirement already satisfied: outcome in c:\\users\\91935\\anaconda3\\lib\\site-packages (from trio~=0.17->selenium) (1.3.0.post0)\n",
      "Requirement already satisfied: sortedcontainers in c:\\users\\91935\\anaconda3\\lib\\site-packages (from trio~=0.17->selenium) (2.4.0)\n",
      "Requirement already satisfied: wsproto>=0.14 in c:\\users\\91935\\anaconda3\\lib\\site-packages (from trio-websocket~=0.9->selenium) (1.2.0)\n",
      "Requirement already satisfied: PySocks!=1.5.7,<2.0,>=1.5.6 in c:\\users\\91935\\anaconda3\\lib\\site-packages (from urllib3[socks]<3,>=1.26->selenium) (1.7.1)\n",
      "Requirement already satisfied: pycparser in c:\\users\\91935\\anaconda3\\lib\\site-packages (from cffi>=1.14->trio~=0.17->selenium) (2.21)\n",
      "Requirement already satisfied: h11<1,>=0.9.0 in c:\\users\\91935\\anaconda3\\lib\\site-packages (from wsproto>=0.14->trio-websocket~=0.9->selenium) (0.14.0)\n"
     ]
    }
   ],
   "source": [
    "!pip install selenium"
   ]
  },
  {
   "cell_type": "code",
   "execution_count": 61,
   "id": "cd7d009f",
   "metadata": {},
   "outputs": [],
   "source": [
    "import selenium\n",
    "import pandas as pd\n",
    "from selenium import webdriver\n",
    "import warnings\n",
    "warnings.filterwarnings('ignore')\n",
    "from selenium.webdriver.common.by import By\n",
    "import time"
   ]
  },
  {
   "cell_type": "code",
   "execution_count": 62,
   "id": "9bc87538",
   "metadata": {},
   "outputs": [],
   "source": [
    "driver=webdriver.Chrome()"
   ]
  },
  {
   "cell_type": "code",
   "execution_count": 63,
   "id": "d8581099",
   "metadata": {},
   "outputs": [],
   "source": [
    "#first get the web page :-\n",
    "\n",
    "driver.get('https://www.flipkart.com/')"
   ]
  },
  {
   "cell_type": "code",
   "execution_count": 64,
   "id": "fdfc92d9",
   "metadata": {},
   "outputs": [],
   "source": [
    "#Enter iphone11 in search field:-\n",
    "\n",
    "designation=driver.find_element(By.CLASS_NAME,\"Pke_EE\")\n",
    "designation.send_keys('iphone11')"
   ]
  },
  {
   "cell_type": "code",
   "execution_count": 65,
   "id": "c7fd2c9f",
   "metadata": {},
   "outputs": [],
   "source": [
    "#Then click the search button:-\n",
    "\n",
    "search=driver.find_elements(By.CLASS_NAME,\"_2iLD__\")"
   ]
  },
  {
   "cell_type": "code",
   "execution_count": 89,
   "id": "34fd5cec",
   "metadata": {},
   "outputs": [],
   "source": [
    "#scrape the data for first 100 reviews:-\n",
    "\n",
    "Rating=[]\n",
    "Review_summary=[]\n",
    "Full_review=[]"
   ]
  },
  {
   "cell_type": "code",
   "execution_count": 90,
   "id": "b8e1cbd8",
   "metadata": {},
   "outputs": [],
   "source": [
    "start=0\n",
    "end=17"
   ]
  },
  {
   "cell_type": "code",
   "execution_count": 91,
   "id": "5493912a",
   "metadata": {},
   "outputs": [],
   "source": [
    "for page in range(start,end):\n",
    "    rating_tags=driver.find_elements(By.XPATH, '//div[@class=\"_3LWZlK _1BLPMq\"]')\n",
    "    for i in rating_tags:\n",
    "        Rating.append(i.text)\n",
    "    next_button=driver.find_elements(By.XPATH,'/html/body/div/div/div[3]/div/div/div[2]/div[13]/div/div/nav/a[11]')\n",
    "   \n",
    "    "
   ]
  },
  {
   "cell_type": "code",
   "execution_count": 92,
   "id": "7fcf479e",
   "metadata": {},
   "outputs": [],
   "source": [
    "for page in range(start,end):\n",
    "    review_summary=driver.find_elements(By.XPATH, '//p[@class=\"_2-N8zT\"]')\n",
    "    for i in review_summary:\n",
    "        Review_summary.append(i.text)\n",
    "    next_button=driver.find_elements(By.XPATH, '/html/body/div/div/div[3]/div/div/div[2]/div[13]/div/div/nav/a[11]')"
   ]
  },
  {
   "cell_type": "code",
   "execution_count": 93,
   "id": "ffaf5595",
   "metadata": {},
   "outputs": [],
   "source": [
    "for page in range(start,end):\n",
    "    full_review=driver.find_elements(By.XPATH, '//div[@class=\"t-ZTKy\"]')\n",
    "    for i in full_review:\n",
    "        Full_review.append(i.text)\n",
    "    next_button=driver.find_elements(By.XPATH, '/html/body/div/div/div[3]/div/div/div[2]/div[13]/div/div/nav/a[11]')\n"
   ]
  },
  {
   "cell_type": "code",
   "execution_count": 94,
   "id": "cb38cb72",
   "metadata": {},
   "outputs": [
    {
     "name": "stdout",
     "output_type": "stream",
     "text": [
      "102 102 102\n"
     ]
    }
   ],
   "source": [
    "print(len(Rating),len(Review_summary),len(Full_review))"
   ]
  },
  {
   "cell_type": "code",
   "execution_count": 95,
   "id": "a01dcfe7",
   "metadata": {},
   "outputs": [
    {
     "data": {
      "text/html": [
       "<div>\n",
       "<style scoped>\n",
       "    .dataframe tbody tr th:only-of-type {\n",
       "        vertical-align: middle;\n",
       "    }\n",
       "\n",
       "    .dataframe tbody tr th {\n",
       "        vertical-align: top;\n",
       "    }\n",
       "\n",
       "    .dataframe thead th {\n",
       "        text-align: right;\n",
       "    }\n",
       "</style>\n",
       "<table border=\"1\" class=\"dataframe\">\n",
       "  <thead>\n",
       "    <tr style=\"text-align: right;\">\n",
       "      <th></th>\n",
       "      <th>rating</th>\n",
       "      <th>review_summary</th>\n",
       "      <th>full_review</th>\n",
       "    </tr>\n",
       "  </thead>\n",
       "  <tbody>\n",
       "    <tr>\n",
       "      <th>0</th>\n",
       "      <td>5</td>\n",
       "      <td>Worth every penny</td>\n",
       "      <td>Feeling awesome after getting the delivery of ...</td>\n",
       "    </tr>\n",
       "    <tr>\n",
       "      <th>1</th>\n",
       "      <td>4</td>\n",
       "      <td>Wonderful</td>\n",
       "      <td>Great choice if you looking for everyday use</td>\n",
       "    </tr>\n",
       "    <tr>\n",
       "      <th>2</th>\n",
       "      <td>5</td>\n",
       "      <td>Highly recommended</td>\n",
       "      <td>Battery - more or less 2 days\\nCamera - can no...</td>\n",
       "    </tr>\n",
       "    <tr>\n",
       "      <th>3</th>\n",
       "      <td>5</td>\n",
       "      <td>Perfect product!</td>\n",
       "      <td>Nice products thanks flkat</td>\n",
       "    </tr>\n",
       "    <tr>\n",
       "      <th>4</th>\n",
       "      <td>5</td>\n",
       "      <td>Wonderful</td>\n",
       "      <td>I bought during the big billion sale. It’s wor...</td>\n",
       "    </tr>\n",
       "    <tr>\n",
       "      <th>...</th>\n",
       "      <td>...</td>\n",
       "      <td>...</td>\n",
       "      <td>...</td>\n",
       "    </tr>\n",
       "    <tr>\n",
       "      <th>95</th>\n",
       "      <td>5</td>\n",
       "      <td>Great product</td>\n",
       "      <td>Awesome product ❤️❤️\\nThank you Flipkart</td>\n",
       "    </tr>\n",
       "    <tr>\n",
       "      <th>96</th>\n",
       "      <td>5</td>\n",
       "      <td>Worth every penny</td>\n",
       "      <td>Feeling awesome after getting the delivery of ...</td>\n",
       "    </tr>\n",
       "    <tr>\n",
       "      <th>97</th>\n",
       "      <td>4</td>\n",
       "      <td>Wonderful</td>\n",
       "      <td>Great choice if you looking for everyday use</td>\n",
       "    </tr>\n",
       "    <tr>\n",
       "      <th>98</th>\n",
       "      <td>5</td>\n",
       "      <td>Highly recommended</td>\n",
       "      <td>Battery - more or less 2 days\\nCamera - can no...</td>\n",
       "    </tr>\n",
       "    <tr>\n",
       "      <th>99</th>\n",
       "      <td>5</td>\n",
       "      <td>Perfect product!</td>\n",
       "      <td>Nice products thanks flkat</td>\n",
       "    </tr>\n",
       "  </tbody>\n",
       "</table>\n",
       "<p>100 rows × 3 columns</p>\n",
       "</div>"
      ],
      "text/plain": [
       "   rating      review_summary  \\\n",
       "0       5   Worth every penny   \n",
       "1       4           Wonderful   \n",
       "2       5  Highly recommended   \n",
       "3       5    Perfect product!   \n",
       "4       5           Wonderful   \n",
       "..    ...                 ...   \n",
       "95      5       Great product   \n",
       "96      5   Worth every penny   \n",
       "97      4           Wonderful   \n",
       "98      5  Highly recommended   \n",
       "99      5    Perfect product!   \n",
       "\n",
       "                                          full_review  \n",
       "0   Feeling awesome after getting the delivery of ...  \n",
       "1        Great choice if you looking for everyday use  \n",
       "2   Battery - more or less 2 days\\nCamera - can no...  \n",
       "3                          Nice products thanks flkat  \n",
       "4   I bought during the big billion sale. It’s wor...  \n",
       "..                                                ...  \n",
       "95           Awesome product ❤️❤️\\nThank you Flipkart  \n",
       "96  Feeling awesome after getting the delivery of ...  \n",
       "97       Great choice if you looking for everyday use  \n",
       "98  Battery - more or less 2 days\\nCamera - can no...  \n",
       "99                         Nice products thanks flkat  \n",
       "\n",
       "[100 rows x 3 columns]"
      ]
     },
     "execution_count": 95,
     "metadata": {},
     "output_type": "execute_result"
    }
   ],
   "source": [
    "#Finally create a dataframe of the scrapeddata:-\n",
    "\n",
    "df=pd.DataFrame({'rating':Rating[0:100],'review_summary':Review_summary[0:100],'full_review':Full_review[0:100]})\n",
    "df"
   ]
  },
  {
   "cell_type": "code",
   "execution_count": null,
   "id": "e2b98377",
   "metadata": {},
   "outputs": [],
   "source": []
  },
  {
   "cell_type": "code",
   "execution_count": null,
   "id": "ff763c63",
   "metadata": {},
   "outputs": [],
   "source": []
  },
  {
   "cell_type": "code",
   "execution_count": null,
   "id": "1d82efcc",
   "metadata": {},
   "outputs": [],
   "source": [
    "# Question no. 6:- Scrape data forfirst 100 sneakers you find whenyou visit flipkart.com and search for “sneakers” inthe\n",
    "search field.\n",
    "You have to scrape 3 attributes of each sneaker:\n",
    "1. Brand\n",
    "2. ProductDescription\n",
    "3. Price"
   ]
  },
  {
   "cell_type": "code",
   "execution_count": 105,
   "id": "3aaf270b",
   "metadata": {},
   "outputs": [],
   "source": [
    "import selenium\n",
    "import pandas as pd\n",
    "from selenium import webdriver\n",
    "import warnings\n",
    "warnings.filterwarnings('ignore')\n",
    "from selenium.webdriver.common.by import By\n",
    "import time"
   ]
  },
  {
   "cell_type": "code",
   "execution_count": 106,
   "id": "c6362c74",
   "metadata": {},
   "outputs": [],
   "source": [
    "driver=webdriver.Chrome()"
   ]
  },
  {
   "cell_type": "code",
   "execution_count": 107,
   "id": "fab266d3",
   "metadata": {},
   "outputs": [],
   "source": [
    "#first get the web page:-\n",
    "\n",
    "driver.get('https://www.flipkart.com/')"
   ]
  },
  {
   "cell_type": "code",
   "execution_count": 108,
   "id": "21b78ee8",
   "metadata": {},
   "outputs": [],
   "source": [
    "#Enter sneakers in the search field:-\n",
    "\n",
    "designation=driver.find_element(By.CLASS_NAME, \"Pke_EE\")\n",
    "designation.send_keys('sneakers')"
   ]
  },
  {
   "cell_type": "code",
   "execution_count": 109,
   "id": "5b93e24a",
   "metadata": {},
   "outputs": [],
   "source": [
    "#Then click the search button:-\n",
    "\n",
    "search=driver.find_element(By.CLASS_NAME, \"_2iLD__\")\n",
    "search.click()"
   ]
  },
  {
   "cell_type": "code",
   "execution_count": 116,
   "id": "c732fa02",
   "metadata": {},
   "outputs": [],
   "source": [
    "#scrape the data for first 100 sneakers:-\n",
    "\n",
    "Brand=[]\n",
    "Product_description=[]\n",
    "Price=[]"
   ]
  },
  {
   "cell_type": "code",
   "execution_count": 117,
   "id": "8ef11564",
   "metadata": {},
   "outputs": [],
   "source": [
    "start=0\n",
    "end=4"
   ]
  },
  {
   "cell_type": "code",
   "execution_count": 118,
   "id": "5b364a4c",
   "metadata": {},
   "outputs": [],
   "source": [
    "for page in range(start,end):\n",
    "    brand_tags=driver.find_elements(By.XPATH, '//div[@class=\"_2WkVRV\"]')\n",
    "    for i in brand_tags:\n",
    "        Brand.append(i.text)\n",
    "    next_button=driver.find_elements(By.XPATH, '/html/body/div/div/div[3]/div[1]/div[2]/div[12]/div/div/nav/a[11]')\n",
    "    "
   ]
  },
  {
   "cell_type": "code",
   "execution_count": 119,
   "id": "41d377e8",
   "metadata": {},
   "outputs": [],
   "source": [
    "for page in range(start,end):\n",
    "    product_description=driver.find_elements(By.XPATH, '//a[@class=\"IRpwTa\"]')\n",
    "    for i in product_description:\n",
    "        Product_description.append(i.text)\n",
    "    next_button=driver.find_elements(By.XPATH, '/html/body/div/div/div[3]/div[1]/div[2]/div[12]/div/div/nav/a[11]')\n",
    "    "
   ]
  },
  {
   "cell_type": "code",
   "execution_count": 120,
   "id": "29e30c09",
   "metadata": {},
   "outputs": [],
   "source": [
    "for page in range(start,end):\n",
    "    price_tags=driver.find_elements(By.XPATH, '//div[@class=\"_30jeq3\"]')\n",
    "    for i in price_tags:\n",
    "        Price.append(i.text)\n",
    "    next_button=driver.find_elements(By.XPATH, '/html/body/div/div/div[3]/div[1]/div[2]/div[12]/div/div/nav/a[11]')\n",
    "    "
   ]
  },
  {
   "cell_type": "code",
   "execution_count": 122,
   "id": "e4a89e92",
   "metadata": {},
   "outputs": [],
   "source": [
    "import pandas as pd"
   ]
  },
  {
   "cell_type": "code",
   "execution_count": 124,
   "id": "fe570ba3",
   "metadata": {},
   "outputs": [
    {
     "data": {
      "text/html": [
       "<div>\n",
       "<style scoped>\n",
       "    .dataframe tbody tr th:only-of-type {\n",
       "        vertical-align: middle;\n",
       "    }\n",
       "\n",
       "    .dataframe tbody tr th {\n",
       "        vertical-align: top;\n",
       "    }\n",
       "\n",
       "    .dataframe thead th {\n",
       "        text-align: right;\n",
       "    }\n",
       "</style>\n",
       "<table border=\"1\" class=\"dataframe\">\n",
       "  <thead>\n",
       "    <tr style=\"text-align: right;\">\n",
       "      <th></th>\n",
       "      <th>Product_Brand</th>\n",
       "      <th>Product_Description</th>\n",
       "      <th>Product_Price</th>\n",
       "    </tr>\n",
       "  </thead>\n",
       "  <tbody>\n",
       "    <tr>\n",
       "      <th>0</th>\n",
       "      <td>URBANBOX</td>\n",
       "      <td>Trending Stylish Casual Outdoor Sneakers Shoes...</td>\n",
       "      <td>₹299</td>\n",
       "    </tr>\n",
       "    <tr>\n",
       "      <th>1</th>\n",
       "      <td>aadi</td>\n",
       "      <td>Trending Stylish Casual Outdoor Sneakers Shoes...</td>\n",
       "      <td>₹299</td>\n",
       "    </tr>\n",
       "    <tr>\n",
       "      <th>2</th>\n",
       "      <td>URBANBOX</td>\n",
       "      <td>Modern Trendy Shoes Sneakers For Men</td>\n",
       "      <td>₹299</td>\n",
       "    </tr>\n",
       "    <tr>\n",
       "      <th>3</th>\n",
       "      <td>BRUTON</td>\n",
       "      <td>Sneakers For Women</td>\n",
       "      <td>₹299</td>\n",
       "    </tr>\n",
       "    <tr>\n",
       "      <th>4</th>\n",
       "      <td>Deals4you</td>\n",
       "      <td>Aadi Men Black &amp; Green Casual Sneaker Sneakers...</td>\n",
       "      <td>₹399</td>\n",
       "    </tr>\n",
       "    <tr>\n",
       "      <th>...</th>\n",
       "      <td>...</td>\n",
       "      <td>...</td>\n",
       "      <td>...</td>\n",
       "    </tr>\n",
       "    <tr>\n",
       "      <th>95</th>\n",
       "      <td>asian</td>\n",
       "      <td>Fashionable Canvas Casual Partywear Outdoor Sn...</td>\n",
       "      <td>₹1,039</td>\n",
       "    </tr>\n",
       "    <tr>\n",
       "      <th>96</th>\n",
       "      <td>kardam&amp;sons</td>\n",
       "      <td>Casual Sneakers Colour Blocked Shoes For Boys ...</td>\n",
       "      <td>₹341</td>\n",
       "    </tr>\n",
       "    <tr>\n",
       "      <th>97</th>\n",
       "      <td>kardam&amp;sons</td>\n",
       "      <td>Lightweight,Comfort,Summer,Trendy,Walking,Outd...</td>\n",
       "      <td>₹419</td>\n",
       "    </tr>\n",
       "    <tr>\n",
       "      <th>98</th>\n",
       "      <td>RED TAPE</td>\n",
       "      <td>Smashic Sneakers For Men</td>\n",
       "      <td>₹1,619</td>\n",
       "    </tr>\n",
       "    <tr>\n",
       "      <th>99</th>\n",
       "      <td>streetLOOK</td>\n",
       "      <td>Carnival-02 Mens High Top Casual Chunky Fashio...</td>\n",
       "      <td>₹494</td>\n",
       "    </tr>\n",
       "  </tbody>\n",
       "</table>\n",
       "<p>100 rows × 3 columns</p>\n",
       "</div>"
      ],
      "text/plain": [
       "   Product_Brand                                Product_Description  \\\n",
       "0       URBANBOX  Trending Stylish Casual Outdoor Sneakers Shoes...   \n",
       "1           aadi  Trending Stylish Casual Outdoor Sneakers Shoes...   \n",
       "2       URBANBOX               Modern Trendy Shoes Sneakers For Men   \n",
       "3         BRUTON                                 Sneakers For Women   \n",
       "4      Deals4you  Aadi Men Black & Green Casual Sneaker Sneakers...   \n",
       "..           ...                                                ...   \n",
       "95         asian  Fashionable Canvas Casual Partywear Outdoor Sn...   \n",
       "96   kardam&sons  Casual Sneakers Colour Blocked Shoes For Boys ...   \n",
       "97   kardam&sons  Lightweight,Comfort,Summer,Trendy,Walking,Outd...   \n",
       "98      RED TAPE                           Smashic Sneakers For Men   \n",
       "99    streetLOOK  Carnival-02 Mens High Top Casual Chunky Fashio...   \n",
       "\n",
       "   Product_Price  \n",
       "0           ₹299  \n",
       "1           ₹299  \n",
       "2           ₹299  \n",
       "3           ₹299  \n",
       "4           ₹399  \n",
       "..           ...  \n",
       "95        ₹1,039  \n",
       "96          ₹341  \n",
       "97          ₹419  \n",
       "98        ₹1,619  \n",
       "99          ₹494  \n",
       "\n",
       "[100 rows x 3 columns]"
      ]
     },
     "execution_count": 124,
     "metadata": {},
     "output_type": "execute_result"
    }
   ],
   "source": [
    "# Finally create a dataframe of the scrapeddata:-\n",
    "\n",
    "df=pd.DataFrame({'Product_Brand':Brand[0:100],'Product_Description':Product_description[0:100],'Product_Price':Price[0:100]})\n",
    "df[0:100]"
   ]
  },
  {
   "cell_type": "code",
   "execution_count": null,
   "id": "60b1ac4a",
   "metadata": {},
   "outputs": [],
   "source": []
  },
  {
   "cell_type": "code",
   "execution_count": null,
   "id": "2f321261",
   "metadata": {},
   "outputs": [],
   "source": []
  },
  {
   "cell_type": "code",
   "execution_count": null,
   "id": "2f3b88f3",
   "metadata": {},
   "outputs": [],
   "source": [
    "#Question no. 7:- Go to webpage https://www.amazon.in/ Enter “Laptop” in the search field and then click the search icon. Then\n",
    "set CPU Type filter to “Intel Core i7” as shown in the below image:\n",
    "After setting the filters scrape first 10 laptops data. You have to scrape 3 attributes for each laptop:\n",
    "1. Title\n",
    "2. Ratings\n",
    "3. Price"
   ]
  },
  {
   "cell_type": "code",
   "execution_count": 1,
   "id": "992443dc",
   "metadata": {},
   "outputs": [
    {
     "name": "stdout",
     "output_type": "stream",
     "text": [
      "Requirement already satisfied: selenium in c:\\users\\91935\\anaconda3\\lib\\site-packages (4.16.0)\n",
      "Requirement already satisfied: trio~=0.17 in c:\\users\\91935\\anaconda3\\lib\\site-packages (from selenium) (0.24.0)\n",
      "Requirement already satisfied: urllib3[socks]<3,>=1.26 in c:\\users\\91935\\anaconda3\\lib\\site-packages (from selenium) (1.26.14)\n",
      "Requirement already satisfied: certifi>=2021.10.8 in c:\\users\\91935\\anaconda3\\lib\\site-packages (from selenium) (2022.12.7)\n",
      "Requirement already satisfied: trio-websocket~=0.9 in c:\\users\\91935\\anaconda3\\lib\\site-packages (from selenium) (0.11.1)\n",
      "Requirement already satisfied: cffi>=1.14 in c:\\users\\91935\\anaconda3\\lib\\site-packages (from trio~=0.17->selenium) (1.15.1)\n",
      "Requirement already satisfied: outcome in c:\\users\\91935\\anaconda3\\lib\\site-packages (from trio~=0.17->selenium) (1.3.0.post0)\n",
      "Requirement already satisfied: sniffio>=1.3.0 in c:\\users\\91935\\anaconda3\\lib\\site-packages (from trio~=0.17->selenium) (1.3.0)\n",
      "Requirement already satisfied: exceptiongroup in c:\\users\\91935\\anaconda3\\lib\\site-packages (from trio~=0.17->selenium) (1.2.0)\n",
      "Requirement already satisfied: attrs>=20.1.0 in c:\\users\\91935\\anaconda3\\lib\\site-packages (from trio~=0.17->selenium) (22.1.0)\n",
      "Requirement already satisfied: idna in c:\\users\\91935\\anaconda3\\lib\\site-packages (from trio~=0.17->selenium) (3.4)\n",
      "Requirement already satisfied: sortedcontainers in c:\\users\\91935\\anaconda3\\lib\\site-packages (from trio~=0.17->selenium) (2.4.0)\n",
      "Requirement already satisfied: wsproto>=0.14 in c:\\users\\91935\\anaconda3\\lib\\site-packages (from trio-websocket~=0.9->selenium) (1.2.0)\n",
      "Requirement already satisfied: PySocks!=1.5.7,<2.0,>=1.5.6 in c:\\users\\91935\\anaconda3\\lib\\site-packages (from urllib3[socks]<3,>=1.26->selenium) (1.7.1)\n",
      "Requirement already satisfied: pycparser in c:\\users\\91935\\anaconda3\\lib\\site-packages (from cffi>=1.14->trio~=0.17->selenium) (2.21)\n",
      "Requirement already satisfied: h11<1,>=0.9.0 in c:\\users\\91935\\anaconda3\\lib\\site-packages (from wsproto>=0.14->trio-websocket~=0.9->selenium) (0.14.0)\n"
     ]
    }
   ],
   "source": [
    "!pip install selenium"
   ]
  },
  {
   "cell_type": "code",
   "execution_count": 6,
   "id": "17bcc411",
   "metadata": {},
   "outputs": [],
   "source": [
    "import selenium\n",
    "import pandas as pd\n",
    "from selenium import webdriver\n",
    "import warnings\n",
    "warnings.filterwarnings('ignore')\n",
    "from selenium.webdriver.common.by import By\n",
    "import time\n",
    "from selenium.common.exceptions import NoSuchElementException"
   ]
  },
  {
   "cell_type": "code",
   "execution_count": 7,
   "id": "0714571c",
   "metadata": {},
   "outputs": [],
   "source": [
    "driver=webdriver.Chrome()"
   ]
  },
  {
   "cell_type": "code",
   "execution_count": 8,
   "id": "d9d667cf",
   "metadata": {},
   "outputs": [],
   "source": [
    "#first get the web page:-\n",
    "\n",
    "driver.get(\"https://www.amazon.in/\")"
   ]
  },
  {
   "cell_type": "code",
   "execution_count": 9,
   "id": "aa6e8221",
   "metadata": {},
   "outputs": [],
   "source": [
    "#Enter Laptop in the search field:-\n",
    "\n",
    "designation=driver.find_element(By.XPATH,'/html/body/div[1]/header/div/div[1]/div[2]/div/form/div[2]/div[1]/input')\n",
    "designation.send_keys('Laptop')"
   ]
  },
  {
   "cell_type": "code",
   "execution_count": 10,
   "id": "6e2b6a69",
   "metadata": {},
   "outputs": [],
   "source": [
    "#Then click the search button:-\n",
    "\n",
    "search=driver.find_elements(By.XPATH, '/html/body/div[1]/header/div/div[1]/div[2]/div/form/div[3]/div/span/input')"
   ]
  },
  {
   "cell_type": "code",
   "execution_count": 50,
   "id": "47b91a60",
   "metadata": {},
   "outputs": [],
   "source": [
    "#scrape the data for first 10 laptops:-\n",
    "\n",
    "title=[]\n",
    "ratings=[]\n",
    "price=[]"
   ]
  },
  {
   "cell_type": "code",
   "execution_count": 51,
   "id": "2577de62",
   "metadata": {},
   "outputs": [],
   "source": [
    "title_tags=driver.find_elements(By.XPATH, '//span[@class=\"a-size-medium a-color-base a-text-normal\"]')\n",
    "for i in title_tags:\n",
    "    tit=i.text\n",
    "    title.append(tit)"
   ]
  },
  {
   "cell_type": "code",
   "execution_count": 52,
   "id": "8e86bba5",
   "metadata": {},
   "outputs": [],
   "source": [
    "rating_tags=driver.find_elements(By.XPATH, '//i[@class=\"a-icon a-icon-star-small a-star-small-4 aok-align-bottom\"]')\n",
    "for i in rating_tags:\n",
    "    rat=i.text\n",
    "    ratings.append(rat)"
   ]
  },
  {
   "cell_type": "code",
   "execution_count": 53,
   "id": "8a44f7a3",
   "metadata": {},
   "outputs": [],
   "source": [
    "price_tags=driver.find_elements(By.XPATH, '//span[@class=\"a-price-whole\"]')\n",
    "for i in price_tags:\n",
    "    pri=i.text\n",
    "    price.append(pri)"
   ]
  },
  {
   "cell_type": "code",
   "execution_count": 54,
   "id": "618b1fd4",
   "metadata": {},
   "outputs": [],
   "source": [
    "import pandas as pd"
   ]
  },
  {
   "cell_type": "code",
   "execution_count": 55,
   "id": "b60bef17",
   "metadata": {},
   "outputs": [
    {
     "data": {
      "text/html": [
       "<div>\n",
       "<style scoped>\n",
       "    .dataframe tbody tr th:only-of-type {\n",
       "        vertical-align: middle;\n",
       "    }\n",
       "\n",
       "    .dataframe tbody tr th {\n",
       "        vertical-align: top;\n",
       "    }\n",
       "\n",
       "    .dataframe thead th {\n",
       "        text-align: right;\n",
       "    }\n",
       "</style>\n",
       "<table border=\"1\" class=\"dataframe\">\n",
       "  <thead>\n",
       "    <tr style=\"text-align: right;\">\n",
       "      <th></th>\n",
       "      <th>Title</th>\n",
       "      <th>Ratings</th>\n",
       "      <th>Price</th>\n",
       "    </tr>\n",
       "  </thead>\n",
       "  <tbody>\n",
       "    <tr>\n",
       "      <th>0</th>\n",
       "      <td>MSI Modern 14, Intel 12th Gen. i7-1255U, 36CM ...</td>\n",
       "      <td></td>\n",
       "      <td>54,990</td>\n",
       "    </tr>\n",
       "    <tr>\n",
       "      <th>1</th>\n",
       "      <td>Microsoft Surface Book 3 10th Gen Intel Core i...</td>\n",
       "      <td></td>\n",
       "      <td>1,89,990</td>\n",
       "    </tr>\n",
       "    <tr>\n",
       "      <th>2</th>\n",
       "      <td>ASUS TUF Gaming F15, 15.6\"(39.62 cms) FHD 144H...</td>\n",
       "      <td></td>\n",
       "      <td>77,990</td>\n",
       "    </tr>\n",
       "    <tr>\n",
       "      <th>3</th>\n",
       "      <td>Acer Predator Helios 300 11th Gen Intel Core i...</td>\n",
       "      <td></td>\n",
       "      <td>1,41,990</td>\n",
       "    </tr>\n",
       "    <tr>\n",
       "      <th>4</th>\n",
       "      <td>Acer Travelmate Business Laptop Intel Core i7-...</td>\n",
       "      <td></td>\n",
       "      <td>54,990</td>\n",
       "    </tr>\n",
       "    <tr>\n",
       "      <th>5</th>\n",
       "      <td>ASUS Vivobook 15, Intel Core i7-12650H 12th Ge...</td>\n",
       "      <td></td>\n",
       "      <td>64,990</td>\n",
       "    </tr>\n",
       "    <tr>\n",
       "      <th>6</th>\n",
       "      <td>HP Pavilion 14 11th Gen Intel Core i7 16GB/1TB...</td>\n",
       "      <td></td>\n",
       "      <td>84,899</td>\n",
       "    </tr>\n",
       "    <tr>\n",
       "      <th>7</th>\n",
       "      <td>HP Laptop 15s, 12th Gen Intel Core i7-1255U, 1...</td>\n",
       "      <td></td>\n",
       "      <td>67,490</td>\n",
       "    </tr>\n",
       "    <tr>\n",
       "      <th>8</th>\n",
       "      <td>Dell Alienware m15 R7 Gaming Laptop, Intel Cor...</td>\n",
       "      <td></td>\n",
       "      <td>1,29,990</td>\n",
       "    </tr>\n",
       "    <tr>\n",
       "      <th>9</th>\n",
       "      <td>MSI CreatorPro M16, Intel 13th Gen. i7-13700H,...</td>\n",
       "      <td></td>\n",
       "      <td>1,84,990</td>\n",
       "    </tr>\n",
       "  </tbody>\n",
       "</table>\n",
       "</div>"
      ],
      "text/plain": [
       "                                               Title Ratings     Price\n",
       "0  MSI Modern 14, Intel 12th Gen. i7-1255U, 36CM ...            54,990\n",
       "1  Microsoft Surface Book 3 10th Gen Intel Core i...          1,89,990\n",
       "2  ASUS TUF Gaming F15, 15.6\"(39.62 cms) FHD 144H...            77,990\n",
       "3  Acer Predator Helios 300 11th Gen Intel Core i...          1,41,990\n",
       "4  Acer Travelmate Business Laptop Intel Core i7-...            54,990\n",
       "5  ASUS Vivobook 15, Intel Core i7-12650H 12th Ge...            64,990\n",
       "6  HP Pavilion 14 11th Gen Intel Core i7 16GB/1TB...            84,899\n",
       "7  HP Laptop 15s, 12th Gen Intel Core i7-1255U, 1...            67,490\n",
       "8  Dell Alienware m15 R7 Gaming Laptop, Intel Cor...          1,29,990\n",
       "9  MSI CreatorPro M16, Intel 13th Gen. i7-13700H,...          1,84,990"
      ]
     },
     "execution_count": 55,
     "metadata": {},
     "output_type": "execute_result"
    }
   ],
   "source": [
    "#Finally create a dataframe of the scrapeddata:-\n",
    "\n",
    "df=pd.DataFrame({'Title':title[0:10],'Ratings':ratings[0:10],'Price':price[0:10]})\n",
    "df"
   ]
  },
  {
   "cell_type": "code",
   "execution_count": null,
   "id": "b44960a1",
   "metadata": {},
   "outputs": [],
   "source": []
  },
  {
   "cell_type": "code",
   "execution_count": null,
   "id": "f8ae1748",
   "metadata": {},
   "outputs": [],
   "source": []
  },
  {
   "cell_type": "code",
   "execution_count": null,
   "id": "59144d6d",
   "metadata": {},
   "outputs": [],
   "source": [
    "#Question no. 8:- Write a python program to scrape data for Top 1000 Quotes of All Time.\n",
    "The above task will be done in following steps:\n",
    "1. First get the webpagehttps://www.azquotes.com/\n",
    "2. Click on TopQuotes\n",
    "3. Than scrap a) Quote b) Author c) Type Of Quotes"
   ]
  },
  {
   "cell_type": "code",
   "execution_count": 59,
   "id": "b9ac994e",
   "metadata": {},
   "outputs": [],
   "source": [
    "import selenium\n",
    "import pandas as pd\n",
    "from selenium import webdriver\n",
    "import warnings\n",
    "warnings.filterwarnings('ignore')\n",
    "from selenium.webdriver.common.by import By\n",
    "import time"
   ]
  },
  {
   "cell_type": "code",
   "execution_count": 60,
   "id": "dbbcbcbf",
   "metadata": {},
   "outputs": [],
   "source": [
    "driver=webdriver.Chrome()"
   ]
  },
  {
   "cell_type": "code",
   "execution_count": 61,
   "id": "68e7dbb7",
   "metadata": {},
   "outputs": [],
   "source": [
    "#first get the web page:-\n",
    "\n",
    "driver.get(\"https://www.azquotes.com/\")"
   ]
  },
  {
   "cell_type": "code",
   "execution_count": 62,
   "id": "5fc8a69f",
   "metadata": {},
   "outputs": [],
   "source": [
    "#click on Top Quotes:-\n",
    "\n",
    "search=driver.find_elements(By.XPATH,'/html/body/div[1]/div[1]/div[1]/div/div[3]/ul/li[5]/a')"
   ]
  },
  {
   "cell_type": "code",
   "execution_count": 70,
   "id": "cfd550ea",
   "metadata": {},
   "outputs": [],
   "source": [
    "#scrape the data for Top 1000 Quotes of All Time:-\n",
    "\n",
    "quote=[]\n",
    "author=[]\n",
    "type_of_quotes=[]\n"
   ]
  },
  {
   "cell_type": "code",
   "execution_count": 71,
   "id": "d902b563",
   "metadata": {},
   "outputs": [],
   "source": [
    "#go to next page:-\n",
    "\n",
    "start=0\n",
    "end=10"
   ]
  },
  {
   "cell_type": "code",
   "execution_count": 72,
   "id": "e99884b8",
   "metadata": {},
   "outputs": [],
   "source": [
    "for page in range(start,end):\n",
    "    quote_tags=driver.find_elements(By.XPATH, '//a[@class=\"title\"] ')\n",
    "    for i in quote_tags:\n",
    "        quote.append(i.text)\n",
    "    next_button=driver.find_elements(By.XPATH,'/html/body/div[1]/div[2]/div/div/div/div[1]/div/div[3]/li[12]/a')"
   ]
  },
  {
   "cell_type": "code",
   "execution_count": 73,
   "id": "815cdd06",
   "metadata": {},
   "outputs": [],
   "source": [
    "for page in range(start,end):\n",
    "    author_tags=driver.find_elements(By.XPATH, '//div[@class=\"author\"]')\n",
    "    for i in author_tags:\n",
    "        author.append(i.text)\n",
    "    next_button=driver.find_elements(By.XPATH,'/html/body/div[1]/div[2]/div/div/div/div[1]/div/div[3]/li[12]/a')"
   ]
  },
  {
   "cell_type": "code",
   "execution_count": 74,
   "id": "6db3f104",
   "metadata": {},
   "outputs": [],
   "source": [
    "for page in range(start,end):\n",
    "    type_of_quotes_tags=driver.find_elements(By.XPATH, '//div[@class=\"tags\"]')\n",
    "    for i in type_of_quotes_tags:\n",
    "        type_of_quotes.append(i.text)\n",
    "    next_button=driver.find_elements(By.XPATH,'/html/body/div[1]/div[2]/div/div/div/div[1]/div/div[3]/li[12]/a')"
   ]
  },
  {
   "cell_type": "code",
   "execution_count": 75,
   "id": "a155d91d",
   "metadata": {},
   "outputs": [
    {
     "name": "stdout",
     "output_type": "stream",
     "text": [
      "1000 1000 1000\n"
     ]
    }
   ],
   "source": [
    "print(len(quote),len(author),len(type_of_quotes))"
   ]
  },
  {
   "cell_type": "code",
   "execution_count": 76,
   "id": "c158a3b1",
   "metadata": {},
   "outputs": [
    {
     "data": {
      "text/html": [
       "<div>\n",
       "<style scoped>\n",
       "    .dataframe tbody tr th:only-of-type {\n",
       "        vertical-align: middle;\n",
       "    }\n",
       "\n",
       "    .dataframe tbody tr th {\n",
       "        vertical-align: top;\n",
       "    }\n",
       "\n",
       "    .dataframe thead th {\n",
       "        text-align: right;\n",
       "    }\n",
       "</style>\n",
       "<table border=\"1\" class=\"dataframe\">\n",
       "  <thead>\n",
       "    <tr style=\"text-align: right;\">\n",
       "      <th></th>\n",
       "      <th>Quote</th>\n",
       "      <th>Author</th>\n",
       "      <th>Type_of_quotes</th>\n",
       "    </tr>\n",
       "  </thead>\n",
       "  <tbody>\n",
       "    <tr>\n",
       "      <th>0</th>\n",
       "      <td>The essence of strategy is choosing what not t...</td>\n",
       "      <td>Michael Porter</td>\n",
       "      <td>Essence, Deep Thought, Transcendentalism</td>\n",
       "    </tr>\n",
       "    <tr>\n",
       "      <th>1</th>\n",
       "      <td>One cannot and must not try to erase the past ...</td>\n",
       "      <td>Golda Meir</td>\n",
       "      <td>Inspiration, Past, Trying</td>\n",
       "    </tr>\n",
       "    <tr>\n",
       "      <th>2</th>\n",
       "      <td>Patriotism means to stand by the country. It d...</td>\n",
       "      <td>Theodore Roosevelt</td>\n",
       "      <td>Country, Peace, War</td>\n",
       "    </tr>\n",
       "    <tr>\n",
       "      <th>3</th>\n",
       "      <td>Death is something inevitable. When a man has ...</td>\n",
       "      <td>Nelson Mandela</td>\n",
       "      <td>Inspirational, Motivational, Death</td>\n",
       "    </tr>\n",
       "    <tr>\n",
       "      <th>4</th>\n",
       "      <td>You have to love a nation that celebrates its ...</td>\n",
       "      <td>Erma Bombeck</td>\n",
       "      <td>4th Of July, Food, Patriotic</td>\n",
       "    </tr>\n",
       "    <tr>\n",
       "      <th>...</th>\n",
       "      <td>...</td>\n",
       "      <td>...</td>\n",
       "      <td>...</td>\n",
       "    </tr>\n",
       "    <tr>\n",
       "      <th>995</th>\n",
       "      <td>When the going gets weird, the weird turn pro.</td>\n",
       "      <td>Hunter S. Thompson</td>\n",
       "      <td>Music, Sports, Hunting</td>\n",
       "    </tr>\n",
       "    <tr>\n",
       "      <th>996</th>\n",
       "      <td>When a train goes through a tunnel and it gets...</td>\n",
       "      <td>Corrie Ten Boom</td>\n",
       "      <td>Trust, Encouraging, Uplifting</td>\n",
       "    </tr>\n",
       "    <tr>\n",
       "      <th>997</th>\n",
       "      <td>If you think you are too small to make a diffe...</td>\n",
       "      <td>Dalai Lama</td>\n",
       "      <td>Inspirational, Funny, Change</td>\n",
       "    </tr>\n",
       "    <tr>\n",
       "      <th>998</th>\n",
       "      <td>God doesn't require us to succeed, he only req...</td>\n",
       "      <td>Mother Teresa</td>\n",
       "      <td>Success, God, Mother</td>\n",
       "    </tr>\n",
       "    <tr>\n",
       "      <th>999</th>\n",
       "      <td>Change your thoughts and you change your world.</td>\n",
       "      <td>Norman Vincent Peale</td>\n",
       "      <td>Inspirational, Motivational, Change</td>\n",
       "    </tr>\n",
       "  </tbody>\n",
       "</table>\n",
       "<p>1000 rows × 3 columns</p>\n",
       "</div>"
      ],
      "text/plain": [
       "                                                 Quote                Author  \\\n",
       "0    The essence of strategy is choosing what not t...        Michael Porter   \n",
       "1    One cannot and must not try to erase the past ...            Golda Meir   \n",
       "2    Patriotism means to stand by the country. It d...    Theodore Roosevelt   \n",
       "3    Death is something inevitable. When a man has ...        Nelson Mandela   \n",
       "4    You have to love a nation that celebrates its ...          Erma Bombeck   \n",
       "..                                                 ...                   ...   \n",
       "995     When the going gets weird, the weird turn pro.    Hunter S. Thompson   \n",
       "996  When a train goes through a tunnel and it gets...       Corrie Ten Boom   \n",
       "997  If you think you are too small to make a diffe...            Dalai Lama   \n",
       "998  God doesn't require us to succeed, he only req...         Mother Teresa   \n",
       "999    Change your thoughts and you change your world.  Norman Vincent Peale   \n",
       "\n",
       "                               Type_of_quotes  \n",
       "0    Essence, Deep Thought, Transcendentalism  \n",
       "1                   Inspiration, Past, Trying  \n",
       "2                         Country, Peace, War  \n",
       "3          Inspirational, Motivational, Death  \n",
       "4                4th Of July, Food, Patriotic  \n",
       "..                                        ...  \n",
       "995                    Music, Sports, Hunting  \n",
       "996             Trust, Encouraging, Uplifting  \n",
       "997              Inspirational, Funny, Change  \n",
       "998                      Success, God, Mother  \n",
       "999       Inspirational, Motivational, Change  \n",
       "\n",
       "[1000 rows x 3 columns]"
      ]
     },
     "execution_count": 76,
     "metadata": {},
     "output_type": "execute_result"
    }
   ],
   "source": [
    "#Finally create a dataframe of the scrapeddata:-\n",
    "\n",
    "df=pd.DataFrame({'Quote':quote,'Author':author,'Type_of_quotes':type_of_quotes})\n",
    "df"
   ]
  },
  {
   "cell_type": "code",
   "execution_count": null,
   "id": "2ed2a57b",
   "metadata": {},
   "outputs": [],
   "source": []
  },
  {
   "cell_type": "code",
   "execution_count": null,
   "id": "ed949779",
   "metadata": {},
   "outputs": [],
   "source": []
  },
  {
   "cell_type": "code",
   "execution_count": null,
   "id": "7f75acee",
   "metadata": {},
   "outputs": [],
   "source": [
    "#Question no. 9:- Write a python program to display list of respected former Prime Ministers of India(i.e. Name, Born-Dead,\n",
    "Term of office, Remarks) from https://www.jagranjosh.com/.\n",
    "This task will be done in following steps:\n",
    "1. First get the webpagehttps://www.jagranjosh.com/\n",
    "2. Then You have to click on the GK option\n",
    "3. Then click on the List of all Prime Ministers of India\n",
    "4. Then scrap the mentioned data and make theDataFrame.\n"
   ]
  },
  {
   "cell_type": "code",
   "execution_count": 1,
   "id": "b0a0a2a0",
   "metadata": {},
   "outputs": [],
   "source": [
    "import selenium\n",
    "import pandas as pd\n",
    "from selenium import webdriver\n",
    "import warnings\n",
    "warnings.filterwarnings('ignore')\n",
    "from selenium.webdriver.common.by import By\n",
    "import time\n",
    "from selenium.webdriver.support.ui import WebDriverWait\n",
    "from selenium.webdriver.support import expected_conditions as EC"
   ]
  },
  {
   "cell_type": "code",
   "execution_count": 2,
   "id": "be6731ab",
   "metadata": {},
   "outputs": [],
   "source": [
    "driver=webdriver.Chrome()"
   ]
  },
  {
   "cell_type": "code",
   "execution_count": 3,
   "id": "08a56628",
   "metadata": {},
   "outputs": [],
   "source": [
    "driver.get('https://www.jagranjosh.com/')"
   ]
  },
  {
   "cell_type": "code",
   "execution_count": 4,
   "id": "1908fc36",
   "metadata": {},
   "outputs": [],
   "source": [
    "search_GK=driver.find_elements(By.XPATH,'/html/body/div/header/nav/div/div/div[3]/ul/li[3]/a')"
   ]
  },
  {
   "cell_type": "code",
   "execution_count": 5,
   "id": "0b9e7fb8",
   "metadata": {},
   "outputs": [],
   "source": [
    "search_list=driver.find_elements(By.XPATH,'/html/body/div[1]/div[8]/section[5]/div[2]/ul/li[1]/article/h3/a')"
   ]
  },
  {
   "cell_type": "code",
   "execution_count": 31,
   "id": "38a62ec6",
   "metadata": {},
   "outputs": [],
   "source": [
    "name=[]\n",
    "born_dead=[]\n",
    "term_of_office=[]\n",
    "remarks=[]"
   ]
  },
  {
   "cell_type": "code",
   "execution_count": 32,
   "id": "bfee8ada",
   "metadata": {},
   "outputs": [],
   "source": [
    "name_tags=driver.find_elements(By.XPATH,'/html/body/div[1]/main/div[1]/div[1]/article/div[4]/div[3]/div/table/tbody/tr[3]/td[4]/p')\n",
    "for i in name_tags:\n",
    "    name.append(i.text)"
   ]
  },
  {
   "cell_type": "code",
   "execution_count": 33,
   "id": "f5fb3305",
   "metadata": {},
   "outputs": [
    {
     "name": "stdout",
     "output_type": "stream",
     "text": [
      "[]\n"
     ]
    }
   ],
   "source": [
    "print(name)"
   ]
  },
  {
   "cell_type": "code",
   "execution_count": null,
   "id": "e4fe03a7",
   "metadata": {},
   "outputs": [],
   "source": []
  },
  {
   "cell_type": "code",
   "execution_count": null,
   "id": "2b7978d4",
   "metadata": {},
   "outputs": [],
   "source": []
  },
  {
   "cell_type": "code",
   "execution_count": null,
   "id": "bff35a18",
   "metadata": {},
   "outputs": [],
   "source": [
    "#Question no. 10:- Write a python program to display list of 50 Most expensive cars in the world (i.e.\n",
    "Car name and Price) from https://www.motor1.com/\n",
    "This task will be done in following steps:\n",
    "1. First get the webpage https://www.motor1.com/\n",
    "2. Then You have to type in the search bar ’50 most expensive cars’\n",
    "3. Then click on 50 most expensive carsin the world..\n",
    "4. Then scrap the mentioned data and make the dataframe"
   ]
  },
  {
   "cell_type": "code",
   "execution_count": 14,
   "id": "f5c0957e",
   "metadata": {},
   "outputs": [],
   "source": [
    "import selenium\n",
    "import pandas as pd\n",
    "from selenium import webdriver\n",
    "import warnings\n",
    "warnings.filterwarnings('ignore')\n",
    "from selenium.webdriver.common.by import By\n",
    "import time"
   ]
  },
  {
   "cell_type": "code",
   "execution_count": 15,
   "id": "21aeaa84",
   "metadata": {},
   "outputs": [],
   "source": [
    "driver=webdriver.Chrome()"
   ]
  },
  {
   "cell_type": "code",
   "execution_count": 16,
   "id": "019d8d35",
   "metadata": {},
   "outputs": [],
   "source": [
    "driver.get('https://www.motor1.com/')"
   ]
  },
  {
   "cell_type": "code",
   "execution_count": 9,
   "id": "154215f5",
   "metadata": {},
   "outputs": [],
   "source": [
    "location=driver.find_element(By.XPATH, \"/html/body/div[10]/div[2]/div/div/div[3]/div/div/div/form/input \")\n",
    "location.send_keys('50 most expensive cars')"
   ]
  },
  {
   "cell_type": "code",
   "execution_count": 10,
   "id": "192cfa72",
   "metadata": {},
   "outputs": [],
   "source": [
    "search=driver.find_elements(By.CLASS_NAME, \"m1-search-form\")"
   ]
  },
  {
   "cell_type": "code",
   "execution_count": 11,
   "id": "2afc6f41",
   "metadata": {},
   "outputs": [],
   "source": [
    "click= driver.find_elements(By.XPATH,'/html/body/div[10]/div[9]/div/div[1]/div/div/div[2]/div/div[1]/h3/a')"
   ]
  },
  {
   "cell_type": "code",
   "execution_count": 27,
   "id": "031eea42",
   "metadata": {},
   "outputs": [],
   "source": [
    "name=[]\n",
    "price=[]"
   ]
  },
  {
   "cell_type": "code",
   "execution_count": 28,
   "id": "fb2cd4a7",
   "metadata": {},
   "outputs": [
    {
     "name": "stdout",
     "output_type": "stream",
     "text": [
      "['Aston Martin Valour', 'McLaren Elva', 'Czinger 21C', 'Ferrari Monza', 'Gordon Murray T.33', 'Koenigsegg Gemera', 'Zenvo TSR-S', 'Hennessey Venom F5', 'Bentley Bacalar', 'Hispano Suiza Carmen Boulogne', 'Bentley Mulliner Batur', 'Deus Vayanne', 'SSC Tuatara', 'Lotus Evija', 'Aston Martin Vulcan', 'Delage D12', 'Ferrari Daytona SP3', 'McLaren Speedtail', 'Rimac Nevera', 'Pagani Utopia', 'Pininfarina Battista', 'Gordon Murray T.50', 'Lamborghini Countach', 'Mercedes-AMG Project One', 'Zenvo Aurora', 'Aston Martin Victor', 'Hennessey Venom F5 Roadster', 'Koenigsegg Jesko', 'Aston Martin Valkyrie', 'W Motors Lykan Hypersport', 'McLaren Solus', 'Lamborghini Sian', 'Koenigsegg CC850', 'Bugatti Chiron Super Sport 300+', 'Lamborghini Veneno', 'Bugatti Bolide', 'Pininfarina B95 Speedster', 'Bugatti Mistral', 'Pagani Huayra Imola', 'Bugatti Divo', 'SP Automotive Chaos', 'Pagani Codalunga', '777 Hypercar', 'Mercedes-Maybach Exelero', 'Bugatti Centodieci', 'Bugatti Chiron Profilée', 'Rolls-Royce Sweptail', 'Bugatti La Voiture Noire', 'Rolls-Royce Boat Tail*', 'Rolls-Royce La Rose Noire Droptail', 'Most Expensive Cars In The World']\n"
     ]
    }
   ],
   "source": [
    "name_tags=driver.find_elements(By.XPATH, '//h3[@class=\"subheader\"]')\n",
    "for i in name_tags:\n",
    "    name.append(i.text)\n",
    "print(name)"
   ]
  },
  {
   "cell_type": "code",
   "execution_count": 29,
   "id": "92b466c5",
   "metadata": {},
   "outputs": [
    {
     "name": "stdout",
     "output_type": "stream",
     "text": [
      "['Price: $1.7 Million']\n"
     ]
    }
   ],
   "source": [
    "price_tags=driver.find_elements(By.XPATH,'/html/body/div[10]/div[7]/div[2]/div[1]/div[2]/div[2]/p[10]/strong')\n",
    "for i in price_tags:\n",
    "    price.append(i.text)\n",
    "print(price)"
   ]
  },
  {
   "cell_type": "code",
   "execution_count": 30,
   "id": "12a4dfb8",
   "metadata": {},
   "outputs": [
    {
     "name": "stdout",
     "output_type": "stream",
     "text": [
      "51 1\n"
     ]
    }
   ],
   "source": [
    "print(len(name),len(price))"
   ]
  },
  {
   "cell_type": "code",
   "execution_count": null,
   "id": "cac3c553",
   "metadata": {},
   "outputs": [],
   "source": [
    "[#cant find the class for 'Price'] in inspect."
   ]
  }
 ],
 "metadata": {
  "kernelspec": {
   "display_name": "Python 3 (ipykernel)",
   "language": "python",
   "name": "python3"
  },
  "language_info": {
   "codemirror_mode": {
    "name": "ipython",
    "version": 3
   },
   "file_extension": ".py",
   "mimetype": "text/x-python",
   "name": "python",
   "nbconvert_exporter": "python",
   "pygments_lexer": "ipython3",
   "version": "3.10.9"
  }
 },
 "nbformat": 4,
 "nbformat_minor": 5
}
